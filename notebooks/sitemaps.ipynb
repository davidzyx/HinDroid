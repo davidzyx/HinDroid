{
 "cells": [
  {
   "cell_type": "code",
   "execution_count": 1,
   "metadata": {},
   "outputs": [],
   "source": [
    "import pandas as pd\n",
    "import requests\n",
    "import gzip\n",
    "from tqdm import tqdm\n",
    "import io\n",
    "import xml.etree.ElementTree as ET\n",
    "import re\n",
    "from sqlalchemy import create_engine\n",
    "\n",
    "from tqdm import tqdm"
   ]
  },
  {
   "cell_type": "code",
   "execution_count": 2,
   "metadata": {},
   "outputs": [],
   "source": [
    "# !pip install multiprocess --user\n",
    "from multiprocess import Pool\n",
    "\n",
    "# !pip install pyarrow --user"
   ]
  },
  {
   "cell_type": "code",
   "execution_count": 3,
   "metadata": {},
   "outputs": [],
   "source": [
    "# !pip install line_profiler\n",
    "# %load_ext line_profiler"
   ]
  },
  {
   "cell_type": "code",
   "execution_count": null,
   "metadata": {},
   "outputs": [],
   "source": []
  },
  {
   "cell_type": "code",
   "execution_count": 4,
   "metadata": {},
   "outputs": [],
   "source": [
    "r = requests.get('https://apkpure.com/sitemap.xml').content"
   ]
  },
  {
   "cell_type": "code",
   "execution_count": 5,
   "metadata": {},
   "outputs": [],
   "source": [
    "fp = io.StringIO(r.decode())\n",
    "root = ET.parse(fp).getroot()\n",
    "urls = [c[0].text for c in root]\n",
    "urls = [u for u in urls if not ('default' in u or 'topics' in u or 'tag' in u or 'group' in u)]"
   ]
  },
  {
   "cell_type": "markdown",
   "metadata": {},
   "source": [
    "### XML file sizes"
   ]
  },
  {
   "cell_type": "code",
   "execution_count": 6,
   "metadata": {},
   "outputs": [],
   "source": [
    "# def extract_size(sitemap_url):\n",
    "#     try:\n",
    "#         r = requests.get(sitemap_url, stream=True).headers['Content-length']\n",
    "#     except:\n",
    "#         print('error', sitemap_url)\n",
    "#         return pd.DataFrame()\n",
    "    \n",
    "#     return r\n",
    "# with Pool(32) as p:\n",
    "#     ls = list(tqdm(p.imap_unordered(extract_size, urls), total=len(urls)))\n",
    "\n",
    "# print('ok')\n",
    "\n",
    "\n",
    "# len(ls)  # 7774\n",
    "# sum(int(i) for i in df_list) / 1e9  # 2.35G"
   ]
  },
  {
   "cell_type": "code",
   "execution_count": null,
   "metadata": {},
   "outputs": [],
   "source": []
  },
  {
   "cell_type": "code",
   "execution_count": null,
   "metadata": {},
   "outputs": [],
   "source": []
  },
  {
   "cell_type": "code",
   "execution_count": 7,
   "metadata": {},
   "outputs": [],
   "source": [
    "def extract_apps(sitemap_url):\n",
    "    try:\n",
    "        r = requests.get(sitemap_url).content\n",
    "    except:\n",
    "        print('error', sitemap_url)\n",
    "        return pd.DataFrame()\n",
    "    \n",
    "    fp = io.StringIO(gzip.decompress(r).decode())\n",
    "    sitemap_root = ET.parse(fp).getroot()\n",
    "    apps = list(sitemap_root)\n",
    "    apps = [app for app in apps if 'image' in app[4].tag]\n",
    "    \n",
    "    df = pd.DataFrame({\n",
    "        'url': [a[0].text for a in apps],\n",
    "        'lastmod': [a[1].text for a in apps],\n",
    "#         'changefreq': [a[2].text for a in apps],\n",
    "#         'priority': [a[3].text for a in apps],\n",
    "#         'image_loc': [a[4][0].text for a in apps],\n",
    "        'name': [a[4][1].text for a in apps],\n",
    "    })\n",
    "    df.lastmod = pd.to_datetime(df.lastmod)\n",
    "#     df.priority = pd.to_numeric(df.priority)\n",
    "#     df['sitemap_url'] = sitemap_url\n",
    "    df['category'] = re.search('(\\w+)', sitemap_url.split('/')[-1]).groups()[0]\n",
    "    \n",
    "    return df"
   ]
  },
  {
   "cell_type": "code",
   "execution_count": 8,
   "metadata": {},
   "outputs": [
    {
     "name": "stderr",
     "output_type": "stream",
     "text": [
      "100%|██████████| 7774/7774 [09:08<00:00, 14.18it/s]\n"
     ]
    },
    {
     "name": "stdout",
     "output_type": "stream",
     "text": [
      "ok\n"
     ]
    }
   ],
   "source": [
    "with Pool(16) as p:\n",
    "    df_list = list(tqdm(p.imap_unordered(extract_apps, urls), total=len(urls)))\n",
    "\n",
    "print('ok')\n",
    "metadata = pd.concat(df_list, ignore_index=True)"
   ]
  },
  {
   "cell_type": "code",
   "execution_count": 9,
   "metadata": {},
   "outputs": [],
   "source": [
    "# %lprun -f extract_apps [extract_apps(url) for url in urls[:20]]"
   ]
  },
  {
   "cell_type": "code",
   "execution_count": 10,
   "metadata": {},
   "outputs": [
    {
     "data": {
      "text/plain": [
       "(7744702, 4)"
      ]
     },
     "execution_count": 10,
     "metadata": {},
     "output_type": "execute_result"
    }
   ],
   "source": [
    "metadata.shape"
   ]
  },
  {
   "cell_type": "markdown",
   "metadata": {},
   "source": [
    "## Cleaning and Processing"
   ]
  },
  {
   "cell_type": "code",
   "execution_count": 11,
   "metadata": {},
   "outputs": [
    {
     "data": {
      "text/html": [
       "<div>\n",
       "<style scoped>\n",
       "    .dataframe tbody tr th:only-of-type {\n",
       "        vertical-align: middle;\n",
       "    }\n",
       "\n",
       "    .dataframe tbody tr th {\n",
       "        vertical-align: top;\n",
       "    }\n",
       "\n",
       "    .dataframe thead th {\n",
       "        text-align: right;\n",
       "    }\n",
       "</style>\n",
       "<table border=\"1\" class=\"dataframe\">\n",
       "  <thead>\n",
       "    <tr style=\"text-align: right;\">\n",
       "      <th></th>\n",
       "      <th>url</th>\n",
       "      <th>lastmod</th>\n",
       "      <th>name</th>\n",
       "      <th>category</th>\n",
       "    </tr>\n",
       "  </thead>\n",
       "  <tbody>\n",
       "    <tr>\n",
       "      <th>0</th>\n",
       "      <td>https://apkpure.com/diy-bookshelf-design/com.D...</td>\n",
       "      <td>2017-04-07 20:20:28+00:00</td>\n",
       "      <td>DIY Bookshelf Design</td>\n",
       "      <td>art_and_design</td>\n",
       "    </tr>\n",
       "    <tr>\n",
       "      <th>1</th>\n",
       "      <td>https://apkpure.com/diy-bracelet-tutorials/com...</td>\n",
       "      <td>2017-03-24 13:59:31+00:00</td>\n",
       "      <td>DIY Bracelet Tutorials</td>\n",
       "      <td>art_and_design</td>\n",
       "    </tr>\n",
       "    <tr>\n",
       "      <th>2</th>\n",
       "      <td>https://apkpure.com/wpap-design-ideas/com.wpap...</td>\n",
       "      <td>2018-05-13 11:52:38+00:00</td>\n",
       "      <td>WPAP Design Ideas</td>\n",
       "      <td>art_and_design</td>\n",
       "    </tr>\n",
       "    <tr>\n",
       "      <th>3</th>\n",
       "      <td>https://apkpure.com/kids-jigsaw-puzzles-wooden...</td>\n",
       "      <td>2019-02-23 16:13:34+00:00</td>\n",
       "      <td>Kids jigsaw puzzles - Wooden puzzle</td>\n",
       "      <td>art_and_design</td>\n",
       "    </tr>\n",
       "    <tr>\n",
       "      <th>4</th>\n",
       "      <td>https://apkpure.com/text-on-photo-editor/ccom....</td>\n",
       "      <td>2017-01-10 17:14:35+00:00</td>\n",
       "      <td>Text on Photo Editor</td>\n",
       "      <td>art_and_design</td>\n",
       "    </tr>\n",
       "  </tbody>\n",
       "</table>\n",
       "</div>"
      ],
      "text/plain": [
       "                                                 url  \\\n",
       "0  https://apkpure.com/diy-bookshelf-design/com.D...   \n",
       "1  https://apkpure.com/diy-bracelet-tutorials/com...   \n",
       "2  https://apkpure.com/wpap-design-ideas/com.wpap...   \n",
       "3  https://apkpure.com/kids-jigsaw-puzzles-wooden...   \n",
       "4  https://apkpure.com/text-on-photo-editor/ccom....   \n",
       "\n",
       "                    lastmod                                 name  \\\n",
       "0 2017-04-07 20:20:28+00:00                 DIY Bookshelf Design   \n",
       "1 2017-03-24 13:59:31+00:00               DIY Bracelet Tutorials   \n",
       "2 2018-05-13 11:52:38+00:00                    WPAP Design Ideas   \n",
       "3 2019-02-23 16:13:34+00:00  Kids jigsaw puzzles - Wooden puzzle   \n",
       "4 2017-01-10 17:14:35+00:00                 Text on Photo Editor   \n",
       "\n",
       "         category  \n",
       "0  art_and_design  \n",
       "1  art_and_design  \n",
       "2  art_and_design  \n",
       "3  art_and_design  \n",
       "4  art_and_design  "
      ]
     },
     "execution_count": 11,
     "metadata": {},
     "output_type": "execute_result"
    }
   ],
   "source": [
    "metadata.head()"
   ]
  },
  {
   "cell_type": "code",
   "execution_count": 12,
   "metadata": {},
   "outputs": [
    {
     "data": {
      "text/plain": [
       "True"
      ]
     },
     "execution_count": 12,
     "metadata": {},
     "output_type": "execute_result"
    }
   ],
   "source": [
    "any(metadata.url.duplicated())"
   ]
  },
  {
   "cell_type": "code",
   "execution_count": 13,
   "metadata": {},
   "outputs": [
    {
     "data": {
      "text/html": [
       "<div>\n",
       "<style scoped>\n",
       "    .dataframe tbody tr th:only-of-type {\n",
       "        vertical-align: middle;\n",
       "    }\n",
       "\n",
       "    .dataframe tbody tr th {\n",
       "        vertical-align: top;\n",
       "    }\n",
       "\n",
       "    .dataframe thead th {\n",
       "        text-align: right;\n",
       "    }\n",
       "</style>\n",
       "<table border=\"1\" class=\"dataframe\">\n",
       "  <thead>\n",
       "    <tr style=\"text-align: right;\">\n",
       "      <th></th>\n",
       "      <th>url</th>\n",
       "      <th>lastmod</th>\n",
       "      <th>name</th>\n",
       "      <th>category</th>\n",
       "    </tr>\n",
       "  </thead>\n",
       "  <tbody>\n",
       "    <tr>\n",
       "      <th>1125304</th>\n",
       "      <td>https://apkpure.com/vendetta-miami-police-simu...</td>\n",
       "      <td>2019-05-17 11:24:48+00:00</td>\n",
       "      <td>Vendetta Miami Police Simulator 2019</td>\n",
       "      <td>comics</td>\n",
       "    </tr>\n",
       "    <tr>\n",
       "      <th>6553267</th>\n",
       "      <td>https://apkpure.com/vendetta-miami-police-simu...</td>\n",
       "      <td>2019-05-17 11:24:48+00:00</td>\n",
       "      <td>Vendetta Miami Police Simulator 2019</td>\n",
       "      <td>game_action</td>\n",
       "    </tr>\n",
       "  </tbody>\n",
       "</table>\n",
       "</div>"
      ],
      "text/plain": [
       "                                                       url  \\\n",
       "1125304  https://apkpure.com/vendetta-miami-police-simu...   \n",
       "6553267  https://apkpure.com/vendetta-miami-police-simu...   \n",
       "\n",
       "                          lastmod                                  name  \\\n",
       "1125304 2019-05-17 11:24:48+00:00  Vendetta Miami Police Simulator 2019   \n",
       "6553267 2019-05-17 11:24:48+00:00  Vendetta Miami Police Simulator 2019   \n",
       "\n",
       "            category  \n",
       "1125304       comics  \n",
       "6553267  game_action  "
      ]
     },
     "execution_count": 13,
     "metadata": {},
     "output_type": "execute_result"
    }
   ],
   "source": [
    "metadata[(metadata['name'] == 'Vendetta Miami Police Simulator 2019')]"
   ]
  },
  {
   "cell_type": "code",
   "execution_count": 14,
   "metadata": {},
   "outputs": [],
   "source": [
    "metadata = metadata[~(\n",
    "    (metadata['name'] == 'Vendetta Miami Police Simulator 2019') & (metadata['category'] == 'comics')\n",
    ")]"
   ]
  },
  {
   "cell_type": "code",
   "execution_count": 15,
   "metadata": {},
   "outputs": [
    {
     "data": {
      "text/html": [
       "<div>\n",
       "<style scoped>\n",
       "    .dataframe tbody tr th:only-of-type {\n",
       "        vertical-align: middle;\n",
       "    }\n",
       "\n",
       "    .dataframe tbody tr th {\n",
       "        vertical-align: top;\n",
       "    }\n",
       "\n",
       "    .dataframe thead th {\n",
       "        text-align: right;\n",
       "    }\n",
       "</style>\n",
       "<table border=\"1\" class=\"dataframe\">\n",
       "  <thead>\n",
       "    <tr style=\"text-align: right;\">\n",
       "      <th></th>\n",
       "      <th>url</th>\n",
       "      <th>lastmod</th>\n",
       "      <th>name</th>\n",
       "      <th>category</th>\n",
       "    </tr>\n",
       "  </thead>\n",
       "  <tbody>\n",
       "    <tr>\n",
       "      <th>6553267</th>\n",
       "      <td>https://apkpure.com/vendetta-miami-police-simu...</td>\n",
       "      <td>2019-05-17 11:24:48+00:00</td>\n",
       "      <td>Vendetta Miami Police Simulator 2019</td>\n",
       "      <td>game_action</td>\n",
       "    </tr>\n",
       "  </tbody>\n",
       "</table>\n",
       "</div>"
      ],
      "text/plain": [
       "                                                       url  \\\n",
       "6553267  https://apkpure.com/vendetta-miami-police-simu...   \n",
       "\n",
       "                          lastmod                                  name  \\\n",
       "6553267 2019-05-17 11:24:48+00:00  Vendetta Miami Police Simulator 2019   \n",
       "\n",
       "            category  \n",
       "6553267  game_action  "
      ]
     },
     "execution_count": 15,
     "metadata": {},
     "output_type": "execute_result"
    }
   ],
   "source": [
    "metadata[(metadata['name'] == 'Vendetta Miami Police Simulator 2019')]"
   ]
  },
  {
   "cell_type": "code",
   "execution_count": 16,
   "metadata": {},
   "outputs": [
    {
     "data": {
      "text/plain": [
       "(7744701, 4)"
      ]
     },
     "execution_count": 16,
     "metadata": {},
     "output_type": "execute_result"
    }
   ],
   "source": [
    "metadata.shape"
   ]
  },
  {
   "cell_type": "code",
   "execution_count": 17,
   "metadata": {},
   "outputs": [
    {
     "data": {
      "text/html": [
       "<div>\n",
       "<style scoped>\n",
       "    .dataframe tbody tr th:only-of-type {\n",
       "        vertical-align: middle;\n",
       "    }\n",
       "\n",
       "    .dataframe tbody tr th {\n",
       "        vertical-align: top;\n",
       "    }\n",
       "\n",
       "    .dataframe thead th {\n",
       "        text-align: right;\n",
       "    }\n",
       "</style>\n",
       "<table border=\"1\" class=\"dataframe\">\n",
       "  <thead>\n",
       "    <tr style=\"text-align: right;\">\n",
       "      <th></th>\n",
       "      <th>domain</th>\n",
       "      <th>name_slug</th>\n",
       "      <th>package</th>\n",
       "    </tr>\n",
       "  </thead>\n",
       "  <tbody>\n",
       "    <tr>\n",
       "      <th>0</th>\n",
       "      <td>https://apkpure.com</td>\n",
       "      <td>diy-bookshelf-design</td>\n",
       "      <td>com.DIYBookshelfDesign.vanessastudio</td>\n",
       "    </tr>\n",
       "    <tr>\n",
       "      <th>1</th>\n",
       "      <td>https://apkpure.com</td>\n",
       "      <td>diy-bracelet-tutorials</td>\n",
       "      <td>com.DIYBraceletTutorial.vanessastudio</td>\n",
       "    </tr>\n",
       "    <tr>\n",
       "      <th>2</th>\n",
       "      <td>https://apkpure.com</td>\n",
       "      <td>wpap-design-ideas</td>\n",
       "      <td>com.wpap.anonymais</td>\n",
       "    </tr>\n",
       "    <tr>\n",
       "      <th>3</th>\n",
       "      <td>https://apkpure.com</td>\n",
       "      <td>kids-jigsaw-puzzles-wooden-puzzle</td>\n",
       "      <td>com.color.pokemon</td>\n",
       "    </tr>\n",
       "    <tr>\n",
       "      <th>4</th>\n",
       "      <td>https://apkpure.com</td>\n",
       "      <td>text-on-photo-editor</td>\n",
       "      <td>ccom.textonphotos.writeonphoto.free</td>\n",
       "    </tr>\n",
       "  </tbody>\n",
       "</table>\n",
       "</div>"
      ],
      "text/plain": [
       "                domain                          name_slug  \\\n",
       "0  https://apkpure.com               diy-bookshelf-design   \n",
       "1  https://apkpure.com             diy-bracelet-tutorials   \n",
       "2  https://apkpure.com                  wpap-design-ideas   \n",
       "3  https://apkpure.com  kids-jigsaw-puzzles-wooden-puzzle   \n",
       "4  https://apkpure.com               text-on-photo-editor   \n",
       "\n",
       "                                 package  \n",
       "0   com.DIYBookshelfDesign.vanessastudio  \n",
       "1  com.DIYBraceletTutorial.vanessastudio  \n",
       "2                     com.wpap.anonymais  \n",
       "3                      com.color.pokemon  \n",
       "4    ccom.textonphotos.writeonphoto.free  "
      ]
     },
     "execution_count": 17,
     "metadata": {},
     "output_type": "execute_result"
    }
   ],
   "source": [
    "more_data = metadata['url'].str.rsplit('/', n=2, expand=True) \\\n",
    "    .rename(columns=dict(zip(range(3), ['domain', 'name_slug', 'package'])))\n",
    "more_data.head()"
   ]
  },
  {
   "cell_type": "code",
   "execution_count": 18,
   "metadata": {},
   "outputs": [],
   "source": [
    "metadata = pd.concat([metadata, more_data], axis=1)"
   ]
  },
  {
   "cell_type": "code",
   "execution_count": 19,
   "metadata": {},
   "outputs": [],
   "source": [
    "metadata = metadata.drop(columns=['domain', 'url'])"
   ]
  },
  {
   "cell_type": "code",
   "execution_count": 20,
   "metadata": {},
   "outputs": [
    {
     "data": {
      "text/html": [
       "<div>\n",
       "<style scoped>\n",
       "    .dataframe tbody tr th:only-of-type {\n",
       "        vertical-align: middle;\n",
       "    }\n",
       "\n",
       "    .dataframe tbody tr th {\n",
       "        vertical-align: top;\n",
       "    }\n",
       "\n",
       "    .dataframe thead th {\n",
       "        text-align: right;\n",
       "    }\n",
       "</style>\n",
       "<table border=\"1\" class=\"dataframe\">\n",
       "  <thead>\n",
       "    <tr style=\"text-align: right;\">\n",
       "      <th></th>\n",
       "      <th>lastmod</th>\n",
       "      <th>name</th>\n",
       "      <th>category</th>\n",
       "      <th>name_slug</th>\n",
       "      <th>package</th>\n",
       "    </tr>\n",
       "  </thead>\n",
       "  <tbody>\n",
       "    <tr>\n",
       "      <th>0</th>\n",
       "      <td>2017-04-07 20:20:28+00:00</td>\n",
       "      <td>DIY Bookshelf Design</td>\n",
       "      <td>art_and_design</td>\n",
       "      <td>diy-bookshelf-design</td>\n",
       "      <td>com.DIYBookshelfDesign.vanessastudio</td>\n",
       "    </tr>\n",
       "    <tr>\n",
       "      <th>1</th>\n",
       "      <td>2017-03-24 13:59:31+00:00</td>\n",
       "      <td>DIY Bracelet Tutorials</td>\n",
       "      <td>art_and_design</td>\n",
       "      <td>diy-bracelet-tutorials</td>\n",
       "      <td>com.DIYBraceletTutorial.vanessastudio</td>\n",
       "    </tr>\n",
       "    <tr>\n",
       "      <th>2</th>\n",
       "      <td>2018-05-13 11:52:38+00:00</td>\n",
       "      <td>WPAP Design Ideas</td>\n",
       "      <td>art_and_design</td>\n",
       "      <td>wpap-design-ideas</td>\n",
       "      <td>com.wpap.anonymais</td>\n",
       "    </tr>\n",
       "    <tr>\n",
       "      <th>3</th>\n",
       "      <td>2019-02-23 16:13:34+00:00</td>\n",
       "      <td>Kids jigsaw puzzles - Wooden puzzle</td>\n",
       "      <td>art_and_design</td>\n",
       "      <td>kids-jigsaw-puzzles-wooden-puzzle</td>\n",
       "      <td>com.color.pokemon</td>\n",
       "    </tr>\n",
       "    <tr>\n",
       "      <th>4</th>\n",
       "      <td>2017-01-10 17:14:35+00:00</td>\n",
       "      <td>Text on Photo Editor</td>\n",
       "      <td>art_and_design</td>\n",
       "      <td>text-on-photo-editor</td>\n",
       "      <td>ccom.textonphotos.writeonphoto.free</td>\n",
       "    </tr>\n",
       "  </tbody>\n",
       "</table>\n",
       "</div>"
      ],
      "text/plain": [
       "                    lastmod                                 name  \\\n",
       "0 2017-04-07 20:20:28+00:00                 DIY Bookshelf Design   \n",
       "1 2017-03-24 13:59:31+00:00               DIY Bracelet Tutorials   \n",
       "2 2018-05-13 11:52:38+00:00                    WPAP Design Ideas   \n",
       "3 2019-02-23 16:13:34+00:00  Kids jigsaw puzzles - Wooden puzzle   \n",
       "4 2017-01-10 17:14:35+00:00                 Text on Photo Editor   \n",
       "\n",
       "         category                          name_slug  \\\n",
       "0  art_and_design               diy-bookshelf-design   \n",
       "1  art_and_design             diy-bracelet-tutorials   \n",
       "2  art_and_design                  wpap-design-ideas   \n",
       "3  art_and_design  kids-jigsaw-puzzles-wooden-puzzle   \n",
       "4  art_and_design               text-on-photo-editor   \n",
       "\n",
       "                                 package  \n",
       "0   com.DIYBookshelfDesign.vanessastudio  \n",
       "1  com.DIYBraceletTutorial.vanessastudio  \n",
       "2                     com.wpap.anonymais  \n",
       "3                      com.color.pokemon  \n",
       "4    ccom.textonphotos.writeonphoto.free  "
      ]
     },
     "execution_count": 20,
     "metadata": {},
     "output_type": "execute_result"
    }
   ],
   "source": [
    "metadata.head()"
   ]
  },
  {
   "cell_type": "code",
   "execution_count": 21,
   "metadata": {},
   "outputs": [],
   "source": [
    "metadata = metadata.reset_index(drop=True)[['package', 'name', 'category', 'name_slug', 'lastmod']]"
   ]
  },
  {
   "cell_type": "code",
   "execution_count": 22,
   "metadata": {},
   "outputs": [
    {
     "data": {
      "text/html": [
       "<div>\n",
       "<style scoped>\n",
       "    .dataframe tbody tr th:only-of-type {\n",
       "        vertical-align: middle;\n",
       "    }\n",
       "\n",
       "    .dataframe tbody tr th {\n",
       "        vertical-align: top;\n",
       "    }\n",
       "\n",
       "    .dataframe thead th {\n",
       "        text-align: right;\n",
       "    }\n",
       "</style>\n",
       "<table border=\"1\" class=\"dataframe\">\n",
       "  <thead>\n",
       "    <tr style=\"text-align: right;\">\n",
       "      <th></th>\n",
       "      <th>package</th>\n",
       "      <th>name</th>\n",
       "      <th>category</th>\n",
       "      <th>name_slug</th>\n",
       "      <th>lastmod</th>\n",
       "    </tr>\n",
       "  </thead>\n",
       "  <tbody>\n",
       "  </tbody>\n",
       "</table>\n",
       "</div>"
      ],
      "text/plain": [
       "Empty DataFrame\n",
       "Columns: [package, name, category, name_slug, lastmod]\n",
       "Index: []"
      ]
     },
     "execution_count": 22,
     "metadata": {},
     "output_type": "execute_result"
    }
   ],
   "source": [
    "metadata[metadata[['name', 'package']].duplicated()]"
   ]
  },
  {
   "cell_type": "code",
   "execution_count": 23,
   "metadata": {},
   "outputs": [
    {
     "data": {
      "text/plain": [
       "package      0\n",
       "name         0\n",
       "category     0\n",
       "name_slug    0\n",
       "lastmod      0\n",
       "dtype: int64"
      ]
     },
     "execution_count": 23,
     "metadata": {},
     "output_type": "execute_result"
    }
   ],
   "source": [
    "metadata.isna().sum(axis=0)"
   ]
  },
  {
   "cell_type": "code",
   "execution_count": null,
   "metadata": {},
   "outputs": [],
   "source": []
  },
  {
   "cell_type": "code",
   "execution_count": null,
   "metadata": {},
   "outputs": [],
   "source": []
  },
  {
   "cell_type": "code",
   "execution_count": 33,
   "metadata": {},
   "outputs": [
    {
     "data": {
      "text/plain": [
       "(7744701, 5)"
      ]
     },
     "execution_count": 33,
     "metadata": {},
     "output_type": "execute_result"
    }
   ],
   "source": [
    "metadata.shape"
   ]
  },
  {
   "cell_type": "code",
   "execution_count": 24,
   "metadata": {},
   "outputs": [
    {
     "name": "stdout",
     "output_type": "stream",
     "text": [
      "CPU times: user 1min 13s, sys: 2.14 s, total: 1min 15s\n",
      "Wall time: 1min 16s\n"
     ]
    }
   ],
   "source": [
    "%time metadata.to_csv('../data/metadata.csv', index=False)"
   ]
  },
  {
   "cell_type": "code",
   "execution_count": 25,
   "metadata": {},
   "outputs": [],
   "source": []
  },
  {
   "cell_type": "code",
   "execution_count": 26,
   "metadata": {},
   "outputs": [
    {
     "name": "stdout",
     "output_type": "stream",
     "text": [
      "CPU times: user 2.92 s, sys: 2.75 s, total: 5.68 s\n",
      "Wall time: 6.05 s\n"
     ]
    }
   ],
   "source": [
    "%time metadata.to_feather('../data/metadata.feather')"
   ]
  },
  {
   "cell_type": "code",
   "execution_count": 27,
   "metadata": {},
   "outputs": [
    {
     "name": "stdout",
     "output_type": "stream",
     "text": [
      "CPU times: user 6.92 s, sys: 1.32 s, total: 8.24 s\n",
      "Wall time: 8.5 s\n"
     ]
    }
   ],
   "source": [
    "%time metadata.to_parquet('../data/metadata.parquet', engine='pyarrow')"
   ]
  },
  {
   "cell_type": "code",
   "execution_count": null,
   "metadata": {},
   "outputs": [],
   "source": []
  },
  {
   "cell_type": "code",
   "execution_count": 28,
   "metadata": {},
   "outputs": [],
   "source": [
    "engine = create_engine('sqlite:///../data/apkpure.db', echo=False)"
   ]
  },
  {
   "cell_type": "code",
   "execution_count": 31,
   "metadata": {},
   "outputs": [
    {
     "name": "stdout",
     "output_type": "stream",
     "text": [
      "CPU times: user 1min 25s, sys: 6.22 s, total: 1min 32s\n",
      "Wall time: 1min 33s\n"
     ]
    }
   ],
   "source": [
    "%time metadata.to_sql('apps', con=engine, if_exists='replace', chunksize=2000)"
   ]
  },
  {
   "cell_type": "code",
   "execution_count": null,
   "metadata": {},
   "outputs": [],
   "source": []
  }
 ],
 "metadata": {
  "kernelspec": {
   "display_name": "Python 3",
   "language": "python",
   "name": "python3"
  },
  "language_info": {
   "codemirror_mode": {
    "name": "ipython",
    "version": 3
   },
   "file_extension": ".py",
   "mimetype": "text/x-python",
   "name": "python",
   "nbconvert_exporter": "python",
   "pygments_lexer": "ipython3",
   "version": "3.7.1"
  }
 },
 "nbformat": 4,
 "nbformat_minor": 2
}
