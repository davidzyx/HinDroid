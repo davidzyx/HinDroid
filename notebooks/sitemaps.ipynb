{
 "cells": [
  {
   "cell_type": "code",
   "execution_count": 11,
   "metadata": {},
   "outputs": [],
   "source": [
    "import pandas as pd\n",
    "import requests\n",
    "import gzip\n",
    "from tqdm import tqdm\n",
    "import io\n",
    "import xml.etree.ElementTree as ET\n",
    "import re\n",
    "\n",
    "from tqdm import tqdm"
   ]
  },
  {
   "cell_type": "code",
   "execution_count": 2,
   "metadata": {},
   "outputs": [],
   "source": [
    "# !pip install multiprocess --user\n",
    "from multiprocess import Pool"
   ]
  },
  {
   "cell_type": "code",
   "execution_count": 3,
   "metadata": {},
   "outputs": [],
   "source": [
    "# !pip install line_profiler\n",
    "# %load_ext line_profiler"
   ]
  },
  {
   "cell_type": "code",
   "execution_count": null,
   "metadata": {},
   "outputs": [],
   "source": []
  },
  {
   "cell_type": "code",
   "execution_count": 4,
   "metadata": {},
   "outputs": [],
   "source": [
    "r = requests.get('https://apkpure.com/sitemap.xml').content"
   ]
  },
  {
   "cell_type": "code",
   "execution_count": 5,
   "metadata": {},
   "outputs": [],
   "source": [
    "fp = io.StringIO(r.decode())\n",
    "root = ET.parse(fp).getroot()\n",
    "urls = [c[0].text for c in root]\n",
    "urls = [u for u in urls if not ('default' in u or 'topics' in u or 'tag' in u or 'group' in u)]"
   ]
  },
  {
   "cell_type": "code",
   "execution_count": null,
   "metadata": {},
   "outputs": [],
   "source": []
  },
  {
   "cell_type": "code",
   "execution_count": 6,
   "metadata": {},
   "outputs": [],
   "source": [
    "def extract_apps(sitemap_url):\n",
    "    try:\n",
    "        r = requests.get(sitemap_url).content\n",
    "    except:\n",
    "        print('error', sitemap_url)\n",
    "        return pd.DataFrame()\n",
    "    \n",
    "    fp = io.StringIO(gzip.decompress(r).decode())\n",
    "    sitemap_root = ET.parse(fp).getroot()\n",
    "    apps = list(sitemap_root)\n",
    "    apps = [app for app in apps if 'image' in app[4].tag]\n",
    "    \n",
    "    df = pd.DataFrame({\n",
    "        'loc': [a[0].text for a in apps],\n",
    "        'lastmod': [a[1].text for a in apps],\n",
    "        'changefreq': [a[2].text for a in apps],\n",
    "        'priority': [a[3].text for a in apps],\n",
    "        'image_loc': [a[4][0].text for a in apps],\n",
    "        'name': [a[4][1].text for a in apps],\n",
    "    })\n",
    "    df.lastmod = pd.to_datetime(df.lastmod)\n",
    "    df.priority = pd.to_numeric(df.priority)\n",
    "    df['sitemap_url'] = sitemap_url\n",
    "    df['category'] = re.search('(\\w+)', sitemap_url.split('/')[-1]).groups()[0]\n",
    "    \n",
    "    return df"
   ]
  },
  {
   "cell_type": "code",
   "execution_count": 7,
   "metadata": {},
   "outputs": [
    {
     "name": "stderr",
     "output_type": "stream",
     "text": [
      "100%|██████████| 7774/7774 [08:32<00:00,  9.81it/s]\n"
     ]
    },
    {
     "name": "stdout",
     "output_type": "stream",
     "text": [
      "ok\n"
     ]
    }
   ],
   "source": [
    "with Pool(32) as p:\n",
    "    df_list = list(tqdm(p.imap_unordered(extract_apps, urls), total=len(urls)))\n",
    "\n",
    "print('ok')\n",
    "metadata = pd.concat(df_list, ignore_index=True)"
   ]
  },
  {
   "cell_type": "code",
   "execution_count": 8,
   "metadata": {},
   "outputs": [],
   "source": [
    "# %lprun -f extract_apps [extract_apps(url) for url in urls[:20]]"
   ]
  },
  {
   "cell_type": "code",
   "execution_count": 9,
   "metadata": {},
   "outputs": [
    {
     "data": {
      "text/plain": [
       "(7744702, 8)"
      ]
     },
     "execution_count": 9,
     "metadata": {},
     "output_type": "execute_result"
    }
   ],
   "source": [
    "metadata.shape"
   ]
  },
  {
   "cell_type": "code",
   "execution_count": 12,
   "metadata": {},
   "outputs": [],
   "source": [
    "metadata.to_csv('../data/metadata.csv')"
   ]
  },
  {
   "cell_type": "code",
   "execution_count": null,
   "metadata": {},
   "outputs": [],
   "source": []
  }
 ],
 "metadata": {
  "kernelspec": {
   "display_name": "Python 3",
   "language": "python",
   "name": "python3"
  },
  "language_info": {
   "codemirror_mode": {
    "name": "ipython",
    "version": 3
   },
   "file_extension": ".py",
   "mimetype": "text/x-python",
   "name": "python",
   "nbconvert_exporter": "python",
   "pygments_lexer": "ipython3",
   "version": "3.7.3"
  }
 },
 "nbformat": 4,
 "nbformat_minor": 2
}
