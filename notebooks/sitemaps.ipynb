{
 "cells": [
  {
   "cell_type": "code",
   "execution_count": 1,
   "metadata": {},
   "outputs": [],
   "source": [
    "import pandas as pd\n",
    "import requests\n",
    "import gzip\n",
    "from tqdm import tqdm\n",
    "import io\n",
    "import xml.etree.ElementTree as ET\n",
    "import re\n",
    "\n",
    "from tqdm import tqdm"
   ]
  },
  {
   "cell_type": "code",
   "execution_count": 2,
   "metadata": {},
   "outputs": [],
   "source": [
    "# !pip install multiprocess --user\n",
    "from multiprocess import Pool"
   ]
  },
  {
   "cell_type": "code",
   "execution_count": 3,
   "metadata": {},
   "outputs": [],
   "source": [
    "# !pip install line_profiler\n",
    "# %load_ext line_profiler"
   ]
  },
  {
   "cell_type": "code",
   "execution_count": null,
   "metadata": {},
   "outputs": [],
   "source": []
  },
  {
   "cell_type": "code",
   "execution_count": 4,
   "metadata": {},
   "outputs": [],
   "source": [
    "r = requests.get('https://apkpure.com/sitemap.xml').content"
   ]
  },
  {
   "cell_type": "code",
   "execution_count": 5,
   "metadata": {},
   "outputs": [],
   "source": [
    "fp = io.StringIO(r.decode())\n",
    "root = ET.parse(fp).getroot()\n",
    "urls = [c[0].text for c in root]\n",
    "urls = [u for u in urls if not ('default' in u or 'topics' in u or 'tag' in u or 'group' in u)]"
   ]
  },
  {
   "cell_type": "code",
   "execution_count": null,
   "metadata": {},
   "outputs": [],
   "source": []
  },
  {
   "cell_type": "code",
   "execution_count": 6,
   "metadata": {},
   "outputs": [],
   "source": [
    "def extract_apps(sitemap_url):\n",
    "    try:\n",
    "        r = requests.get(sitemap_url).content\n",
    "    except:\n",
    "        print('error', sitemap_url)\n",
    "        return pd.DataFrame()\n",
    "    \n",
    "    fp = io.StringIO(gzip.decompress(r).decode())\n",
    "    sitemap_root = ET.parse(fp).getroot()\n",
    "    apps = list(sitemap_root)\n",
    "    apps = [app for app in apps if 'image' in app[4].tag]\n",
    "    \n",
    "    df = pd.DataFrame({\n",
    "        'url': [a[0].text for a in apps],\n",
    "        'lastmod': [a[1].text for a in apps],\n",
    "        'changefreq': [a[2].text for a in apps],\n",
    "        'priority': [a[3].text for a in apps],\n",
    "        'image_loc': [a[4][0].text for a in apps],\n",
    "        'name': [a[4][1].text for a in apps],\n",
    "    })\n",
    "    df.lastmod = pd.to_datetime(df.lastmod)\n",
    "    df.priority = pd.to_numeric(df.priority)\n",
    "    df['sitemap_url'] = sitemap_url\n",
    "    df['category'] = re.search('(\\w+)', sitemap_url.split('/')[-1]).groups()[0]\n",
    "    \n",
    "    return df"
   ]
  },
  {
   "cell_type": "code",
   "execution_count": 7,
   "metadata": {},
   "outputs": [
    {
     "name": "stderr",
     "output_type": "stream",
     "text": [
      "100%|██████████| 7774/7774 [06:52<00:00, 18.85it/s]\n"
     ]
    },
    {
     "name": "stdout",
     "output_type": "stream",
     "text": [
      "ok\n"
     ]
    }
   ],
   "source": [
    "with Pool(32) as p:\n",
    "    df_list = list(tqdm(p.imap_unordered(extract_apps, urls), total=len(urls)))\n",
    "\n",
    "print('ok')\n",
    "metadata = pd.concat(df_list, ignore_index=True)"
   ]
  },
  {
   "cell_type": "code",
   "execution_count": 8,
   "metadata": {},
   "outputs": [],
   "source": [
    "# %lprun -f extract_apps [extract_apps(url) for url in urls[:20]]"
   ]
  },
  {
   "cell_type": "code",
   "execution_count": 9,
   "metadata": {},
   "outputs": [
    {
     "data": {
      "text/plain": [
       "(7744702, 8)"
      ]
     },
     "execution_count": 9,
     "metadata": {},
     "output_type": "execute_result"
    }
   ],
   "source": [
    "metadata.shape"
   ]
  },
  {
   "cell_type": "markdown",
   "metadata": {},
   "source": [
    "## Cleaning"
   ]
  },
  {
   "cell_type": "code",
   "execution_count": 10,
   "metadata": {},
   "outputs": [
    {
     "data": {
      "text/plain": [
       "True"
      ]
     },
     "execution_count": 10,
     "metadata": {},
     "output_type": "execute_result"
    }
   ],
   "source": [
    "any(metadata.url.duplicated())"
   ]
  },
  {
   "cell_type": "code",
   "execution_count": 11,
   "metadata": {},
   "outputs": [
    {
     "data": {
      "text/html": [
       "<div>\n",
       "<style scoped>\n",
       "    .dataframe tbody tr th:only-of-type {\n",
       "        vertical-align: middle;\n",
       "    }\n",
       "\n",
       "    .dataframe tbody tr th {\n",
       "        vertical-align: top;\n",
       "    }\n",
       "\n",
       "    .dataframe thead th {\n",
       "        text-align: right;\n",
       "    }\n",
       "</style>\n",
       "<table border=\"1\" class=\"dataframe\">\n",
       "  <thead>\n",
       "    <tr style=\"text-align: right;\">\n",
       "      <th></th>\n",
       "      <th>url</th>\n",
       "      <th>lastmod</th>\n",
       "      <th>changefreq</th>\n",
       "      <th>priority</th>\n",
       "      <th>image_loc</th>\n",
       "      <th>name</th>\n",
       "      <th>sitemap_url</th>\n",
       "      <th>category</th>\n",
       "    </tr>\n",
       "  </thead>\n",
       "  <tbody>\n",
       "    <tr>\n",
       "      <th>1125303</th>\n",
       "      <td>https://apkpure.com/vendetta-miami-police-simu...</td>\n",
       "      <td>2019-05-17 11:24:48+00:00</td>\n",
       "      <td>weekly</td>\n",
       "      <td>0.6</td>\n",
       "      <td>https://image.winudf.com/v2/image1/Y29tLmZvcnR...</td>\n",
       "      <td>Vendetta Miami Police Simulator 2019</td>\n",
       "      <td>https://apkpure.com/sitemaps/comics-15.xml.gz</td>\n",
       "      <td>comics</td>\n",
       "    </tr>\n",
       "    <tr>\n",
       "      <th>6551267</th>\n",
       "      <td>https://apkpure.com/vendetta-miami-police-simu...</td>\n",
       "      <td>2019-05-17 11:24:48+00:00</td>\n",
       "      <td>weekly</td>\n",
       "      <td>0.6</td>\n",
       "      <td>https://image.winudf.com/v2/image1/Y29tLmZvcnR...</td>\n",
       "      <td>Vendetta Miami Police Simulator 2019</td>\n",
       "      <td>https://apkpure.com/sitemaps/game_action-97.xm...</td>\n",
       "      <td>game_action</td>\n",
       "    </tr>\n",
       "  </tbody>\n",
       "</table>\n",
       "</div>"
      ],
      "text/plain": [
       "                                                       url  \\\n",
       "1125303  https://apkpure.com/vendetta-miami-police-simu...   \n",
       "6551267  https://apkpure.com/vendetta-miami-police-simu...   \n",
       "\n",
       "                          lastmod changefreq  priority  \\\n",
       "1125303 2019-05-17 11:24:48+00:00     weekly       0.6   \n",
       "6551267 2019-05-17 11:24:48+00:00     weekly       0.6   \n",
       "\n",
       "                                                 image_loc  \\\n",
       "1125303  https://image.winudf.com/v2/image1/Y29tLmZvcnR...   \n",
       "6551267  https://image.winudf.com/v2/image1/Y29tLmZvcnR...   \n",
       "\n",
       "                                         name  \\\n",
       "1125303  Vendetta Miami Police Simulator 2019   \n",
       "6551267  Vendetta Miami Police Simulator 2019   \n",
       "\n",
       "                                               sitemap_url     category  \n",
       "1125303      https://apkpure.com/sitemaps/comics-15.xml.gz       comics  \n",
       "6551267  https://apkpure.com/sitemaps/game_action-97.xm...  game_action  "
      ]
     },
     "execution_count": 11,
     "metadata": {},
     "output_type": "execute_result"
    }
   ],
   "source": [
    "metadata[(metadata['name'] == 'Vendetta Miami Police Simulator 2019')]"
   ]
  },
  {
   "cell_type": "code",
   "execution_count": 12,
   "metadata": {},
   "outputs": [],
   "source": [
    "metadata = metadata[~(\n",
    "    (metadata['name'] == 'Vendetta Miami Police Simulator 2019') & (metadata['category'] == 'comics')\n",
    ")]"
   ]
  },
  {
   "cell_type": "code",
   "execution_count": 13,
   "metadata": {},
   "outputs": [
    {
     "data": {
      "text/html": [
       "<div>\n",
       "<style scoped>\n",
       "    .dataframe tbody tr th:only-of-type {\n",
       "        vertical-align: middle;\n",
       "    }\n",
       "\n",
       "    .dataframe tbody tr th {\n",
       "        vertical-align: top;\n",
       "    }\n",
       "\n",
       "    .dataframe thead th {\n",
       "        text-align: right;\n",
       "    }\n",
       "</style>\n",
       "<table border=\"1\" class=\"dataframe\">\n",
       "  <thead>\n",
       "    <tr style=\"text-align: right;\">\n",
       "      <th></th>\n",
       "      <th>url</th>\n",
       "      <th>lastmod</th>\n",
       "      <th>changefreq</th>\n",
       "      <th>priority</th>\n",
       "      <th>image_loc</th>\n",
       "      <th>name</th>\n",
       "      <th>sitemap_url</th>\n",
       "      <th>category</th>\n",
       "    </tr>\n",
       "  </thead>\n",
       "  <tbody>\n",
       "    <tr>\n",
       "      <th>6551267</th>\n",
       "      <td>https://apkpure.com/vendetta-miami-police-simu...</td>\n",
       "      <td>2019-05-17 11:24:48+00:00</td>\n",
       "      <td>weekly</td>\n",
       "      <td>0.6</td>\n",
       "      <td>https://image.winudf.com/v2/image1/Y29tLmZvcnR...</td>\n",
       "      <td>Vendetta Miami Police Simulator 2019</td>\n",
       "      <td>https://apkpure.com/sitemaps/game_action-97.xm...</td>\n",
       "      <td>game_action</td>\n",
       "    </tr>\n",
       "  </tbody>\n",
       "</table>\n",
       "</div>"
      ],
      "text/plain": [
       "                                                       url  \\\n",
       "6551267  https://apkpure.com/vendetta-miami-police-simu...   \n",
       "\n",
       "                          lastmod changefreq  priority  \\\n",
       "6551267 2019-05-17 11:24:48+00:00     weekly       0.6   \n",
       "\n",
       "                                                 image_loc  \\\n",
       "6551267  https://image.winudf.com/v2/image1/Y29tLmZvcnR...   \n",
       "\n",
       "                                         name  \\\n",
       "6551267  Vendetta Miami Police Simulator 2019   \n",
       "\n",
       "                                               sitemap_url     category  \n",
       "6551267  https://apkpure.com/sitemaps/game_action-97.xm...  game_action  "
      ]
     },
     "execution_count": 13,
     "metadata": {},
     "output_type": "execute_result"
    }
   ],
   "source": [
    "metadata[(metadata['name'] == 'Vendetta Miami Police Simulator 2019')]"
   ]
  },
  {
   "cell_type": "code",
   "execution_count": 14,
   "metadata": {},
   "outputs": [
    {
     "data": {
      "text/plain": [
       "(7744701, 8)"
      ]
     },
     "execution_count": 14,
     "metadata": {},
     "output_type": "execute_result"
    }
   ],
   "source": [
    "metadata.shape"
   ]
  },
  {
   "cell_type": "code",
   "execution_count": 15,
   "metadata": {},
   "outputs": [
    {
     "data": {
      "text/html": [
       "<div>\n",
       "<style scoped>\n",
       "    .dataframe tbody tr th:only-of-type {\n",
       "        vertical-align: middle;\n",
       "    }\n",
       "\n",
       "    .dataframe tbody tr th {\n",
       "        vertical-align: top;\n",
       "    }\n",
       "\n",
       "    .dataframe thead th {\n",
       "        text-align: right;\n",
       "    }\n",
       "</style>\n",
       "<table border=\"1\" class=\"dataframe\">\n",
       "  <thead>\n",
       "    <tr style=\"text-align: right;\">\n",
       "      <th></th>\n",
       "      <th>domain</th>\n",
       "      <th>name_slug</th>\n",
       "      <th>dev</th>\n",
       "    </tr>\n",
       "  </thead>\n",
       "  <tbody>\n",
       "    <tr>\n",
       "      <th>0</th>\n",
       "      <td>https://apkpure.com</td>\n",
       "      <td>wallpaper-i-love-cats-theme</td>\n",
       "      <td>jp.co.a_tm.android.plus_i_love_cats</td>\n",
       "    </tr>\n",
       "    <tr>\n",
       "      <th>1</th>\n",
       "      <td>https://apkpure.com</td>\n",
       "      <td>%D9%82%D9%81%D9%84-%D8%A7%D9%84%D9%87%D8%A7%D8...</td>\n",
       "      <td>com.zamalek.lockscreen.app</td>\n",
       "    </tr>\n",
       "    <tr>\n",
       "      <th>2</th>\n",
       "      <td>https://apkpure.com</td>\n",
       "      <td>doll-making</td>\n",
       "      <td>com.craftsapps.dollmaking</td>\n",
       "    </tr>\n",
       "    <tr>\n",
       "      <th>3</th>\n",
       "      <td>https://apkpure.com</td>\n",
       "      <td>how-to-draw-villians</td>\n",
       "      <td>com.drawvilains.villainsdraw</td>\n",
       "    </tr>\n",
       "    <tr>\n",
       "      <th>4</th>\n",
       "      <td>https://apkpure.com</td>\n",
       "      <td>christmas-wallpaper-theme</td>\n",
       "      <td>dq.christmas.hdwallpaper</td>\n",
       "    </tr>\n",
       "  </tbody>\n",
       "</table>\n",
       "</div>"
      ],
      "text/plain": [
       "                domain                                          name_slug  \\\n",
       "0  https://apkpure.com                        wallpaper-i-love-cats-theme   \n",
       "1  https://apkpure.com  %D9%82%D9%81%D9%84-%D8%A7%D9%84%D9%87%D8%A7%D8...   \n",
       "2  https://apkpure.com                                        doll-making   \n",
       "3  https://apkpure.com                               how-to-draw-villians   \n",
       "4  https://apkpure.com                          christmas-wallpaper-theme   \n",
       "\n",
       "                                   dev  \n",
       "0  jp.co.a_tm.android.plus_i_love_cats  \n",
       "1           com.zamalek.lockscreen.app  \n",
       "2            com.craftsapps.dollmaking  \n",
       "3         com.drawvilains.villainsdraw  \n",
       "4             dq.christmas.hdwallpaper  "
      ]
     },
     "execution_count": 15,
     "metadata": {},
     "output_type": "execute_result"
    }
   ],
   "source": [
    "more_data = metadata['url'].str.rsplit('/', n=2, expand=True) \\\n",
    "    .rename(columns=dict(zip(range(3), ['domain', 'name_slug', 'dev'])))\n",
    "more_data.head()"
   ]
  },
  {
   "cell_type": "code",
   "execution_count": 16,
   "metadata": {},
   "outputs": [],
   "source": [
    "metadata = pd.concat([metadata, more_data], axis=1).drop(columns='domain')"
   ]
  },
  {
   "cell_type": "code",
   "execution_count": 17,
   "metadata": {},
   "outputs": [
    {
     "data": {
      "text/html": [
       "<div>\n",
       "<style scoped>\n",
       "    .dataframe tbody tr th:only-of-type {\n",
       "        vertical-align: middle;\n",
       "    }\n",
       "\n",
       "    .dataframe tbody tr th {\n",
       "        vertical-align: top;\n",
       "    }\n",
       "\n",
       "    .dataframe thead th {\n",
       "        text-align: right;\n",
       "    }\n",
       "</style>\n",
       "<table border=\"1\" class=\"dataframe\">\n",
       "  <thead>\n",
       "    <tr style=\"text-align: right;\">\n",
       "      <th></th>\n",
       "      <th>url</th>\n",
       "      <th>lastmod</th>\n",
       "      <th>changefreq</th>\n",
       "      <th>priority</th>\n",
       "      <th>image_loc</th>\n",
       "      <th>name</th>\n",
       "      <th>sitemap_url</th>\n",
       "      <th>category</th>\n",
       "      <th>name_slug</th>\n",
       "      <th>dev</th>\n",
       "    </tr>\n",
       "  </thead>\n",
       "  <tbody>\n",
       "  </tbody>\n",
       "</table>\n",
       "</div>"
      ],
      "text/plain": [
       "Empty DataFrame\n",
       "Columns: [url, lastmod, changefreq, priority, image_loc, name, sitemap_url, category, name_slug, dev]\n",
       "Index: []"
      ]
     },
     "execution_count": 17,
     "metadata": {},
     "output_type": "execute_result"
    }
   ],
   "source": [
    "metadata[metadata[['name', 'dev']].duplicated()]"
   ]
  },
  {
   "cell_type": "code",
   "execution_count": null,
   "metadata": {},
   "outputs": [],
   "source": []
  },
  {
   "cell_type": "code",
   "execution_count": null,
   "metadata": {},
   "outputs": [],
   "source": []
  },
  {
   "cell_type": "code",
   "execution_count": null,
   "metadata": {},
   "outputs": [],
   "source": []
  },
  {
   "cell_type": "code",
   "execution_count": null,
   "metadata": {},
   "outputs": [],
   "source": []
  },
  {
   "cell_type": "code",
   "execution_count": null,
   "metadata": {},
   "outputs": [],
   "source": []
  },
  {
   "cell_type": "code",
   "execution_count": 18,
   "metadata": {},
   "outputs": [],
   "source": [
    "metadata.to_csv('../data/metadata.csv', index=False)"
   ]
  },
  {
   "cell_type": "code",
   "execution_count": null,
   "metadata": {},
   "outputs": [],
   "source": []
  },
  {
   "cell_type": "code",
   "execution_count": null,
   "metadata": {},
   "outputs": [],
   "source": []
  },
  {
   "cell_type": "code",
   "execution_count": null,
   "metadata": {},
   "outputs": [],
   "source": []
  },
  {
   "cell_type": "code",
   "execution_count": null,
   "metadata": {},
   "outputs": [],
   "source": []
  },
  {
   "cell_type": "code",
   "execution_count": null,
   "metadata": {},
   "outputs": [],
   "source": []
  },
  {
   "cell_type": "code",
   "execution_count": null,
   "metadata": {},
   "outputs": [],
   "source": []
  }
 ],
 "metadata": {
  "kernelspec": {
   "display_name": "Python 3",
   "language": "python",
   "name": "python3"
  },
  "language_info": {
   "codemirror_mode": {
    "name": "ipython",
    "version": 3
   },
   "file_extension": ".py",
   "mimetype": "text/x-python",
   "name": "python",
   "nbconvert_exporter": "python",
   "pygments_lexer": "ipython3",
   "version": "3.7.3"
  }
 },
 "nbformat": 4,
 "nbformat_minor": 2
}
