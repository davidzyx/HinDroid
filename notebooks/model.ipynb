{
 "cells": [
  {
   "cell_type": "code",
   "execution_count": 16,
   "metadata": {},
   "outputs": [],
   "source": [
    "import pandas as pd\n",
    "from glob import glob\n",
    "import numpy as np\n",
    "from scipy import sparse"
   ]
  },
  {
   "cell_type": "code",
   "execution_count": 2,
   "metadata": {},
   "outputs": [],
   "source": [
    "import sys, os\n",
    "sys.path.insert(0, os.path.abspath('../'))"
   ]
  },
  {
   "cell_type": "code",
   "execution_count": 5,
   "metadata": {},
   "outputs": [],
   "source": [
    "from src.features.smali import SmaliHIN"
   ]
  },
  {
   "cell_type": "code",
   "execution_count": 17,
   "metadata": {},
   "outputs": [
    {
     "data": {
      "text/plain": [
       "['/Volumes/Lexar/processed/P.npz',\n",
       " '/Volumes/Lexar/processed/B.npz',\n",
       " '/Volumes/Lexar/processed/meta.csv',\n",
       " '/Volumes/Lexar/processed/A.npy']"
      ]
     },
     "execution_count": 17,
     "metadata": {},
     "output_type": "execute_result"
    }
   ],
   "source": [
    "glob('/Volumes/Lexar/processed/*')"
   ]
  },
  {
   "cell_type": "code",
   "execution_count": 21,
   "metadata": {},
   "outputs": [],
   "source": [
    "P_fp, B_fp, meta_fp, A_fp = glob('/Volumes/Lexar/processed/*')"
   ]
  },
  {
   "cell_type": "code",
   "execution_count": 22,
   "metadata": {},
   "outputs": [
    {
     "name": "stdout",
     "output_type": "stream",
     "text": [
      "CPU times: user 1.95 ms, sys: 9.01 s, total: 9.01 s\n",
      "Wall time: 29.9 s\n"
     ]
    }
   ],
   "source": [
    "%time A_mat = np.load(A_fp)"
   ]
  },
  {
   "cell_type": "code",
   "execution_count": 23,
   "metadata": {},
   "outputs": [],
   "source": [
    "A_mat = sparse.csr_matrix(A_mat)"
   ]
  },
  {
   "cell_type": "code",
   "execution_count": 24,
   "metadata": {},
   "outputs": [
    {
     "data": {
      "text/plain": [
       "<662x1409841 sparse matrix of type '<class 'numpy.longlong'>'\n",
       "\twith 8539727 stored elements in Compressed Sparse Row format>"
      ]
     },
     "execution_count": 24,
     "metadata": {},
     "output_type": "execute_result"
    }
   ],
   "source": [
    "A_mat"
   ]
  },
  {
   "cell_type": "code",
   "execution_count": 8,
   "metadata": {},
   "outputs": [],
   "source": [
    "B_mat = sparse.load_npz(B_fp)\n",
    "P_mat = sparse.load_npz(P_fp)"
   ]
  },
  {
   "cell_type": "code",
   "execution_count": 9,
   "metadata": {},
   "outputs": [
    {
     "name": "stdout",
     "output_type": "stream",
     "text": [
      "CPU times: user 115 ms, sys: 17.4 ms, total: 133 ms\n",
      "Wall time: 132 ms\n"
     ]
    }
   ],
   "source": [
    "%time mtp0 = A_mat.dot(B_mat).dot(A_mat.T)"
   ]
  },
  {
   "cell_type": "code",
   "execution_count": 10,
   "metadata": {},
   "outputs": [
    {
     "data": {
      "text/plain": [
       "matrix([[ 379632,  301067,  479981,  669551,  903743,    5247,  456796,\n",
       "          578733,  632767,  792286],\n",
       "        [ 301067,  406640,  462838,  683327,  980311,    6950,  410097,\n",
       "          576105,  651733,  863117],\n",
       "        [ 479981,  462838,  739842,  899197, 1224792,    8247,  588380,\n",
       "          777808,  883019, 1108724],\n",
       "        [ 669551,  683327,  899197, 1686389, 1923602,   12266,  890226,\n",
       "         1240172, 1312728, 1746709],\n",
       "        [ 903743,  980311, 1224792, 1923602, 3295457,   17159, 1167250,\n",
       "         1590223, 1658548, 2179150],\n",
       "        [   5247,    6950,    8247,   12266,   17159,    5133,    7273,\n",
       "            9874,   11376,   16384],\n",
       "        [ 456796,  410097,  588380,  890226, 1167250,    7273,  628773,\n",
       "          783502,  797569, 1036259],\n",
       "        [ 578733,  576105,  777808, 1240172, 1590223,    9874,  783502,\n",
       "         1176002, 1121682, 1437120],\n",
       "        [ 632767,  651733,  883019, 1312728, 1658548,   11376,  797569,\n",
       "         1121682, 1562840, 1524456],\n",
       "        [ 792286,  863117, 1108724, 1746709, 2179150,   16384, 1036259,\n",
       "         1437120, 1524456, 2542764]], dtype=int64)"
      ]
     },
     "execution_count": 10,
     "metadata": {},
     "output_type": "execute_result"
    }
   ],
   "source": [
    "mtp0.todense()"
   ]
  },
  {
   "cell_type": "code",
   "execution_count": 11,
   "metadata": {},
   "outputs": [
    {
     "name": "stdout",
     "output_type": "stream",
     "text": [
      "CPU times: user 49.9 ms, sys: 5.3 ms, total: 55.2 ms\n",
      "Wall time: 53.7 ms\n"
     ]
    }
   ],
   "source": [
    "%time mtp1 = A_mat.dot(P_mat).dot(A_mat.T)"
   ]
  },
  {
   "cell_type": "code",
   "execution_count": 12,
   "metadata": {},
   "outputs": [
    {
     "data": {
      "text/plain": [
       "matrix([[ 479610,  113101,  504926,  606065,  684912,    1314,  562478,\n",
       "          654242,  564254,  610314],\n",
       "        [ 113101,  189670,  154808,  282921,  291490,    1248,  213495,\n",
       "          258657,  213665,  294432],\n",
       "        [ 504926,  154808,  642758,  690068,  776894,    1644,  603748,\n",
       "          718772,  646286,  724223],\n",
       "        [ 606065,  282921,  690068, 2231337, 1945225,    1927,  971079,\n",
       "         1451271, 1247155, 1948868],\n",
       "        [ 684912,  291490,  776894, 1945225, 3745027,    2154, 1085531,\n",
       "         1602493, 1196638, 1955694],\n",
       "        [   1314,    1248,    1644,    1927,    2154,    2179,    1499,\n",
       "            1907,    1925,    2148],\n",
       "        [ 562478,  213495,  603748,  971079, 1085531,    1499,  931271,\n",
       "         1037347,  761556,  977619],\n",
       "        [ 654242,  258657,  718772, 1451271, 1602493,    1907, 1037347,\n",
       "         1577420, 1089420, 1466432],\n",
       "        [ 564254,  213665,  646286, 1247155, 1196638,    1925,  761556,\n",
       "         1089420, 1414376, 1290901],\n",
       "        [ 610314,  294432,  724223, 1948868, 1955694,    2148,  977619,\n",
       "         1466432, 1290901, 2591134]], dtype=int64)"
      ]
     },
     "execution_count": 12,
     "metadata": {},
     "output_type": "execute_result"
    }
   ],
   "source": [
    "mtp1.todense()"
   ]
  },
  {
   "cell_type": "code",
   "execution_count": 13,
   "metadata": {},
   "outputs": [
    {
     "name": "stdout",
     "output_type": "stream",
     "text": [
      "CPU times: user 357 ms, sys: 21.4 ms, total: 378 ms\n",
      "Wall time: 378 ms\n"
     ]
    }
   ],
   "source": [
    "# APBP^TA^T\n",
    "%time mtp2 = A_mat*P_mat*B_mat*P_mat.T*A_mat.T"
   ]
  },
  {
   "cell_type": "code",
   "execution_count": 14,
   "metadata": {},
   "outputs": [
    {
     "data": {
      "text/plain": [
       "matrix([[24223400184,  9603665842, 26437080965, 42104382080, 42628202096,\n",
       "            40179462, 31395021697, 38655246769, 36635108459, 42432305601],\n",
       "        [ 9603665842,  7239907377, 11701966113, 20645797624, 21654210592,\n",
       "            36391148, 14366848138, 18520867721, 17158349367, 21241672460],\n",
       "        [26437080965, 11701966113, 29750567624, 47335430164, 48386534097,\n",
       "            53695902, 34637789813, 43184263335, 41407092103, 47988445257],\n",
       "        [42104382080, 20645797624, 47335430164, 86811207564, 87962268629,\n",
       "            78149555, 58908984023, 75857402495, 69523322360, 87478430750],\n",
       "        [42628202096, 21654210592, 48386534097, 87962268629, 91780432333,\n",
       "            86471744, 59721686487, 77015091295, 70743703167, 89015244486],\n",
       "        [   40179462,    36391148,    53695902,    78149555,    86471744,\n",
       "              859077,    54829314,    72285776,    72684048,    84095506],\n",
       "        [31395021697, 14366848138, 34637789813, 58908984023, 59721686487,\n",
       "            54829314, 43660683026, 54031775388, 49052321111, 59378919065],\n",
       "        [38655246769, 18520867721, 43184263335, 75857402495, 77015091295,\n",
       "            72285776, 54031775388, 69537892264, 63264874977, 76606921911],\n",
       "        [36635108459, 17158349367, 41407092103, 69523322360, 70743703167,\n",
       "            72684048, 49052321111, 63264874977, 60896568918, 70444947873],\n",
       "        [42432305601, 21241672460, 47988445257, 87478430750, 89015244486,\n",
       "            84095506, 59378919065, 76606921911, 70444947873, 88869570081]],\n",
       "       dtype=int64)"
      ]
     },
     "execution_count": 14,
     "metadata": {},
     "output_type": "execute_result"
    }
   ],
   "source": [
    "mtp2.todense()"
   ]
  },
  {
   "cell_type": "code",
   "execution_count": null,
   "metadata": {},
   "outputs": [],
   "source": []
  },
  {
   "cell_type": "code",
   "execution_count": null,
   "metadata": {},
   "outputs": [],
   "source": []
  }
 ],
 "metadata": {
  "kernelspec": {
   "display_name": "Python [conda env:dsc180]",
   "language": "python",
   "name": "conda-env-dsc180-py"
  },
  "language_info": {
   "codemirror_mode": {
    "name": "ipython",
    "version": 3
   },
   "file_extension": ".py",
   "mimetype": "text/x-python",
   "name": "python",
   "nbconvert_exporter": "python",
   "pygments_lexer": "ipython3",
   "version": "3.8.1"
  }
 },
 "nbformat": 4,
 "nbformat_minor": 2
}
