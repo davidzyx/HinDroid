{
 "cells": [
  {
   "cell_type": "code",
   "execution_count": 1,
   "metadata": {},
   "outputs": [],
   "source": [
    "import pandas as pd"
   ]
  },
  {
   "cell_type": "code",
   "execution_count": 2,
   "metadata": {},
   "outputs": [],
   "source": [
    "df = pd.read_csv('../data/metadata.csv')"
   ]
  },
  {
   "cell_type": "code",
   "execution_count": 3,
   "metadata": {},
   "outputs": [
    {
     "data": {
      "text/plain": [
       "Unnamed: 0       int64\n",
       "loc             object\n",
       "lastmod         object\n",
       "changefreq      object\n",
       "priority       float64\n",
       "image_loc       object\n",
       "name            object\n",
       "sitemap_url     object\n",
       "category        object\n",
       "dtype: object"
      ]
     },
     "execution_count": 3,
     "metadata": {},
     "output_type": "execute_result"
    }
   ],
   "source": [
    "df.dtypes"
   ]
  },
  {
   "cell_type": "code",
   "execution_count": 4,
   "metadata": {},
   "outputs": [
    {
     "data": {
      "text/plain": [
       "(7744701, 9)"
      ]
     },
     "execution_count": 4,
     "metadata": {},
     "output_type": "execute_result"
    }
   ],
   "source": [
    "df.shape"
   ]
  },
  {
   "cell_type": "code",
   "execution_count": 5,
   "metadata": {
    "scrolled": true
   },
   "outputs": [
    {
     "data": {
      "text/plain": [
       "https://apkpure.com/makeup-mirror/com.softappstudio.mirror.makeup                                      1\n",
       "https://apkpure.com/cher-poisk/ru.gorodor.cherpoisk                                                    1\n",
       "https://apkpure.com/park-street-church/io.echurch.parkstreetbrethren                                   1\n",
       "https://apkpure.com/santo-domingo-radio/com.Mushfiq.SantoDomingoRadio                                  1\n",
       "https://apkpure.com/imagenes-de-amor-para-dedicar/com.appsrentables.plataforma.android5aebbf17de378    1\n",
       "                                                                                                      ..\n",
       "https://apkpure.com/cva-moerdijk-2019/com.appbuilder.u3254508p3316026                                  1\n",
       "https://apkpure.com/joropeando-online/com.capa7_joropeando.radio                                       1\n",
       "https://apkpure.com/bjj-drilling-notebook/com.mv.bjjdrillingapp                                        1\n",
       "https://apkpure.com/yamada-elf-wallpaper/com.liveanimegirl.yamadaelfwallpaper                          1\n",
       "https://apkpure.com/schauinsland/com.gruenecho.schauinsland                                            1\n",
       "Name: loc, Length: 7744701, dtype: int64"
      ]
     },
     "execution_count": 5,
     "metadata": {},
     "output_type": "execute_result"
    }
   ],
   "source": [
    "df['loc'].value_counts()"
   ]
  },
  {
   "cell_type": "code",
   "execution_count": 33,
   "metadata": {},
   "outputs": [
    {
     "data": {
      "text/html": [
       "<div>\n",
       "<style scoped>\n",
       "    .dataframe tbody tr th:only-of-type {\n",
       "        vertical-align: middle;\n",
       "    }\n",
       "\n",
       "    .dataframe tbody tr th {\n",
       "        vertical-align: top;\n",
       "    }\n",
       "\n",
       "    .dataframe thead th {\n",
       "        text-align: right;\n",
       "    }\n",
       "</style>\n",
       "<table border=\"1\" class=\"dataframe\">\n",
       "  <thead>\n",
       "    <tr style=\"text-align: right;\">\n",
       "      <th></th>\n",
       "      <th>loc</th>\n",
       "      <th>lastmod</th>\n",
       "      <th>changefreq</th>\n",
       "      <th>priority</th>\n",
       "      <th>image_loc</th>\n",
       "      <th>name</th>\n",
       "      <th>sitemap_url</th>\n",
       "      <th>category</th>\n",
       "    </tr>\n",
       "  </thead>\n",
       "  <tbody>\n",
       "    <tr>\n",
       "      <th>1119304</th>\n",
       "      <td>https://apkpure.com/vendetta-miami-police-simu...</td>\n",
       "      <td>2019-05-17 11:24:48+00:00</td>\n",
       "      <td>weekly</td>\n",
       "      <td>0.6</td>\n",
       "      <td>https://image.winudf.com/v2/image1/Y29tLmZvcnR...</td>\n",
       "      <td>Vendetta Miami Police Simulator 2019</td>\n",
       "      <td>https://apkpure.com/sitemaps/comics-15.xml.gz</td>\n",
       "      <td>comics</td>\n",
       "    </tr>\n",
       "    <tr>\n",
       "      <th>6554267</th>\n",
       "      <td>https://apkpure.com/vendetta-miami-police-simu...</td>\n",
       "      <td>2019-05-17 11:24:48+00:00</td>\n",
       "      <td>weekly</td>\n",
       "      <td>0.6</td>\n",
       "      <td>https://image.winudf.com/v2/image1/Y29tLmZvcnR...</td>\n",
       "      <td>Vendetta Miami Police Simulator 2019</td>\n",
       "      <td>https://apkpure.com/sitemaps/game_action-97.xm...</td>\n",
       "      <td>game_action</td>\n",
       "    </tr>\n",
       "  </tbody>\n",
       "</table>\n",
       "</div>"
      ],
      "text/plain": [
       "                                                       loc  \\\n",
       "1119304  https://apkpure.com/vendetta-miami-police-simu...   \n",
       "6554267  https://apkpure.com/vendetta-miami-police-simu...   \n",
       "\n",
       "                           lastmod changefreq  priority  \\\n",
       "1119304  2019-05-17 11:24:48+00:00     weekly       0.6   \n",
       "6554267  2019-05-17 11:24:48+00:00     weekly       0.6   \n",
       "\n",
       "                                                 image_loc  \\\n",
       "1119304  https://image.winudf.com/v2/image1/Y29tLmZvcnR...   \n",
       "6554267  https://image.winudf.com/v2/image1/Y29tLmZvcnR...   \n",
       "\n",
       "                                         name  \\\n",
       "1119304  Vendetta Miami Police Simulator 2019   \n",
       "6554267  Vendetta Miami Police Simulator 2019   \n",
       "\n",
       "                                               sitemap_url     category  \n",
       "1119304      https://apkpure.com/sitemaps/comics-15.xml.gz       comics  \n",
       "6554267  https://apkpure.com/sitemaps/game_action-97.xm...  game_action  "
      ]
     },
     "execution_count": 33,
     "metadata": {},
     "output_type": "execute_result"
    }
   ],
   "source": [
    "df[(df['name'] == 'Vendetta Miami Police Simulator 2019')]"
   ]
  },
  {
   "cell_type": "code",
   "execution_count": 19,
   "metadata": {},
   "outputs": [
    {
     "data": {
      "text/html": [
       "<div>\n",
       "<style scoped>\n",
       "    .dataframe tbody tr th:only-of-type {\n",
       "        vertical-align: middle;\n",
       "    }\n",
       "\n",
       "    .dataframe tbody tr th {\n",
       "        vertical-align: top;\n",
       "    }\n",
       "\n",
       "    .dataframe thead th {\n",
       "        text-align: right;\n",
       "    }\n",
       "</style>\n",
       "<table border=\"1\" class=\"dataframe\">\n",
       "  <thead>\n",
       "    <tr style=\"text-align: right;\">\n",
       "      <th></th>\n",
       "      <th>domain</th>\n",
       "      <th>name_slug</th>\n",
       "      <th>dev</th>\n",
       "    </tr>\n",
       "  </thead>\n",
       "  <tbody>\n",
       "    <tr>\n",
       "      <th>0</th>\n",
       "      <td>https://apkpure.com</td>\n",
       "      <td>wallpaper-for-iphone-x-8-8</td>\n",
       "      <td>com.wallpapersforiphoneX.themeapplock88plus</td>\n",
       "    </tr>\n",
       "    <tr>\n",
       "      <th>1</th>\n",
       "      <td>https://apkpure.com</td>\n",
       "      <td>house-planning-design</td>\n",
       "      <td>com.HousePlanningDesign.setiawanapps</td>\n",
       "    </tr>\n",
       "    <tr>\n",
       "      <th>2</th>\n",
       "      <td>https://apkpure.com</td>\n",
       "      <td>door-desain-ideas</td>\n",
       "      <td>com.dopiadaapps.DoorDesainIdeas</td>\n",
       "    </tr>\n",
       "    <tr>\n",
       "      <th>3</th>\n",
       "      <td>https://apkpure.com</td>\n",
       "      <td>hd-taeyang-wallpapers-2017-18</td>\n",
       "      <td>com.hdtaeyangwallpapers.gmallc</td>\n",
       "    </tr>\n",
       "    <tr>\n",
       "      <th>4</th>\n",
       "      <td>https://apkpure.com</td>\n",
       "      <td>hd-ji-chang-wook-wallpapers</td>\n",
       "      <td>com.hdjichangwookwallpapers.gmallc</td>\n",
       "    </tr>\n",
       "    <tr>\n",
       "      <th>5</th>\n",
       "      <td>https://apkpure.com</td>\n",
       "      <td>hd-song-joong-ki-wallpapers-4k</td>\n",
       "      <td>com.hdsongjoongkiwallpapers.gmallc</td>\n",
       "    </tr>\n",
       "    <tr>\n",
       "      <th>6</th>\n",
       "      <td>https://apkpure.com</td>\n",
       "      <td>desain-kaos-3d-terbaru</td>\n",
       "      <td>com.andromo.dev678166.app691415</td>\n",
       "    </tr>\n",
       "    <tr>\n",
       "      <th>7</th>\n",
       "      <td>https://apkpure.com</td>\n",
       "      <td>simple-orange-theme-for-lava-kkt-ultr</td>\n",
       "      <td>theme.yellow.magic.cool.luster.irregular.inter...</td>\n",
       "    </tr>\n",
       "    <tr>\n",
       "      <th>8</th>\n",
       "      <td>https://apkpure.com</td>\n",
       "      <td>foshizzle</td>\n",
       "      <td>io.foshizzle</td>\n",
       "    </tr>\n",
       "    <tr>\n",
       "      <th>9</th>\n",
       "      <td>https://apkpure.com</td>\n",
       "      <td>wedding-dress-sketches-designs-2017</td>\n",
       "      <td>com.WeddingDressSketchesDesigns2017.suparreusapp</td>\n",
       "    </tr>\n",
       "    <tr>\n",
       "      <th>10</th>\n",
       "      <td>https://apkpure.com</td>\n",
       "      <td>sketches-design-evening-dresses-2017</td>\n",
       "      <td>com.SketchesDesignEveningDresses2017.suparreusapp</td>\n",
       "    </tr>\n",
       "    <tr>\n",
       "      <th>11</th>\n",
       "      <td>https://apkpure.com</td>\n",
       "      <td>kebaya-sketch-design-2017</td>\n",
       "      <td>com.KebayaSketchDesign2017.suparreusapp</td>\n",
       "    </tr>\n",
       "    <tr>\n",
       "      <th>12</th>\n",
       "      <td>https://apkpure.com</td>\n",
       "      <td>fashion-maternity-dresses-pregnant</td>\n",
       "      <td>com.FashionMaternityDressesPregnant.suparreusapp</td>\n",
       "    </tr>\n",
       "    <tr>\n",
       "      <th>13</th>\n",
       "      <td>https://apkpure.com</td>\n",
       "      <td>design-sketches-party-dress</td>\n",
       "      <td>com.DesignSketchesPartyDress.suparreusapp</td>\n",
       "    </tr>\n",
       "    <tr>\n",
       "      <th>14</th>\n",
       "      <td>https://apkpure.com</td>\n",
       "      <td>best-100-dress-design-sketches</td>\n",
       "      <td>com.Best100DressDesignSketches.suparreusapp</td>\n",
       "    </tr>\n",
       "    <tr>\n",
       "      <th>15</th>\n",
       "      <td>https://apkpure.com</td>\n",
       "      <td>tribal-tattoos-meaning-strength</td>\n",
       "      <td>com.TribalTattoosMeaningStrength.suparreusapp</td>\n",
       "    </tr>\n",
       "    <tr>\n",
       "      <th>16</th>\n",
       "      <td>https://apkpure.com</td>\n",
       "      <td>motorcycle-drag-racing-ideas</td>\n",
       "      <td>com.MotorcycleDragRacingIdeas.suparreusapp</td>\n",
       "    </tr>\n",
       "    <tr>\n",
       "      <th>17</th>\n",
       "      <td>https://apkpure.com</td>\n",
       "      <td>tattoo-3d-simple-ideas-for-guys</td>\n",
       "      <td>com.Tattoo3DSimpleIdeasForGuys.suparreusapp</td>\n",
       "    </tr>\n",
       "    <tr>\n",
       "      <th>18</th>\n",
       "      <td>https://apkpure.com</td>\n",
       "      <td>mecha-wallpapers</td>\n",
       "      <td>com.andromo.dev649829.app693627</td>\n",
       "    </tr>\n",
       "    <tr>\n",
       "      <th>19</th>\n",
       "      <td>https://apkpure.com</td>\n",
       "      <td>free-retouch-editor-photo-in-phone-tips</td>\n",
       "      <td>com.remove.retouchtip</td>\n",
       "    </tr>\n",
       "  </tbody>\n",
       "</table>\n",
       "</div>"
      ],
      "text/plain": [
       "                 domain                                name_slug  \\\n",
       "0   https://apkpure.com               wallpaper-for-iphone-x-8-8   \n",
       "1   https://apkpure.com                    house-planning-design   \n",
       "2   https://apkpure.com                        door-desain-ideas   \n",
       "3   https://apkpure.com            hd-taeyang-wallpapers-2017-18   \n",
       "4   https://apkpure.com              hd-ji-chang-wook-wallpapers   \n",
       "5   https://apkpure.com           hd-song-joong-ki-wallpapers-4k   \n",
       "6   https://apkpure.com                   desain-kaos-3d-terbaru   \n",
       "7   https://apkpure.com    simple-orange-theme-for-lava-kkt-ultr   \n",
       "8   https://apkpure.com                                foshizzle   \n",
       "9   https://apkpure.com      wedding-dress-sketches-designs-2017   \n",
       "10  https://apkpure.com     sketches-design-evening-dresses-2017   \n",
       "11  https://apkpure.com                kebaya-sketch-design-2017   \n",
       "12  https://apkpure.com       fashion-maternity-dresses-pregnant   \n",
       "13  https://apkpure.com              design-sketches-party-dress   \n",
       "14  https://apkpure.com           best-100-dress-design-sketches   \n",
       "15  https://apkpure.com          tribal-tattoos-meaning-strength   \n",
       "16  https://apkpure.com             motorcycle-drag-racing-ideas   \n",
       "17  https://apkpure.com          tattoo-3d-simple-ideas-for-guys   \n",
       "18  https://apkpure.com                         mecha-wallpapers   \n",
       "19  https://apkpure.com  free-retouch-editor-photo-in-phone-tips   \n",
       "\n",
       "                                                  dev  \n",
       "0         com.wallpapersforiphoneX.themeapplock88plus  \n",
       "1                com.HousePlanningDesign.setiawanapps  \n",
       "2                     com.dopiadaapps.DoorDesainIdeas  \n",
       "3                      com.hdtaeyangwallpapers.gmallc  \n",
       "4                  com.hdjichangwookwallpapers.gmallc  \n",
       "5                  com.hdsongjoongkiwallpapers.gmallc  \n",
       "6                     com.andromo.dev678166.app691415  \n",
       "7   theme.yellow.magic.cool.luster.irregular.inter...  \n",
       "8                                        io.foshizzle  \n",
       "9    com.WeddingDressSketchesDesigns2017.suparreusapp  \n",
       "10  com.SketchesDesignEveningDresses2017.suparreusapp  \n",
       "11            com.KebayaSketchDesign2017.suparreusapp  \n",
       "12   com.FashionMaternityDressesPregnant.suparreusapp  \n",
       "13          com.DesignSketchesPartyDress.suparreusapp  \n",
       "14        com.Best100DressDesignSketches.suparreusapp  \n",
       "15      com.TribalTattoosMeaningStrength.suparreusapp  \n",
       "16         com.MotorcycleDragRacingIdeas.suparreusapp  \n",
       "17        com.Tattoo3DSimpleIdeasForGuys.suparreusapp  \n",
       "18                    com.andromo.dev649829.app693627  \n",
       "19                              com.remove.retouchtip  "
      ]
     },
     "execution_count": 19,
     "metadata": {},
     "output_type": "execute_result"
    }
   ],
   "source": [
    "df['loc'][:20].str.rsplit('/', n=2, expand=True).rename(columns=dict(zip(range(3), ['domain', 'name_slug', 'dev'])))"
   ]
  },
  {
   "cell_type": "code",
   "execution_count": null,
   "metadata": {},
   "outputs": [],
   "source": []
  },
  {
   "cell_type": "markdown",
   "metadata": {},
   "source": [
    "### Cleaning"
   ]
  },
  {
   "cell_type": "code",
   "execution_count": 37,
   "metadata": {},
   "outputs": [],
   "source": [
    "df = df[~((df['name'] == 'Vendetta Miami Police Simulator 2019') & (df['category'] == 'comics'))]"
   ]
  },
  {
   "cell_type": "code",
   "execution_count": 55,
   "metadata": {
    "scrolled": false
   },
   "outputs": [],
   "source": [
    "df.to_csv('../data/metadata.csv')"
   ]
  },
  {
   "cell_type": "code",
   "execution_count": null,
   "metadata": {},
   "outputs": [],
   "source": []
  }
 ],
 "metadata": {
  "kernelspec": {
   "display_name": "Python 3",
   "language": "python",
   "name": "python3"
  },
  "language_info": {
   "codemirror_mode": {
    "name": "ipython",
    "version": 3
   },
   "file_extension": ".py",
   "mimetype": "text/x-python",
   "name": "python",
   "nbconvert_exporter": "python",
   "pygments_lexer": "ipython3",
   "version": "3.7.3"
  }
 },
 "nbformat": 4,
 "nbformat_minor": 2
}
