{
 "cells": [
  {
   "cell_type": "code",
   "execution_count": 1,
   "metadata": {},
   "outputs": [],
   "source": [
    "import re\n",
    "import pandas as pd\n",
    "import numpy as np\n",
    "from glob import glob\n",
    "import networkx as nx\n",
    "import time\n",
    "import matplotlib.pyplot as plt\n",
    "# from functools import reduce\n",
    "import os\n",
    "from itertools import combinations\n",
    "\n",
    "# !conda install -c conda-forge tqdm -y\n",
    "from tqdm import tqdm\n",
    "# !pip install multiprocess\n",
    "from multiprocess import Pool"
   ]
  },
  {
   "cell_type": "code",
   "execution_count": 2,
   "metadata": {},
   "outputs": [],
   "source": [
    "%load_ext line_profiler\n",
    "%load_ext autoreload\n",
    "%autoreload 2"
   ]
  },
  {
   "cell_type": "code",
   "execution_count": null,
   "metadata": {},
   "outputs": [],
   "source": []
  },
  {
   "cell_type": "code",
   "execution_count": 13,
   "metadata": {},
   "outputs": [
    {
     "name": "stdout",
     "output_type": "stream",
     "text": [
      "\u001b[30m\u001b[43mclass0\u001b[m\u001b[m \u001b[30m\u001b[43mclass1\u001b[m\u001b[m\r\n"
     ]
    }
   ],
   "source": [
    "!ls /Volumes/Lexar/HinDroid/data/interim"
   ]
  },
  {
   "cell_type": "code",
   "execution_count": 17,
   "metadata": {},
   "outputs": [
    {
     "data": {
      "text/plain": [
       "['/Volumes/Lexar/HinDroid/data/interim/class0/smscommand.main.csv',\n",
       " '/Volumes/Lexar/HinDroid/data/interim/class0/com.IndoApps.PetaPintar.csv',\n",
       " '/Volumes/Lexar/HinDroid/data/interim/class0/emojikeyboard.emoji.gif.keyboard.facebookmessenger.theme.neonlights.csv',\n",
       " '/Volumes/Lexar/HinDroid/data/interim/class0/com.superboost.app.cleaner.junkclean.csv',\n",
       " '/Volumes/Lexar/HinDroid/data/interim/class0/new.tips.tekken7.csv',\n",
       " '/Volumes/Lexar/HinDroid/data/interim/class0/de.marcelknupfer.studentenausweisguthaben.csv',\n",
       " '/Volumes/Lexar/HinDroid/data/interim/class0/antfacto.musgan.com.removeentertext.csv',\n",
       " '/Volumes/Lexar/HinDroid/data/interim/class0/com.diversepower.smartapps.csv',\n",
       " '/Volumes/Lexar/HinDroid/data/interim/class0/com.protoolapps.androidupgrade.csv',\n",
       " '/Volumes/Lexar/HinDroid/data/interim/class0/com.inhancetechnology.amtrust.csv']"
      ]
     },
     "execution_count": 17,
     "metadata": {},
     "output_type": "execute_result"
    }
   ],
   "source": [
    "glob('/Volumes/Lexar/HinDroid/data/interim/class0/*.csv')"
   ]
  },
  {
   "cell_type": "code",
   "execution_count": 4,
   "metadata": {},
   "outputs": [],
   "source": [
    "interim_classes_dirs = {\n",
    "    'class0': glob('/Volumes/Lexar/HinDroid/data/interim/class0/*.csv')[:8],\n",
    "    'class1': glob('/Volumes/Lexar/HinDroid/data/interim/class1/*.csv')[:8],\n",
    "}"
   ]
  },
  {
   "cell_type": "code",
   "execution_count": 5,
   "metadata": {},
   "outputs": [],
   "source": [
    "def aggregate_raw(interim_classes_dirs):\n",
    "    labels = {}\n",
    "    df = pd.DataFrame()\n",
    "    for class_i, csv_ls in interim_classes_dirs.items():\n",
    "        app_dfs = []\n",
    "\n",
    "        print(f'Reading csv files for {class_i}')\n",
    "        time.sleep(1)\n",
    "        for csv in tqdm(csv_ls):\n",
    "            app_df = pd.read_csv(\n",
    "                csv, dtype={'method_name': str},\n",
    "                keep_default_na=False\n",
    "            )\n",
    "            app_package = os.path.basename(csv)[:-4]\n",
    "            labels[app_package] = class_i\n",
    "            app_df['package'] = app_package\n",
    "            app_dfs.append(app_df)\n",
    "\n",
    "        class_i_df = pd.concat(app_dfs, ignore_index=True)\n",
    "        class_i_df['class'] = class_i\n",
    "        df = df.append(class_i_df, ignore_index=True)\n",
    "\n",
    "    return df, pd.Series(labels)"
   ]
  },
  {
   "cell_type": "code",
   "execution_count": 6,
   "metadata": {
    "scrolled": true
   },
   "outputs": [
    {
     "name": "stdout",
     "output_type": "stream",
     "text": [
      "Reading csv files for class0\n"
     ]
    },
    {
     "name": "stderr",
     "output_type": "stream",
     "text": [
      "100%|██████████| 8/8 [00:01<00:00,  6.01it/s]\n"
     ]
    },
    {
     "name": "stdout",
     "output_type": "stream",
     "text": [
      "Reading csv files for class1\n"
     ]
    },
    {
     "name": "stderr",
     "output_type": "stream",
     "text": [
      "100%|██████████| 8/8 [00:01<00:00,  6.16it/s]\n"
     ]
    }
   ],
   "source": [
    "df, labels = aggregate_raw(interim_classes_dirs)"
   ]
  },
  {
   "cell_type": "code",
   "execution_count": 7,
   "metadata": {},
   "outputs": [],
   "source": [
    "df['api'] = df.library + '->' + df.method_name"
   ]
  },
  {
   "cell_type": "code",
   "execution_count": 8,
   "metadata": {
    "scrolled": true
   },
   "outputs": [],
   "source": [
    "df['api_id'] = df.groupby('api').ngroup()"
   ]
  },
  {
   "cell_type": "code",
   "execution_count": 9,
   "metadata": {},
   "outputs": [
    {
     "data": {
      "text/plain": [
       "120455"
      ]
     },
     "execution_count": 9,
     "metadata": {},
     "output_type": "execute_result"
    }
   ],
   "source": [
    "df.api_id.max()"
   ]
  },
  {
   "cell_type": "code",
   "execution_count": 10,
   "metadata": {},
   "outputs": [
    {
     "name": "stdout",
     "output_type": "stream",
     "text": [
      "<class 'pandas.core.frame.DataFrame'>\n",
      "RangeIndex: 1059741 entries, 0 to 1059740\n",
      "Data columns (total 10 columns):\n",
      "call             1059741 non-null object\n",
      "relpath          1059741 non-null object\n",
      "code_block_id    1059741 non-null int64\n",
      "invocation       1059741 non-null object\n",
      "library          1059741 non-null object\n",
      "method_name      1059741 non-null object\n",
      "package          1059741 non-null object\n",
      "class            1059741 non-null object\n",
      "api              1059741 non-null object\n",
      "api_id           1059741 non-null int64\n",
      "dtypes: int64(2), object(8)\n",
      "memory usage: 80.9+ MB\n"
     ]
    }
   ],
   "source": [
    "df.info()"
   ]
  },
  {
   "cell_type": "code",
   "execution_count": 11,
   "metadata": {},
   "outputs": [],
   "source": [
    "api_id_lookup = df[['api', 'api_id']].set_index('api')['api_id'].to_dict()"
   ]
  },
  {
   "cell_type": "code",
   "execution_count": 12,
   "metadata": {},
   "outputs": [],
   "source": [
    "unique_APIs_app = df.groupby('package').apply(\n",
    "    lambda f: set(f.api_id)\n",
    ").to_dict()\n",
    "\n",
    "unique_APIs_all = set.union(*unique_APIs_app.values())\n",
    "\n",
    "A_cols = []\n",
    "for unique in unique_APIs_all:\n",
    "    bag_of_API = [True if unique in app_set else False for app_set in unique_APIs_app.values()]\n",
    "    A_cols.append(bag_of_API)\n",
    "\n",
    "A_mat = np.array(A_cols, dtype='i1').T"
   ]
  },
  {
   "cell_type": "code",
   "execution_count": 13,
   "metadata": {
    "scrolled": true
   },
   "outputs": [
    {
     "data": {
      "text/plain": [
       "(16, 120456)"
      ]
     },
     "execution_count": 13,
     "metadata": {},
     "output_type": "execute_result"
    }
   ],
   "source": [
    "A_mat.shape"
   ]
  },
  {
   "cell_type": "code",
   "execution_count": 14,
   "metadata": {
    "scrolled": true
   },
   "outputs": [
    {
     "data": {
      "text/plain": [
       "1927296"
      ]
     },
     "execution_count": 14,
     "metadata": {},
     "output_type": "execute_result"
    }
   ],
   "source": [
    "A_mat.size * A_mat.itemsize"
   ]
  },
  {
   "cell_type": "code",
   "execution_count": 16,
   "metadata": {},
   "outputs": [],
   "source": [
    "A_mat.tofile('test')"
   ]
  },
  {
   "cell_type": "code",
   "execution_count": 26,
   "metadata": {},
   "outputs": [
    {
     "name": "stderr",
     "output_type": "stream",
     "text": [
      "/Users/user/anaconda3/envs/dsc180/lib/python3.8/site-packages/tqdm/std.py:658: FutureWarning: The Panel class is removed from pandas. Accessing it from the top-level namespace will also be removed in the next version\n",
      "  from pandas import Panel\n"
     ]
    }
   ],
   "source": [
    "tqdm.pandas()"
   ]
  },
  {
   "cell_type": "code",
   "execution_count": 27,
   "metadata": {},
   "outputs": [
    {
     "name": "stderr",
     "output_type": "stream",
     "text": [
      "100%|██████████| 241876/241876 [00:16<00:00, 15095.60it/s]\n"
     ]
    }
   ],
   "source": [
    "g = df.groupby(['package', 'code_block_id']).progress_apply(\n",
    "    lambda f: list(combinations(f.api_id, 2))\n",
    ")"
   ]
  },
  {
   "cell_type": "code",
   "execution_count": 68,
   "metadata": {},
   "outputs": [],
   "source": [
    "l = g.explode().drop_duplicates().dropna().apply(lambda x:list(x)).to_numpy()"
   ]
  },
  {
   "cell_type": "code",
   "execution_count": 32,
   "metadata": {},
   "outputs": [],
   "source": [
    "B_mat = lil_matrix((df.api_id.nunique(), df.api_id.nunique()), dtype='i1')"
   ]
  },
  {
   "cell_type": "code",
   "execution_count": 38,
   "metadata": {},
   "outputs": [
    {
     "data": {
      "text/plain": [
       "(120456, 120456)"
      ]
     },
     "execution_count": 38,
     "metadata": {},
     "output_type": "execute_result"
    }
   ],
   "source": [
    "B_mat.shape"
   ]
  },
  {
   "cell_type": "code",
   "execution_count": 70,
   "metadata": {},
   "outputs": [
    {
     "data": {
      "text/plain": [
       "1591925"
      ]
     },
     "execution_count": 70,
     "metadata": {},
     "output_type": "execute_result"
    }
   ],
   "source": [
    "len(l)"
   ]
  },
  {
   "cell_type": "code",
   "execution_count": 40,
   "metadata": {},
   "outputs": [],
   "source": [
    "from scipy.sparse import csr_matrix, lil_matrix, coo_matrix"
   ]
  },
  {
   "cell_type": "code",
   "execution_count": null,
   "metadata": {},
   "outputs": [],
   "source": [
    "B_mat = csr_matrix(B_mat)"
   ]
  },
  {
   "cell_type": "code",
   "execution_count": null,
   "metadata": {},
   "outputs": [],
   "source": [
    "np.dot(A_mat, B_mat).dot(A_mat.T)"
   ]
  },
  {
   "cell_type": "code",
   "execution_count": 41,
   "metadata": {},
   "outputs": [],
   "source": [
    "row  = np.array([0, 0, 1, 3, 1, 0, 0])\n",
    "col  = np.array([0, 2, 1, 3, 1, 0, 0])\n",
    "data = np.array([1, 1, 1, 1, 1, 1, 1])\n",
    "coo = coo_matrix((data, (row, col)), shape=(4, 4))"
   ]
  },
  {
   "cell_type": "code",
   "execution_count": 47,
   "metadata": {},
   "outputs": [
    {
     "data": {
      "text/plain": [
       "array([[10,  0,  0,  0],\n",
       "       [ 0,  4,  0,  0],\n",
       "       [ 0,  0,  0,  0],\n",
       "       [ 0,  0,  0,  1]], dtype=int64)"
      ]
     },
     "execution_count": 47,
     "metadata": {},
     "output_type": "execute_result"
    }
   ],
   "source": [
    "coo.dot(coo.T).toarray()"
   ]
  },
  {
   "cell_type": "markdown",
   "metadata": {},
   "source": [
    "## EDA"
   ]
  },
  {
   "cell_type": "code",
   "execution_count": 93,
   "metadata": {},
   "outputs": [
    {
     "data": {
      "text/plain": [
       "<matplotlib.axes._subplots.AxesSubplot at 0xb0f1b0b20>"
      ]
     },
     "execution_count": 93,
     "metadata": {},
     "output_type": "execute_result"
    },
    {
     "data": {
      "image/png": "[encoded data removed]",
      "text/plain": [
       "<Figure size 432x288 with 1 Axes>"
      ]
     },
     "metadata": {
      "needs_background": "light"
     },
     "output_type": "display_data"
    }
   ],
   "source": [
    "df['api'].value_counts().plot(logy=True)"
   ]
  },
  {
   "cell_type": "code",
   "execution_count": 120,
   "metadata": {},
   "outputs": [
    {
     "data": {
      "text/plain": [
       "120456"
      ]
     },
     "execution_count": 120,
     "metadata": {},
     "output_type": "execute_result"
    }
   ],
   "source": [
    "df['api'].nunique()"
   ]
  },
  {
   "cell_type": "code",
   "execution_count": 94,
   "metadata": {
    "scrolled": true
   },
   "outputs": [
    {
     "data": {
      "text/plain": [
       "1.0"
      ]
     },
     "execution_count": 94,
     "metadata": {},
     "output_type": "execute_result"
    }
   ],
   "source": [
    "(df['api'].value_counts() >= 1).sum() / df['api'].nunique()"
   ]
  },
  {
   "cell_type": "code",
   "execution_count": 95,
   "metadata": {
    "scrolled": true
   },
   "outputs": [
    {
     "data": {
      "text/plain": [
       "0.6024772531048682"
      ]
     },
     "execution_count": 95,
     "metadata": {},
     "output_type": "execute_result"
    }
   ],
   "source": [
    "(df['api'].value_counts() >= 2).sum() / df['api'].nunique()"
   ]
  },
  {
   "cell_type": "code",
   "execution_count": 96,
   "metadata": {
    "scrolled": true
   },
   "outputs": [
    {
     "data": {
      "text/plain": [
       "0.3765358305107259"
      ]
     },
     "execution_count": 96,
     "metadata": {},
     "output_type": "execute_result"
    }
   ],
   "source": [
    "(df['api'].value_counts() >= 3).sum() / df['api'].nunique()"
   ]
  },
  {
   "cell_type": "code",
   "execution_count": 97,
   "metadata": {},
   "outputs": [
    {
     "data": {
      "text/plain": [
       "0.2284983728498373"
      ]
     },
     "execution_count": 97,
     "metadata": {},
     "output_type": "execute_result"
    }
   ],
   "source": [
    "(df['api'].value_counts() >= 5).sum() / df['api'].nunique()"
   ]
  },
  {
   "cell_type": "code",
   "execution_count": 98,
   "metadata": {},
   "outputs": [
    {
     "data": {
      "text/plain": [
       "0.1030749817360696"
      ]
     },
     "execution_count": 98,
     "metadata": {},
     "output_type": "execute_result"
    }
   ],
   "source": [
    "(df['api'].value_counts() >= 10).sum() / df['api'].nunique()"
   ]
  },
  {
   "cell_type": "code",
   "execution_count": 119,
   "metadata": {},
   "outputs": [
    {
     "data": {
      "text/plain": [
       "Ljava/util/ArrayList;->iterator                                          16\n",
       "Landroid/net/Uri;->parse                                                 16\n",
       "Ljava/lang/String;->substring                                            16\n",
       "Ljava/lang/String;->contains                                             16\n",
       "Landroid/content/Context;->getApplicationContext                         16\n",
       "                                                                         ..\n",
       "Lcom/google/android/gms/internal/zznt;->onRewardedVideoAdFailedToLoad     1\n",
       "Lcom/google/android/gms/internal/ads/zzabp;->zzn                          1\n",
       "Landroid/support/transition/TransitionManagerStaticsImpl;->go             1\n",
       "Lkotlin/coroutines/jvm/internal/DebugMetadataKt;->getLabel                1\n",
       "Landroid/support/v4/provider/FontRequest;->getProviderPackage             1\n",
       "Name: api, Length: 120456, dtype: int64"
      ]
     },
     "execution_count": 119,
     "metadata": {},
     "output_type": "execute_result"
    }
   ],
   "source": [
    "df.groupby('package')['api'].apply(lambda s: pd.Series(s.unique())).value_counts()"
   ]
  },
  {
   "cell_type": "code",
   "execution_count": null,
   "metadata": {},
   "outputs": [],
   "source": []
  },
  {
   "cell_type": "code",
   "execution_count": null,
   "metadata": {},
   "outputs": [],
   "source": []
  },
  {
   "cell_type": "code",
   "execution_count": 6,
   "metadata": {
    "scrolled": true
   },
   "outputs": [
    {
     "name": "stderr",
     "output_type": "stream",
     "text": [
      "100%|██████████| 8/8 [01:53<00:00, 14.25s/it]\n"
     ]
    }
   ],
   "source": [
    "hin = SmaliHIN(APPS_DIR)"
   ]
  },
  {
   "cell_type": "code",
   "execution_count": 7,
   "metadata": {},
   "outputs": [],
   "source": [
    "apps = [a for a in hin.apps.values()]"
   ]
  },
  {
   "cell_type": "code",
   "execution_count": 8,
   "metadata": {},
   "outputs": [],
   "source": [
    "for a in apps:\n",
    "    a.info['package'] = a.package"
   ]
  },
  {
   "cell_type": "code",
   "execution_count": 9,
   "metadata": {},
   "outputs": [],
   "source": [
    "df = pd.concat([a.info for a in apps], ignore_index=True)"
   ]
  },
  {
   "cell_type": "code",
   "execution_count": 10,
   "metadata": {},
   "outputs": [
    {
     "name": "stdout",
     "output_type": "stream",
     "text": [
      "<class 'pandas.core.frame.DataFrame'>\n",
      "RangeIndex: 1176529 entries, 0 to 1176528\n",
      "Data columns (total 7 columns):\n",
      "call             1176529 non-null object\n",
      "relpath          1176529 non-null object\n",
      "code_block_id    1176529 non-null int64\n",
      "invocation       1176529 non-null object\n",
      "library          1176529 non-null object\n",
      "method_name      1176529 non-null object\n",
      "package          1176529 non-null object\n",
      "dtypes: int64(1), object(6)\n",
      "memory usage: 62.8+ MB\n"
     ]
    }
   ],
   "source": [
    "df.info()"
   ]
  },
  {
   "cell_type": "code",
   "execution_count": 56,
   "metadata": {},
   "outputs": [
    {
     "data": {
      "text/html": [
       "<div>\n",
       "<style scoped>\n",
       "    .dataframe tbody tr th:only-of-type {\n",
       "        vertical-align: middle;\n",
       "    }\n",
       "\n",
       "    .dataframe tbody tr th {\n",
       "        vertical-align: top;\n",
       "    }\n",
       "\n",
       "    .dataframe thead th {\n",
       "        text-align: right;\n",
       "    }\n",
       "</style>\n",
       "<table border=\"1\" class=\"dataframe\">\n",
       "  <thead>\n",
       "    <tr style=\"text-align: right;\">\n",
       "      <th></th>\n",
       "      <th>call</th>\n",
       "      <th>relpath</th>\n",
       "      <th>code_block_id</th>\n",
       "      <th>invocation</th>\n",
       "      <th>library</th>\n",
       "      <th>method_name</th>\n",
       "      <th>package</th>\n",
       "      <th>class</th>\n",
       "    </tr>\n",
       "  </thead>\n",
       "  <tbody>\n",
       "    <tr>\n",
       "      <th>0</th>\n",
       "      <td>invoke-direct {p0}, Landroid/support/v4/access...</td>\n",
       "      <td>smali/android/support/v4/accessibilityservice/...</td>\n",
       "      <td>3</td>\n",
       "      <td>invoke-direct</td>\n",
       "      <td>Landroid/support/v4/accessibilityservice/Acces...</td>\n",
       "      <td>&lt;init&gt;</td>\n",
       "      <td>smscommand.main</td>\n",
       "      <td>class0</td>\n",
       "    </tr>\n",
       "    <tr>\n",
       "      <th>1</th>\n",
       "      <td>invoke-static {p1}, Landroid/support/v4/access...</td>\n",
       "      <td>smali/android/support/v4/accessibilityservice/...</td>\n",
       "      <td>4</td>\n",
       "      <td>invoke-static</td>\n",
       "      <td>Landroid/support/v4/accessibilityservice/Acces...</td>\n",
       "      <td>getCanRetrieveWindowContent</td>\n",
       "      <td>smscommand.main</td>\n",
       "      <td>class0</td>\n",
       "    </tr>\n",
       "    <tr>\n",
       "      <th>2</th>\n",
       "      <td>invoke-static {p1}, Landroid/support/v4/access...</td>\n",
       "      <td>smali/android/support/v4/accessibilityservice/...</td>\n",
       "      <td>5</td>\n",
       "      <td>invoke-static</td>\n",
       "      <td>Landroid/support/v4/accessibilityservice/Acces...</td>\n",
       "      <td>getDescription</td>\n",
       "      <td>smscommand.main</td>\n",
       "      <td>class0</td>\n",
       "    </tr>\n",
       "    <tr>\n",
       "      <th>3</th>\n",
       "      <td>invoke-static {p1}, Landroid/support/v4/access...</td>\n",
       "      <td>smali/android/support/v4/accessibilityservice/...</td>\n",
       "      <td>6</td>\n",
       "      <td>invoke-static</td>\n",
       "      <td>Landroid/support/v4/accessibilityservice/Acces...</td>\n",
       "      <td>getId</td>\n",
       "      <td>smscommand.main</td>\n",
       "      <td>class0</td>\n",
       "    </tr>\n",
       "    <tr>\n",
       "      <th>4</th>\n",
       "      <td>invoke-static {p1}, Landroid/support/v4/access...</td>\n",
       "      <td>smali/android/support/v4/accessibilityservice/...</td>\n",
       "      <td>7</td>\n",
       "      <td>invoke-static</td>\n",
       "      <td>Landroid/support/v4/accessibilityservice/Acces...</td>\n",
       "      <td>getResolveInfo</td>\n",
       "      <td>smscommand.main</td>\n",
       "      <td>class0</td>\n",
       "    </tr>\n",
       "  </tbody>\n",
       "</table>\n",
       "</div>"
      ],
      "text/plain": [
       "                                                call  \\\n",
       "0  invoke-direct {p0}, Landroid/support/v4/access...   \n",
       "1  invoke-static {p1}, Landroid/support/v4/access...   \n",
       "2  invoke-static {p1}, Landroid/support/v4/access...   \n",
       "3  invoke-static {p1}, Landroid/support/v4/access...   \n",
       "4  invoke-static {p1}, Landroid/support/v4/access...   \n",
       "\n",
       "                                             relpath  code_block_id  \\\n",
       "0  smali/android/support/v4/accessibilityservice/...              3   \n",
       "1  smali/android/support/v4/accessibilityservice/...              4   \n",
       "2  smali/android/support/v4/accessibilityservice/...              5   \n",
       "3  smali/android/support/v4/accessibilityservice/...              6   \n",
       "4  smali/android/support/v4/accessibilityservice/...              7   \n",
       "\n",
       "      invocation                                            library  \\\n",
       "0  invoke-direct  Landroid/support/v4/accessibilityservice/Acces...   \n",
       "1  invoke-static  Landroid/support/v4/accessibilityservice/Acces...   \n",
       "2  invoke-static  Landroid/support/v4/accessibilityservice/Acces...   \n",
       "3  invoke-static  Landroid/support/v4/accessibilityservice/Acces...   \n",
       "4  invoke-static  Landroid/support/v4/accessibilityservice/Acces...   \n",
       "\n",
       "                   method_name          package   class  \n",
       "0                       <init>  smscommand.main  class0  \n",
       "1  getCanRetrieveWindowContent  smscommand.main  class0  \n",
       "2               getDescription  smscommand.main  class0  \n",
       "3                        getId  smscommand.main  class0  \n",
       "4               getResolveInfo  smscommand.main  class0  "
      ]
     },
     "execution_count": 56,
     "metadata": {},
     "output_type": "execute_result"
    }
   ],
   "source": [
    "df.head(5)"
   ]
  },
  {
   "cell_type": "code",
   "execution_count": 57,
   "metadata": {},
   "outputs": [
    {
     "data": {
      "text/html": [
       "<div>\n",
       "<style scoped>\n",
       "    .dataframe tbody tr th:only-of-type {\n",
       "        vertical-align: middle;\n",
       "    }\n",
       "\n",
       "    .dataframe tbody tr th {\n",
       "        vertical-align: top;\n",
       "    }\n",
       "\n",
       "    .dataframe thead th {\n",
       "        text-align: right;\n",
       "    }\n",
       "</style>\n",
       "<table border=\"1\" class=\"dataframe\">\n",
       "  <thead>\n",
       "    <tr style=\"text-align: right;\">\n",
       "      <th>invocation</th>\n",
       "      <th>invoke-direct</th>\n",
       "      <th>invoke-interface</th>\n",
       "      <th>invoke-static</th>\n",
       "      <th>invoke-super</th>\n",
       "      <th>invoke-virtual</th>\n",
       "    </tr>\n",
       "    <tr>\n",
       "      <th>package</th>\n",
       "      <th></th>\n",
       "      <th></th>\n",
       "      <th></th>\n",
       "      <th></th>\n",
       "      <th></th>\n",
       "    </tr>\n",
       "  </thead>\n",
       "  <tbody>\n",
       "    <tr>\n",
       "      <th>antfacto.musgan.com.removeentertext</th>\n",
       "      <td>25388</td>\n",
       "      <td>11784</td>\n",
       "      <td>26698</td>\n",
       "      <td>2112</td>\n",
       "      <td>70654</td>\n",
       "    </tr>\n",
       "    <tr>\n",
       "      <th>com.IndoApps.PetaPintar</th>\n",
       "      <td>995</td>\n",
       "      <td>317</td>\n",
       "      <td>902</td>\n",
       "      <td>39</td>\n",
       "      <td>2778</td>\n",
       "    </tr>\n",
       "    <tr>\n",
       "      <th>com.app.p5982DI</th>\n",
       "      <td>14123</td>\n",
       "      <td>5370</td>\n",
       "      <td>13584</td>\n",
       "      <td>658</td>\n",
       "      <td>34897</td>\n",
       "    </tr>\n",
       "    <tr>\n",
       "      <th>com.colombitrade.presto</th>\n",
       "      <td>21520</td>\n",
       "      <td>12760</td>\n",
       "      <td>25110</td>\n",
       "      <td>964</td>\n",
       "      <td>59500</td>\n",
       "    </tr>\n",
       "    <tr>\n",
       "      <th>com.comunicanos.app</th>\n",
       "      <td>4510</td>\n",
       "      <td>1692</td>\n",
       "      <td>3680</td>\n",
       "      <td>232</td>\n",
       "      <td>12622</td>\n",
       "    </tr>\n",
       "    <tr>\n",
       "      <th>com.diversepower.smartapps</th>\n",
       "      <td>15365</td>\n",
       "      <td>5135</td>\n",
       "      <td>15402</td>\n",
       "      <td>2020</td>\n",
       "      <td>81211</td>\n",
       "    </tr>\n",
       "    <tr>\n",
       "      <th>com.gamerun.moma</th>\n",
       "      <td>24982</td>\n",
       "      <td>13720</td>\n",
       "      <td>32880</td>\n",
       "      <td>1356</td>\n",
       "      <td>76226</td>\n",
       "    </tr>\n",
       "    <tr>\n",
       "      <th>com.grupy.grupy</th>\n",
       "      <td>28491</td>\n",
       "      <td>15812</td>\n",
       "      <td>32733</td>\n",
       "      <td>1491</td>\n",
       "      <td>78650</td>\n",
       "    </tr>\n",
       "    <tr>\n",
       "      <th>com.inhancetechnology.amtrust</th>\n",
       "      <td>51519</td>\n",
       "      <td>21266</td>\n",
       "      <td>34637</td>\n",
       "      <td>1659</td>\n",
       "      <td>116299</td>\n",
       "    </tr>\n",
       "    <tr>\n",
       "      <th>com.maximuzindia.kingsville</th>\n",
       "      <td>881</td>\n",
       "      <td>322</td>\n",
       "      <td>483</td>\n",
       "      <td>31</td>\n",
       "      <td>2433</td>\n",
       "    </tr>\n",
       "    <tr>\n",
       "      <th>com.protoolapps.androidupgrade</th>\n",
       "      <td>23560</td>\n",
       "      <td>13907</td>\n",
       "      <td>33661</td>\n",
       "      <td>1222</td>\n",
       "      <td>72511</td>\n",
       "    </tr>\n",
       "    <tr>\n",
       "      <th>com.superboost.app.cleaner.junkclean</th>\n",
       "      <td>15835</td>\n",
       "      <td>5228</td>\n",
       "      <td>13647</td>\n",
       "      <td>485</td>\n",
       "      <td>36917</td>\n",
       "    </tr>\n",
       "    <tr>\n",
       "      <th>com.telkode.android</th>\n",
       "      <td>11316</td>\n",
       "      <td>4978</td>\n",
       "      <td>11231</td>\n",
       "      <td>839</td>\n",
       "      <td>32336</td>\n",
       "    </tr>\n",
       "    <tr>\n",
       "      <th>cz.topefekt</th>\n",
       "      <td>1284</td>\n",
       "      <td>598</td>\n",
       "      <td>930</td>\n",
       "      <td>36</td>\n",
       "      <td>4228</td>\n",
       "    </tr>\n",
       "    <tr>\n",
       "      <th>de.marcelknupfer.studentenausweisguthaben</th>\n",
       "      <td>14889</td>\n",
       "      <td>8361</td>\n",
       "      <td>21971</td>\n",
       "      <td>1210</td>\n",
       "      <td>42840</td>\n",
       "    </tr>\n",
       "    <tr>\n",
       "      <th>emojikeyboard.emoji.gif.keyboard.facebookmessenger.theme.neonlights</th>\n",
       "      <td>5171</td>\n",
       "      <td>1930</td>\n",
       "      <td>4364</td>\n",
       "      <td>274</td>\n",
       "      <td>12336</td>\n",
       "    </tr>\n",
       "    <tr>\n",
       "      <th>kz.beeline.odp</th>\n",
       "      <td>66159</td>\n",
       "      <td>32687</td>\n",
       "      <td>72479</td>\n",
       "      <td>3013</td>\n",
       "      <td>144633</td>\n",
       "    </tr>\n",
       "    <tr>\n",
       "      <th>meenavanhome.meenavan</th>\n",
       "      <td>16206</td>\n",
       "      <td>6820</td>\n",
       "      <td>13532</td>\n",
       "      <td>1223</td>\n",
       "      <td>48871</td>\n",
       "    </tr>\n",
       "    <tr>\n",
       "      <th>new.tips.tekken7</th>\n",
       "      <td>14451</td>\n",
       "      <td>7144</td>\n",
       "      <td>15039</td>\n",
       "      <td>1133</td>\n",
       "      <td>42884</td>\n",
       "    </tr>\n",
       "    <tr>\n",
       "      <th>smscommand.main</th>\n",
       "      <td>993</td>\n",
       "      <td>429</td>\n",
       "      <td>730</td>\n",
       "      <td>97</td>\n",
       "      <td>3606</td>\n",
       "    </tr>\n",
       "  </tbody>\n",
       "</table>\n",
       "</div>"
      ],
      "text/plain": [
       "invocation                                          invoke-direct  \\\n",
       "package                                                             \n",
       "antfacto.musgan.com.removeentertext                         25388   \n",
       "com.IndoApps.PetaPintar                                       995   \n",
       "com.app.p5982DI                                             14123   \n",
       "com.colombitrade.presto                                     21520   \n",
       "com.comunicanos.app                                          4510   \n",
       "com.diversepower.smartapps                                  15365   \n",
       "com.gamerun.moma                                            24982   \n",
       "com.grupy.grupy                                             28491   \n",
       "com.inhancetechnology.amtrust                               51519   \n",
       "com.maximuzindia.kingsville                                   881   \n",
       "com.protoolapps.androidupgrade                              23560   \n",
       "com.superboost.app.cleaner.junkclean                        15835   \n",
       "com.telkode.android                                         11316   \n",
       "cz.topefekt                                                  1284   \n",
       "de.marcelknupfer.studentenausweisguthaben                   14889   \n",
       "emojikeyboard.emoji.gif.keyboard.facebookmessen...           5171   \n",
       "kz.beeline.odp                                              66159   \n",
       "meenavanhome.meenavan                                       16206   \n",
       "new.tips.tekken7                                            14451   \n",
       "smscommand.main                                               993   \n",
       "\n",
       "invocation                                          invoke-interface  \\\n",
       "package                                                                \n",
       "antfacto.musgan.com.removeentertext                            11784   \n",
       "com.IndoApps.PetaPintar                                          317   \n",
       "com.app.p5982DI                                                 5370   \n",
       "com.colombitrade.presto                                        12760   \n",
       "com.comunicanos.app                                             1692   \n",
       "com.diversepower.smartapps                                      5135   \n",
       "com.gamerun.moma                                               13720   \n",
       "com.grupy.grupy                                                15812   \n",
       "com.inhancetechnology.amtrust                                  21266   \n",
       "com.maximuzindia.kingsville                                      322   \n",
       "com.protoolapps.androidupgrade                                 13907   \n",
       "com.superboost.app.cleaner.junkclean                            5228   \n",
       "com.telkode.android                                             4978   \n",
       "cz.topefekt                                                      598   \n",
       "de.marcelknupfer.studentenausweisguthaben                       8361   \n",
       "emojikeyboard.emoji.gif.keyboard.facebookmessen...              1930   \n",
       "kz.beeline.odp                                                 32687   \n",
       "meenavanhome.meenavan                                           6820   \n",
       "new.tips.tekken7                                                7144   \n",
       "smscommand.main                                                  429   \n",
       "\n",
       "invocation                                          invoke-static  \\\n",
       "package                                                             \n",
       "antfacto.musgan.com.removeentertext                         26698   \n",
       "com.IndoApps.PetaPintar                                       902   \n",
       "com.app.p5982DI                                             13584   \n",
       "com.colombitrade.presto                                     25110   \n",
       "com.comunicanos.app                                          3680   \n",
       "com.diversepower.smartapps                                  15402   \n",
       "com.gamerun.moma                                            32880   \n",
       "com.grupy.grupy                                             32733   \n",
       "com.inhancetechnology.amtrust                               34637   \n",
       "com.maximuzindia.kingsville                                   483   \n",
       "com.protoolapps.androidupgrade                              33661   \n",
       "com.superboost.app.cleaner.junkclean                        13647   \n",
       "com.telkode.android                                         11231   \n",
       "cz.topefekt                                                   930   \n",
       "de.marcelknupfer.studentenausweisguthaben                   21971   \n",
       "emojikeyboard.emoji.gif.keyboard.facebookmessen...           4364   \n",
       "kz.beeline.odp                                              72479   \n",
       "meenavanhome.meenavan                                       13532   \n",
       "new.tips.tekken7                                            15039   \n",
       "smscommand.main                                               730   \n",
       "\n",
       "invocation                                          invoke-super  \\\n",
       "package                                                            \n",
       "antfacto.musgan.com.removeentertext                         2112   \n",
       "com.IndoApps.PetaPintar                                       39   \n",
       "com.app.p5982DI                                              658   \n",
       "com.colombitrade.presto                                      964   \n",
       "com.comunicanos.app                                          232   \n",
       "com.diversepower.smartapps                                  2020   \n",
       "com.gamerun.moma                                            1356   \n",
       "com.grupy.grupy                                             1491   \n",
       "com.inhancetechnology.amtrust                               1659   \n",
       "com.maximuzindia.kingsville                                   31   \n",
       "com.protoolapps.androidupgrade                              1222   \n",
       "com.superboost.app.cleaner.junkclean                         485   \n",
       "com.telkode.android                                          839   \n",
       "cz.topefekt                                                   36   \n",
       "de.marcelknupfer.studentenausweisguthaben                   1210   \n",
       "emojikeyboard.emoji.gif.keyboard.facebookmessen...           274   \n",
       "kz.beeline.odp                                              3013   \n",
       "meenavanhome.meenavan                                       1223   \n",
       "new.tips.tekken7                                            1133   \n",
       "smscommand.main                                               97   \n",
       "\n",
       "invocation                                          invoke-virtual  \n",
       "package                                                             \n",
       "antfacto.musgan.com.removeentertext                          70654  \n",
       "com.IndoApps.PetaPintar                                       2778  \n",
       "com.app.p5982DI                                              34897  \n",
       "com.colombitrade.presto                                      59500  \n",
       "com.comunicanos.app                                          12622  \n",
       "com.diversepower.smartapps                                   81211  \n",
       "com.gamerun.moma                                             76226  \n",
       "com.grupy.grupy                                              78650  \n",
       "com.inhancetechnology.amtrust                               116299  \n",
       "com.maximuzindia.kingsville                                   2433  \n",
       "com.protoolapps.androidupgrade                               72511  \n",
       "com.superboost.app.cleaner.junkclean                         36917  \n",
       "com.telkode.android                                          32336  \n",
       "cz.topefekt                                                   4228  \n",
       "de.marcelknupfer.studentenausweisguthaben                    42840  \n",
       "emojikeyboard.emoji.gif.keyboard.facebookmessen...           12336  \n",
       "kz.beeline.odp                                              144633  \n",
       "meenavanhome.meenavan                                        48871  \n",
       "new.tips.tekken7                                             42884  \n",
       "smscommand.main                                               3606  "
      ]
     },
     "execution_count": 57,
     "metadata": {},
     "output_type": "execute_result"
    }
   ],
   "source": [
    "df.groupby('package')['invocation'].value_counts().unstack(fill_value=0)"
   ]
  },
  {
   "cell_type": "code",
   "execution_count": null,
   "metadata": {},
   "outputs": [],
   "source": []
  },
  {
   "cell_type": "code",
   "execution_count": 33,
   "metadata": {},
   "outputs": [
    {
     "data": {
      "text/html": [
       "<div>\n",
       "<style scoped>\n",
       "    .dataframe tbody tr th:only-of-type {\n",
       "        vertical-align: middle;\n",
       "    }\n",
       "\n",
       "    .dataframe tbody tr th {\n",
       "        vertical-align: top;\n",
       "    }\n",
       "\n",
       "    .dataframe thead tr th {\n",
       "        text-align: left;\n",
       "    }\n",
       "\n",
       "    .dataframe thead tr:last-of-type th {\n",
       "        text-align: right;\n",
       "    }\n",
       "</style>\n",
       "<table border=\"1\" class=\"dataframe\">\n",
       "  <thead>\n",
       "    <tr>\n",
       "      <th></th>\n",
       "      <th>call</th>\n",
       "      <th colspan=\"5\" halign=\"left\">code_block_id</th>\n",
       "      <th>library</th>\n",
       "    </tr>\n",
       "    <tr>\n",
       "      <th></th>\n",
       "      <th>size</th>\n",
       "      <th>mean</th>\n",
       "      <th>std</th>\n",
       "      <th>median</th>\n",
       "      <th>max</th>\n",
       "      <th>nunique</th>\n",
       "      <th>nunique</th>\n",
       "    </tr>\n",
       "    <tr>\n",
       "      <th>package</th>\n",
       "      <th></th>\n",
       "      <th></th>\n",
       "      <th></th>\n",
       "      <th></th>\n",
       "      <th></th>\n",
       "      <th></th>\n",
       "      <th></th>\n",
       "    </tr>\n",
       "  </thead>\n",
       "  <tbody>\n",
       "    <tr>\n",
       "      <th>com.app.brboldiesradio</th>\n",
       "      <td>314469</td>\n",
       "      <td>44924.059815</td>\n",
       "      <td>26047.871290</td>\n",
       "      <td>43838</td>\n",
       "      <td>89872</td>\n",
       "      <td>67457</td>\n",
       "      <td>13184</td>\n",
       "    </tr>\n",
       "    <tr>\n",
       "      <th>com.ct.goatsimulator3d</th>\n",
       "      <td>99605</td>\n",
       "      <td>15819.729873</td>\n",
       "      <td>8635.689824</td>\n",
       "      <td>16084</td>\n",
       "      <td>30656</td>\n",
       "      <td>21115</td>\n",
       "      <td>4684</td>\n",
       "    </tr>\n",
       "    <tr>\n",
       "      <th>com.gallusgolf.c625.android.hawkseyegolf</th>\n",
       "      <td>66259</td>\n",
       "      <td>12261.962239</td>\n",
       "      <td>6181.687412</td>\n",
       "      <td>12927</td>\n",
       "      <td>21532</td>\n",
       "      <td>15922</td>\n",
       "      <td>3539</td>\n",
       "    </tr>\n",
       "    <tr>\n",
       "      <th>com.mobiledoorman.themercer</th>\n",
       "      <td>123376</td>\n",
       "      <td>18288.249481</td>\n",
       "      <td>10398.392019</td>\n",
       "      <td>18923</td>\n",
       "      <td>35745</td>\n",
       "      <td>27661</td>\n",
       "      <td>6490</td>\n",
       "    </tr>\n",
       "    <tr>\n",
       "      <th>com.vistekmedia.ForestSmashFrenzy</th>\n",
       "      <td>59430</td>\n",
       "      <td>11349.214471</td>\n",
       "      <td>5888.003081</td>\n",
       "      <td>12248</td>\n",
       "      <td>20166</td>\n",
       "      <td>14964</td>\n",
       "      <td>3721</td>\n",
       "    </tr>\n",
       "    <tr>\n",
       "      <th>grossacapdany.ovilsolutions.com.lagrossadecapdany</th>\n",
       "      <td>230268</td>\n",
       "      <td>36520.605651</td>\n",
       "      <td>18864.652112</td>\n",
       "      <td>38391</td>\n",
       "      <td>68122</td>\n",
       "      <td>50638</td>\n",
       "      <td>10622</td>\n",
       "    </tr>\n",
       "    <tr>\n",
       "      <th>my.name.kiss.name</th>\n",
       "      <td>25529</td>\n",
       "      <td>3000.147754</td>\n",
       "      <td>1885.667432</td>\n",
       "      <td>2858</td>\n",
       "      <td>6590</td>\n",
       "      <td>4852</td>\n",
       "      <td>1613</td>\n",
       "    </tr>\n",
       "    <tr>\n",
       "      <th>uk.co.prioritysms.bgcracing</th>\n",
       "      <td>257593</td>\n",
       "      <td>40520.654633</td>\n",
       "      <td>23689.291276</td>\n",
       "      <td>39385</td>\n",
       "      <td>79603</td>\n",
       "      <td>59276</td>\n",
       "      <td>10875</td>\n",
       "    </tr>\n",
       "  </tbody>\n",
       "</table>\n",
       "</div>"
      ],
      "text/plain": [
       "                                                     call code_block_id  \\\n",
       "                                                     size          mean   \n",
       "package                                                                   \n",
       "com.app.brboldiesradio                             314469  44924.059815   \n",
       "com.ct.goatsimulator3d                              99605  15819.729873   \n",
       "com.gallusgolf.c625.android.hawkseyegolf            66259  12261.962239   \n",
       "com.mobiledoorman.themercer                        123376  18288.249481   \n",
       "com.vistekmedia.ForestSmashFrenzy                   59430  11349.214471   \n",
       "grossacapdany.ovilsolutions.com.lagrossadecapdany  230268  36520.605651   \n",
       "my.name.kiss.name                                   25529   3000.147754   \n",
       "uk.co.prioritysms.bgcracing                        257593  40520.654633   \n",
       "\n",
       "                                                                               \\\n",
       "                                                            std median    max   \n",
       "package                                                                         \n",
       "com.app.brboldiesradio                             26047.871290  43838  89872   \n",
       "com.ct.goatsimulator3d                              8635.689824  16084  30656   \n",
       "com.gallusgolf.c625.android.hawkseyegolf            6181.687412  12927  21532   \n",
       "com.mobiledoorman.themercer                        10398.392019  18923  35745   \n",
       "com.vistekmedia.ForestSmashFrenzy                   5888.003081  12248  20166   \n",
       "grossacapdany.ovilsolutions.com.lagrossadecapdany  18864.652112  38391  68122   \n",
       "my.name.kiss.name                                   1885.667432   2858   6590   \n",
       "uk.co.prioritysms.bgcracing                        23689.291276  39385  79603   \n",
       "\n",
       "                                                          library  \n",
       "                                                  nunique nunique  \n",
       "package                                                            \n",
       "com.app.brboldiesradio                              67457   13184  \n",
       "com.ct.goatsimulator3d                              21115    4684  \n",
       "com.gallusgolf.c625.android.hawkseyegolf            15922    3539  \n",
       "com.mobiledoorman.themercer                         27661    6490  \n",
       "com.vistekmedia.ForestSmashFrenzy                   14964    3721  \n",
       "grossacapdany.ovilsolutions.com.lagrossadecapdany   50638   10622  \n",
       "my.name.kiss.name                                    4852    1613  \n",
       "uk.co.prioritysms.bgcracing                         59276   10875  "
      ]
     },
     "execution_count": 33,
     "metadata": {},
     "output_type": "execute_result"
    }
   ],
   "source": [
    "df.groupby('package').agg({\n",
    "    'call': 'size',\n",
    "    'library': 'nunique',\n",
    "    'code_block_id': ['mean', 'std', 'median', 'max', 'nunique'],\n",
    "})"
   ]
  },
  {
   "cell_type": "markdown",
   "metadata": {},
   "source": [
    "## graphs "
   ]
  },
  {
   "cell_type": "code",
   "execution_count": 10,
   "metadata": {},
   "outputs": [],
   "source": [
    "A_mat = hin.construct_graph_A()"
   ]
  },
  {
   "cell_type": "code",
   "execution_count": 11,
   "metadata": {},
   "outputs": [
    {
     "data": {
      "text/plain": [
       "(4, 58646)"
      ]
     },
     "execution_count": 11,
     "metadata": {},
     "output_type": "execute_result"
    }
   ],
   "source": [
    "A_mat.shape"
   ]
  },
  {
   "cell_type": "code",
   "execution_count": 27,
   "metadata": {},
   "outputs": [
    {
     "data": {
      "text/plain": [
       "1    123087\n",
       "2     27408\n",
       "3      6173\n",
       "4      6505\n",
       "5      3079\n",
       "6      1243\n",
       "7      2942\n",
       "8      2410\n",
       "dtype: int64"
      ]
     },
     "execution_count": 27,
     "metadata": {},
     "output_type": "execute_result"
    }
   ],
   "source": [
    "pd.Series(A_mat.sum(axis=0)).value_counts().sort_index()"
   ]
  },
  {
   "cell_type": "code",
   "execution_count": 18,
   "metadata": {},
   "outputs": [
    {
     "data": {
      "text/plain": [
       "(8, 172847)"
      ]
     },
     "execution_count": 18,
     "metadata": {},
     "output_type": "execute_result"
    }
   ],
   "source": [
    "A_mat.shape"
   ]
  },
  {
   "cell_type": "code",
   "execution_count": null,
   "metadata": {},
   "outputs": [],
   "source": []
  },
  {
   "cell_type": "code",
   "execution_count": null,
   "metadata": {},
   "outputs": [],
   "source": []
  },
  {
   "cell_type": "code",
   "execution_count": 9,
   "metadata": {},
   "outputs": [],
   "source": [
    "def method_pairs(df_group, graph):\n",
    "    calls = df_group.api_id.unique()\n",
    "    pairs = combinations(calls, 2)\n",
    "    for pair in pairs:\n",
    "        graph.add_edge(*pair)"
   ]
  },
  {
   "cell_type": "code",
   "execution_count": 10,
   "metadata": {},
   "outputs": [
    {
     "name": "stderr",
     "output_type": "stream",
     "text": [
      "100%|██████████| 25112/25112 [00:04<00:00, 5340.10it/s]"
     ]
    },
    {
     "name": "stdout",
     "output_type": "stream",
     "text": [
      "CPU times: user 4.67 s, sys: 108 ms, total: 4.78 s\n",
      "Wall time: 4.73 s\n"
     ]
    },
    {
     "name": "stderr",
     "output_type": "stream",
     "text": [
      "\n"
     ]
    }
   ],
   "source": [
    "%%time\n",
    "B = nx.Graph()\n",
    "B.add_nodes_from(df.api_id.unique())\n",
    "\n",
    "B_pairs = df.groupby('code_block_id').progress_apply(method_pairs, graph=B)"
   ]
  },
  {
   "cell_type": "code",
   "execution_count": null,
   "metadata": {},
   "outputs": [],
   "source": []
  },
  {
   "cell_type": "code",
   "execution_count": 11,
   "metadata": {},
   "outputs": [
    {
     "name": "stderr",
     "output_type": "stream",
     "text": [
      "100%|██████████| 5250/5250 [00:01<00:00, 3793.50it/s]"
     ]
    },
    {
     "name": "stdout",
     "output_type": "stream",
     "text": [
      "CPU times: user 1.39 s, sys: 52 ms, total: 1.44 s\n",
      "Wall time: 1.43 s\n"
     ]
    },
    {
     "name": "stderr",
     "output_type": "stream",
     "text": [
      "\n"
     ]
    }
   ],
   "source": [
    "%%time\n",
    "P = nx.Graph()\n",
    "P.add_nodes_from(df.api_id.unique())\n",
    "\n",
    "P_pairs = df.groupby('package').progress_apply(method_pairs, graph=P)"
   ]
  },
  {
   "cell_type": "code",
   "execution_count": 33,
   "metadata": {},
   "outputs": [
    {
     "data": {
      "text/html": [
       "<div>\n",
       "<style scoped>\n",
       "    .dataframe tbody tr th:only-of-type {\n",
       "        vertical-align: middle;\n",
       "    }\n",
       "\n",
       "    .dataframe tbody tr th {\n",
       "        vertical-align: top;\n",
       "    }\n",
       "\n",
       "    .dataframe thead th {\n",
       "        text-align: right;\n",
       "    }\n",
       "</style>\n",
       "<table border=\"1\" class=\"dataframe\">\n",
       "  <thead>\n",
       "    <tr style=\"text-align: right;\">\n",
       "      <th></th>\n",
       "      <th>invocation</th>\n",
       "      <th>api_id</th>\n",
       "    </tr>\n",
       "  </thead>\n",
       "  <tbody>\n",
       "    <tr>\n",
       "      <th>0</th>\n",
       "      <td>invoke-direct</td>\n",
       "      <td>22062</td>\n",
       "    </tr>\n",
       "    <tr>\n",
       "      <th>1</th>\n",
       "      <td>invoke-direct</td>\n",
       "      <td>22062</td>\n",
       "    </tr>\n",
       "    <tr>\n",
       "      <th>2</th>\n",
       "      <td>invoke-direct</td>\n",
       "      <td>22062</td>\n",
       "    </tr>\n",
       "    <tr>\n",
       "      <th>3</th>\n",
       "      <td>invoke-direct</td>\n",
       "      <td>22062</td>\n",
       "    </tr>\n",
       "    <tr>\n",
       "      <th>4</th>\n",
       "      <td>invoke-direct</td>\n",
       "      <td>22062</td>\n",
       "    </tr>\n",
       "    <tr>\n",
       "      <th>...</th>\n",
       "      <td>...</td>\n",
       "      <td>...</td>\n",
       "    </tr>\n",
       "    <tr>\n",
       "      <th>103884</th>\n",
       "      <td>invoke-virtual</td>\n",
       "      <td>24772</td>\n",
       "    </tr>\n",
       "    <tr>\n",
       "      <th>103885</th>\n",
       "      <td>invoke-virtual</td>\n",
       "      <td>1619</td>\n",
       "    </tr>\n",
       "    <tr>\n",
       "      <th>103886</th>\n",
       "      <td>invoke-interface</td>\n",
       "      <td>495</td>\n",
       "    </tr>\n",
       "    <tr>\n",
       "      <th>103887</th>\n",
       "      <td>invoke-super</td>\n",
       "      <td>1616</td>\n",
       "    </tr>\n",
       "    <tr>\n",
       "      <th>103888</th>\n",
       "      <td>invoke-super</td>\n",
       "      <td>1617</td>\n",
       "    </tr>\n",
       "  </tbody>\n",
       "</table>\n",
       "<p>103889 rows × 2 columns</p>\n",
       "</div>"
      ],
      "text/plain": [
       "              invocation  api_id\n",
       "0          invoke-direct   22062\n",
       "1          invoke-direct   22062\n",
       "2          invoke-direct   22062\n",
       "3          invoke-direct   22062\n",
       "4          invoke-direct   22062\n",
       "...                  ...     ...\n",
       "103884    invoke-virtual   24772\n",
       "103885    invoke-virtual    1619\n",
       "103886  invoke-interface     495\n",
       "103887      invoke-super    1616\n",
       "103888      invoke-super    1617\n",
       "\n",
       "[103889 rows x 2 columns]"
      ]
     },
     "execution_count": 33,
     "metadata": {},
     "output_type": "execute_result"
    }
   ],
   "source": [
    "df[['invocation', 'api_id']]"
   ]
  },
  {
   "cell_type": "code",
   "execution_count": 12,
   "metadata": {},
   "outputs": [],
   "source": [
    "# nx.drawing.draw(B)"
   ]
  },
  {
   "cell_type": "code",
   "execution_count": null,
   "metadata": {},
   "outputs": [],
   "source": []
  },
  {
   "cell_type": "code",
   "execution_count": 13,
   "metadata": {},
   "outputs": [
    {
     "data": {
      "text/plain": [
       "1888812409.5"
      ]
     },
     "execution_count": 13,
     "metadata": {},
     "output_type": "execute_result"
    }
   ],
   "source": [
    "df.groupby('invocation').apply(lambda df:len(df)**2/2).sum()"
   ]
  },
  {
   "cell_type": "code",
   "execution_count": 14,
   "metadata": {},
   "outputs": [
    {
     "data": {
      "text/plain": [
       "1088624460.5"
      ]
     },
     "execution_count": 14,
     "metadata": {},
     "output_type": "execute_result"
    }
   ],
   "source": [
    "df.call.nunique()**2/2"
   ]
  },
  {
   "cell_type": "code",
   "execution_count": 15,
   "metadata": {
    "scrolled": true
   },
   "outputs": [
    {
     "name": "stdout",
     "output_type": "stream",
     "text": [
      "CPU times: user 83.2 ms, sys: 8.52 ms, total: 91.7 ms\n",
      "Wall time: 89.6 ms\n"
     ]
    }
   ],
   "source": [
    "%%time\n",
    "I = nx.Graph()\n",
    "I.add_nodes_from(df.call.unique())\n",
    "\n",
    "# I_pairs = df.groupby('invocation').progress_apply(method_pairs, graph=I)"
   ]
  },
  {
   "cell_type": "code",
   "execution_count": 16,
   "metadata": {},
   "outputs": [
    {
     "data": {
      "text/plain": [
       "invoke-virtual      53840\n",
       "invoke-static       20273\n",
       "invoke-direct       19725\n",
       "invoke-interface     8787\n",
       "invoke-super         1264\n",
       "Name: invocation, dtype: int64"
      ]
     },
     "execution_count": 16,
     "metadata": {},
     "output_type": "execute_result"
    }
   ],
   "source": [
    "df.invocation.value_counts()"
   ]
  },
  {
   "cell_type": "code",
   "execution_count": 17,
   "metadata": {},
   "outputs": [],
   "source": [
    "# df_group = df.loc[df.groupby('invocation').groups['invoke-virtual'], :]\n",
    "# # print(df_group.shape)\n",
    "# calls = df_group.api_id.unique()\n",
    "# pairs = combinations(calls, 2)\n",
    "# for pair in tqdm(pairs, total=len(calls)*(len(calls)-1)/2):\n",
    "#     I.add_edge(pair[0], pair[1])\n",
    "\n",
    "#     del pair\n",
    "#     break"
   ]
  },
  {
   "cell_type": "code",
   "execution_count": 18,
   "metadata": {},
   "outputs": [
    {
     "data": {
      "text/html": [
       "<div>\n",
       "<style scoped>\n",
       "    .dataframe tbody tr th:only-of-type {\n",
       "        vertical-align: middle;\n",
       "    }\n",
       "\n",
       "    .dataframe tbody tr th {\n",
       "        vertical-align: top;\n",
       "    }\n",
       "\n",
       "    .dataframe thead th {\n",
       "        text-align: right;\n",
       "    }\n",
       "</style>\n",
       "<table border=\"1\" class=\"dataframe\">\n",
       "  <thead>\n",
       "    <tr style=\"text-align: right;\">\n",
       "      <th></th>\n",
       "      <th>call</th>\n",
       "      <th>filename</th>\n",
       "      <th>code_block_id</th>\n",
       "      <th>invocation</th>\n",
       "      <th>package</th>\n",
       "      <th>method_name</th>\n",
       "      <th>api_id</th>\n",
       "    </tr>\n",
       "  </thead>\n",
       "  <tbody>\n",
       "    <tr>\n",
       "      <th>4234</th>\n",
       "      <td>invoke-virtual {p0}, Landroid/accessibilityser...</td>\n",
       "      <td>./../data/apps/com.paro.xmastreehdwallpaper/xm...</td>\n",
       "      <td>1407</td>\n",
       "      <td>invoke-virtual</td>\n",
       "      <td>Landroid/accessibilityservice/AccessibilitySer...</td>\n",
       "      <td>getCanRetrieveWindowContent</td>\n",
       "      <td>0</td>\n",
       "    </tr>\n",
       "    <tr>\n",
       "      <th>4240</th>\n",
       "      <td>invoke-virtual {p0}, Landroid/accessibilityser...</td>\n",
       "      <td>./../data/apps/com.paro.xmastreehdwallpaper/xm...</td>\n",
       "      <td>1413</td>\n",
       "      <td>invoke-virtual</td>\n",
       "      <td>Landroid/accessibilityservice/AccessibilitySer...</td>\n",
       "      <td>getCapabilities</td>\n",
       "      <td>1</td>\n",
       "    </tr>\n",
       "    <tr>\n",
       "      <th>4235</th>\n",
       "      <td>invoke-virtual {p0}, Landroid/accessibilityser...</td>\n",
       "      <td>./../data/apps/com.paro.xmastreehdwallpaper/xm...</td>\n",
       "      <td>1408</td>\n",
       "      <td>invoke-virtual</td>\n",
       "      <td>Landroid/accessibilityservice/AccessibilitySer...</td>\n",
       "      <td>getDescription</td>\n",
       "      <td>2</td>\n",
       "    </tr>\n",
       "    <tr>\n",
       "      <th>4236</th>\n",
       "      <td>invoke-virtual {p0}, Landroid/accessibilityser...</td>\n",
       "      <td>./../data/apps/com.paro.xmastreehdwallpaper/xm...</td>\n",
       "      <td>1409</td>\n",
       "      <td>invoke-virtual</td>\n",
       "      <td>Landroid/accessibilityservice/AccessibilitySer...</td>\n",
       "      <td>getId</td>\n",
       "      <td>3</td>\n",
       "    </tr>\n",
       "    <tr>\n",
       "      <th>4237</th>\n",
       "      <td>invoke-virtual {p0}, Landroid/accessibilityser...</td>\n",
       "      <td>./../data/apps/com.paro.xmastreehdwallpaper/xm...</td>\n",
       "      <td>1410</td>\n",
       "      <td>invoke-virtual</td>\n",
       "      <td>Landroid/accessibilityservice/AccessibilitySer...</td>\n",
       "      <td>getResolveInfo</td>\n",
       "      <td>4</td>\n",
       "    </tr>\n",
       "  </tbody>\n",
       "</table>\n",
       "</div>"
      ],
      "text/plain": [
       "                                                   call  \\\n",
       "4234  invoke-virtual {p0}, Landroid/accessibilityser...   \n",
       "4240  invoke-virtual {p0}, Landroid/accessibilityser...   \n",
       "4235  invoke-virtual {p0}, Landroid/accessibilityser...   \n",
       "4236  invoke-virtual {p0}, Landroid/accessibilityser...   \n",
       "4237  invoke-virtual {p0}, Landroid/accessibilityser...   \n",
       "\n",
       "                                               filename  code_block_id  \\\n",
       "4234  ./../data/apps/com.paro.xmastreehdwallpaper/xm...           1407   \n",
       "4240  ./../data/apps/com.paro.xmastreehdwallpaper/xm...           1413   \n",
       "4235  ./../data/apps/com.paro.xmastreehdwallpaper/xm...           1408   \n",
       "4236  ./../data/apps/com.paro.xmastreehdwallpaper/xm...           1409   \n",
       "4237  ./../data/apps/com.paro.xmastreehdwallpaper/xm...           1410   \n",
       "\n",
       "          invocation                                            package  \\\n",
       "4234  invoke-virtual  Landroid/accessibilityservice/AccessibilitySer...   \n",
       "4240  invoke-virtual  Landroid/accessibilityservice/AccessibilitySer...   \n",
       "4235  invoke-virtual  Landroid/accessibilityservice/AccessibilitySer...   \n",
       "4236  invoke-virtual  Landroid/accessibilityservice/AccessibilitySer...   \n",
       "4237  invoke-virtual  Landroid/accessibilityservice/AccessibilitySer...   \n",
       "\n",
       "                      method_name  api_id  \n",
       "4234  getCanRetrieveWindowContent       0  \n",
       "4240              getCapabilities       1  \n",
       "4235               getDescription       2  \n",
       "4236                        getId       3  \n",
       "4237               getResolveInfo       4  "
      ]
     },
     "execution_count": 18,
     "metadata": {},
     "output_type": "execute_result"
    }
   ],
   "source": [
    "df.sort_values('api_id').head()"
   ]
  },
  {
   "cell_type": "code",
   "execution_count": null,
   "metadata": {},
   "outputs": [],
   "source": []
  },
  {
   "cell_type": "code",
   "execution_count": null,
   "metadata": {},
   "outputs": [],
   "source": []
  },
  {
   "cell_type": "code",
   "execution_count": 72,
   "metadata": {},
   "outputs": [],
   "source": [
    "n = df.api_id.nunique()\n",
    "A = np.zeros((n,n))\n",
    "\n",
    "from scipy.sparse import csr_matrix\n",
    "# A = csr_matrix((n, n))"
   ]
  },
  {
   "cell_type": "code",
   "execution_count": null,
   "metadata": {},
   "outputs": [],
   "source": []
  },
  {
   "cell_type": "code",
   "execution_count": 73,
   "metadata": {},
   "outputs": [
    {
     "name": "stderr",
     "output_type": "stream",
     "text": [
      "  3%|▎         | 46890717/1733338881.0 [00:58<47:20, 593774.96it/s]  "
     ]
    },
    {
     "ename": "KeyboardInterrupt",
     "evalue": "",
     "output_type": "error",
     "traceback": [
      "\u001b[0;31m---------------------------------------------------------------------------\u001b[0m",
      "\u001b[0;31mKeyboardInterrupt\u001b[0m                         Traceback (most recent call last)",
      "\u001b[0;32m<ipython-input-73-40237a78bb18>\u001b[0m in \u001b[0;36m<module>\u001b[0;34m\u001b[0m\n\u001b[1;32m      5\u001b[0m \u001b[0;32mfor\u001b[0m \u001b[0mpair\u001b[0m \u001b[0;32min\u001b[0m \u001b[0mtqdm\u001b[0m\u001b[0;34m(\u001b[0m\u001b[0mpairs\u001b[0m\u001b[0;34m,\u001b[0m \u001b[0mtotal\u001b[0m\u001b[0;34m=\u001b[0m\u001b[0mlen\u001b[0m\u001b[0;34m(\u001b[0m\u001b[0mcalls\u001b[0m\u001b[0;34m)\u001b[0m\u001b[0;34m*\u001b[0m\u001b[0;34m(\u001b[0m\u001b[0mlen\u001b[0m\u001b[0;34m(\u001b[0m\u001b[0mcalls\u001b[0m\u001b[0;34m)\u001b[0m\u001b[0;34m-\u001b[0m\u001b[0;36m1\u001b[0m\u001b[0;34m)\u001b[0m\u001b[0;34m/\u001b[0m\u001b[0;36m2\u001b[0m\u001b[0;34m)\u001b[0m\u001b[0;34m:\u001b[0m\u001b[0;34m\u001b[0m\u001b[0;34m\u001b[0m\u001b[0m\n\u001b[1;32m      6\u001b[0m     \u001b[0mA\u001b[0m\u001b[0;34m[\u001b[0m\u001b[0mpair\u001b[0m\u001b[0;34m[\u001b[0m\u001b[0;36m0\u001b[0m\u001b[0;34m]\u001b[0m\u001b[0;34m,\u001b[0m \u001b[0mpair\u001b[0m\u001b[0;34m[\u001b[0m\u001b[0;36m1\u001b[0m\u001b[0;34m]\u001b[0m\u001b[0;34m]\u001b[0m \u001b[0;34m=\u001b[0m \u001b[0;36m1\u001b[0m\u001b[0;34m\u001b[0m\u001b[0;34m\u001b[0m\u001b[0m\n\u001b[0;32m----> 7\u001b[0;31m     \u001b[0mA\u001b[0m\u001b[0;34m[\u001b[0m\u001b[0mpair\u001b[0m\u001b[0;34m[\u001b[0m\u001b[0;36m1\u001b[0m\u001b[0;34m]\u001b[0m\u001b[0;34m,\u001b[0m \u001b[0mpair\u001b[0m\u001b[0;34m[\u001b[0m\u001b[0;36m0\u001b[0m\u001b[0;34m]\u001b[0m\u001b[0;34m]\u001b[0m \u001b[0;34m=\u001b[0m \u001b[0;36m1\u001b[0m\u001b[0;34m\u001b[0m\u001b[0;34m\u001b[0m\u001b[0m\n\u001b[0m",
      "\u001b[0;31mKeyboardInterrupt\u001b[0m: "
     ]
    }
   ],
   "source": [
    "df_group = df.loc[df.groupby('invocation').groups['invoke-virtual'], :]\n",
    "# print(df_group.shape)\n",
    "calls = df_group.api_id.unique()\n",
    "pairs = combinations(calls, 2)\n",
    "for pair in tqdm(pairs, total=len(calls)*(len(calls)-1)/2):\n",
    "    A[pair[0], pair[1]] = 1\n",
    "    A[pair[1], pair[0]] = 1"
   ]
  },
  {
   "cell_type": "code",
   "execution_count": 30,
   "metadata": {},
   "outputs": [
    {
     "data": {
      "text/plain": [
       "array([[0., 1., 1., ..., 1., 1., 1.],\n",
       "       [1., 0., 1., ..., 1., 1., 1.],\n",
       "       [1., 1., 0., ..., 1., 1., 1.],\n",
       "       ...,\n",
       "       [1., 1., 1., ..., 0., 1., 1.],\n",
       "       [1., 1., 1., ..., 1., 0., 1.],\n",
       "       [1., 1., 1., ..., 1., 1., 0.]])"
      ]
     },
     "execution_count": 30,
     "metadata": {},
     "output_type": "execute_result"
    }
   ],
   "source": []
  },
  {
   "cell_type": "code",
   "execution_count": 25,
   "metadata": {},
   "outputs": [],
   "source": [
    "from scipy.sparse import csr_matrix"
   ]
  },
  {
   "cell_type": "code",
   "execution_count": 26,
   "metadata": {},
   "outputs": [],
   "source": [
    "a = csr_matrix(A)"
   ]
  },
  {
   "cell_type": "code",
   "execution_count": 29,
   "metadata": {},
   "outputs": [
    {
     "data": {
      "text/plain": [
       "48"
      ]
     },
     "execution_count": 29,
     "metadata": {},
     "output_type": "execute_result"
    }
   ],
   "source": [
    "sys.getsizeof(a)"
   ]
  },
  {
   "cell_type": "code",
   "execution_count": null,
   "metadata": {},
   "outputs": [],
   "source": []
  },
  {
   "cell_type": "code",
   "execution_count": 24,
   "metadata": {},
   "outputs": [
    {
     "data": {
      "text/plain": [
       "4.933025904"
      ]
     },
     "execution_count": 24,
     "metadata": {},
     "output_type": "execute_result"
    }
   ],
   "source": [
    "import sys\n",
    "sys.getsizeof(A)/1e9"
   ]
  }
 ],
 "metadata": {
  "kernelspec": {
   "display_name": "Python [conda env:dsc180]",
   "language": "python",
   "name": "conda-env-dsc180-py"
  },
  "language_info": {
   "codemirror_mode": {
    "name": "ipython",
    "version": 3
   },
   "file_extension": ".py",
   "mimetype": "text/x-python",
   "name": "python",
   "nbconvert_exporter": "python",
   "pygments_lexer": "ipython3",
   "version": "3.8.1"
  }
 },
 "nbformat": 4,
 "nbformat_minor": 2
}
