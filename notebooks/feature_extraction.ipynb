{
 "cells": [
  {
   "cell_type": "code",
   "execution_count": 1,
   "metadata": {},
   "outputs": [],
   "source": [
    "import re\n",
    "import pandas as pd\n",
    "import numpy as np\n",
    "from glob import glob\n",
    "import networkx as nx\n",
    "import matplotlib.pyplot as plt\n",
    "# from functools import reduce\n",
    "import os\n",
    "from itertools import combinations\n",
    "\n",
    "# !conda install -c conda-forge tqdm -y\n",
    "from tqdm import tqdm\n",
    "# !pip install multiprocess\n",
    "from multiprocess import Pool"
   ]
  },
  {
   "cell_type": "code",
   "execution_count": 2,
   "metadata": {},
   "outputs": [],
   "source": [
    "%load_ext line_profiler"
   ]
  },
  {
   "cell_type": "code",
   "execution_count": 3,
   "metadata": {},
   "outputs": [],
   "source": [
    "class SmaliApp():\n",
    "    INVOKE_PATTERN = (\n",
    "        \"(invoke-\\w+)(?:\\/range)? {.*}, \"     # invoke\n",
    "        + \"(\\[*[ZBSCFIJD]|\\[*L[\\w\\/$-]+;)->\"   # package\n",
    "        + \"([\\w$]+|<init>).+\"                 # method\n",
    "    )\n",
    "    \n",
    "    def __init__(self, app_dir):\n",
    "        self.app_dir = app_dir\n",
    "        self.package = app_dir.split('/')[-2]\n",
    "        self.smali_fn_ls = sorted(glob(os.path.join(app_dir, 'smali*/**/*.smali'), recursive=True))\n",
    "        if len(self.smali_fn_ls) == 0:\n",
    "            raise Exception('Invalid app directory')\n",
    "\n",
    "        self.info = self.extract_info()\n",
    "\n",
    "    def _extract_line_file(fn):\n",
    "        with open(fn) as f:\n",
    "            pattern = '(^\\.method.*)|(^\\.end method)|(invoke-.*)'\n",
    "            data = re.findall(pattern, f.read())\n",
    "            if len(data) == 0: return pd.DataFrame()\n",
    "        \n",
    "        data = np.array(data)\n",
    "        assert data.shape[1] == 3\n",
    "        \n",
    "        df = pd.DataFrame(\n",
    "            np.array(data),\n",
    "            columns=['start', 'end', 'call']\n",
    "        )\n",
    "        df['filename'] = fn\n",
    "\n",
    "        return df\n",
    "    \n",
    "    def _assign_code_block(df):\n",
    "        df['code_block_id'] = (df.start.str.len() != 0).cumsum()\n",
    "        return df\n",
    "    \n",
    "    def _assign_package_invoke_method(df):\n",
    "        res = (\n",
    "            df.call.str.extract(SmaliApp.INVOKE_PATTERN)\n",
    "            .rename(columns={0: 'invocation', 1: 'package', 2: 'method_name'})\n",
    "        )\n",
    "        return pd.concat([df, res], axis=1)\n",
    "        \n",
    "    \n",
    "    def extract_info(self):\n",
    "        agg = [SmaliApp._extract_line_file(f) for f in self.smali_fn_ls]\n",
    "        df = pd.concat(agg, ignore_index=True)        \n",
    "        \n",
    "        df = SmaliApp._assign_code_block(df)\n",
    "        df = SmaliApp._assign_package_invoke_method(df)\n",
    "        df['api_id'] = df.groupby(['package', 'method_name']).ngroup()\n",
    "#         self.info = df\n",
    "\n",
    "        # clean\n",
    "        assert (df.start.str.len() > 0).sum() == (df.end.str.len() > 0).sum()\n",
    "        df = df[df.call.str.len() > 0].drop(columns=['start', 'end']).reset_index(drop=True)\n",
    "        \n",
    "        # verify no nans\n",
    "        extract_nans = df.isna().sum(axis=1)\n",
    "#         df.loc[df.isna().sum(axis=1) > 0, :].call.values\n",
    "        assert (extract_nans == 0).all(), f'nan in {extract_nans.values.nonzero()}'\n",
    "\n",
    "#         self.info = df\n",
    "        return df"
   ]
  },
  {
   "cell_type": "code",
   "execution_count": null,
   "metadata": {},
   "outputs": [],
   "source": []
  },
  {
   "cell_type": "code",
   "execution_count": 9,
   "metadata": {},
   "outputs": [],
   "source": [
    "class SmaliHIN():\n",
    "    \n",
    "    def __init__(self, apps_dir, nproc=8):\n",
    "        self.app_dirs = glob(os.path.join(apps_dir, '*/'))[:8]\n",
    "        with Pool(nproc) as p:\n",
    "            smali_apps = list(tqdm(p.imap_unordered(SmaliApp, self.app_dirs), total=len(self.app_dirs)))\n",
    "        self.apps = {app.package: app for app in smali_apps}\n",
    "        self.packages = list(self.apps.keys())\n",
    "        \n",
    "    def construct_graph_A(self):\n",
    "        unique_APIs_app = [set(app.info.package + '->' + app.info.method_name) for app in self.apps.values()]\n",
    "        unique_APIs_all = set.union(*unique_APIs_app)\n",
    "        \n",
    "        A_cols = []\n",
    "        for unique in unique_APIs_all:\n",
    "            bag_of_API = [1 if unique in app_set else 0 for app_set in unique_APIs_app]\n",
    "            A_cols.append(bag_of_API)\n",
    "            \n",
    "        A_mat = np.array(A_cols).T\n",
    "        # shape: (# of apps, # of unique APIs)\n",
    "        self.A_mat = A_mat\n",
    "        return self.A_mat\n",
    "        "
   ]
  },
  {
   "cell_type": "code",
   "execution_count": null,
   "metadata": {},
   "outputs": [],
   "source": []
  },
  {
   "cell_type": "code",
   "execution_count": 10,
   "metadata": {},
   "outputs": [],
   "source": [
    "APPS_DIR = './../data/apps'"
   ]
  },
  {
   "cell_type": "code",
   "execution_count": 11,
   "metadata": {},
   "outputs": [
    {
     "name": "stderr",
     "output_type": "stream",
     "text": [
      "100%|██████████| 8/8 [01:20<00:00, 10.12s/it]\n"
     ]
    }
   ],
   "source": [
    "hin = SmaliHIN(APPS_DIR)"
   ]
  },
  {
   "cell_type": "code",
   "execution_count": 13,
   "metadata": {},
   "outputs": [],
   "source": [
    "A_mat = hin.construct_graph_A()"
   ]
  },
  {
   "cell_type": "code",
   "execution_count": 16,
   "metadata": {},
   "outputs": [
    {
     "data": {
      "text/plain": [
       "array([[0, 1, 0, ..., 0, 0, 0],\n",
       "       [0, 1, 0, ..., 0, 0, 0],\n",
       "       [0, 1, 0, ..., 0, 0, 0],\n",
       "       ...,\n",
       "       [0, 1, 0, ..., 0, 0, 0],\n",
       "       [0, 1, 1, ..., 0, 0, 0],\n",
       "       [1, 1, 0, ..., 1, 1, 1]])"
      ]
     },
     "execution_count": 16,
     "metadata": {},
     "output_type": "execute_result"
    }
   ],
   "source": [
    "A_mat"
   ]
  },
  {
   "cell_type": "code",
   "execution_count": 27,
   "metadata": {},
   "outputs": [
    {
     "data": {
      "text/plain": [
       "1    123087\n",
       "2     27408\n",
       "3      6173\n",
       "4      6505\n",
       "5      3079\n",
       "6      1243\n",
       "7      2942\n",
       "8      2410\n",
       "dtype: int64"
      ]
     },
     "execution_count": 27,
     "metadata": {},
     "output_type": "execute_result"
    }
   ],
   "source": [
    "pd.Series(A_mat.sum(axis=0)).value_counts().sort_index()"
   ]
  },
  {
   "cell_type": "code",
   "execution_count": 18,
   "metadata": {},
   "outputs": [
    {
     "data": {
      "text/plain": [
       "(8, 172847)"
      ]
     },
     "execution_count": 18,
     "metadata": {},
     "output_type": "execute_result"
    }
   ],
   "source": [
    "A_mat.shape"
   ]
  },
  {
   "cell_type": "code",
   "execution_count": null,
   "metadata": {},
   "outputs": [],
   "source": []
  },
  {
   "cell_type": "code",
   "execution_count": null,
   "metadata": {},
   "outputs": [],
   "source": []
  },
  {
   "cell_type": "code",
   "execution_count": 9,
   "metadata": {},
   "outputs": [],
   "source": [
    "def method_pairs(df_group, graph):\n",
    "    calls = df_group.api_id.unique()\n",
    "    pairs = combinations(calls, 2)\n",
    "    for pair in pairs:\n",
    "        graph.add_edge(*pair)"
   ]
  },
  {
   "cell_type": "code",
   "execution_count": 10,
   "metadata": {},
   "outputs": [
    {
     "name": "stderr",
     "output_type": "stream",
     "text": [
      "100%|██████████| 25112/25112 [00:04<00:00, 5340.10it/s]"
     ]
    },
    {
     "name": "stdout",
     "output_type": "stream",
     "text": [
      "CPU times: user 4.67 s, sys: 108 ms, total: 4.78 s\n",
      "Wall time: 4.73 s\n"
     ]
    },
    {
     "name": "stderr",
     "output_type": "stream",
     "text": [
      "\n"
     ]
    }
   ],
   "source": [
    "%%time\n",
    "B = nx.Graph()\n",
    "B.add_nodes_from(df.api_id.unique())\n",
    "\n",
    "B_pairs = df.groupby('code_block_id').progress_apply(method_pairs, graph=B)"
   ]
  },
  {
   "cell_type": "code",
   "execution_count": null,
   "metadata": {},
   "outputs": [],
   "source": []
  },
  {
   "cell_type": "code",
   "execution_count": 11,
   "metadata": {},
   "outputs": [
    {
     "name": "stderr",
     "output_type": "stream",
     "text": [
      "100%|██████████| 5250/5250 [00:01<00:00, 3793.50it/s]"
     ]
    },
    {
     "name": "stdout",
     "output_type": "stream",
     "text": [
      "CPU times: user 1.39 s, sys: 52 ms, total: 1.44 s\n",
      "Wall time: 1.43 s\n"
     ]
    },
    {
     "name": "stderr",
     "output_type": "stream",
     "text": [
      "\n"
     ]
    }
   ],
   "source": [
    "%%time\n",
    "P = nx.Graph()\n",
    "P.add_nodes_from(df.api_id.unique())\n",
    "\n",
    "P_pairs = df.groupby('package').progress_apply(method_pairs, graph=P)"
   ]
  },
  {
   "cell_type": "code",
   "execution_count": 33,
   "metadata": {},
   "outputs": [
    {
     "data": {
      "text/html": [
       "<div>\n",
       "<style scoped>\n",
       "    .dataframe tbody tr th:only-of-type {\n",
       "        vertical-align: middle;\n",
       "    }\n",
       "\n",
       "    .dataframe tbody tr th {\n",
       "        vertical-align: top;\n",
       "    }\n",
       "\n",
       "    .dataframe thead th {\n",
       "        text-align: right;\n",
       "    }\n",
       "</style>\n",
       "<table border=\"1\" class=\"dataframe\">\n",
       "  <thead>\n",
       "    <tr style=\"text-align: right;\">\n",
       "      <th></th>\n",
       "      <th>invocation</th>\n",
       "      <th>api_id</th>\n",
       "    </tr>\n",
       "  </thead>\n",
       "  <tbody>\n",
       "    <tr>\n",
       "      <th>0</th>\n",
       "      <td>invoke-direct</td>\n",
       "      <td>22062</td>\n",
       "    </tr>\n",
       "    <tr>\n",
       "      <th>1</th>\n",
       "      <td>invoke-direct</td>\n",
       "      <td>22062</td>\n",
       "    </tr>\n",
       "    <tr>\n",
       "      <th>2</th>\n",
       "      <td>invoke-direct</td>\n",
       "      <td>22062</td>\n",
       "    </tr>\n",
       "    <tr>\n",
       "      <th>3</th>\n",
       "      <td>invoke-direct</td>\n",
       "      <td>22062</td>\n",
       "    </tr>\n",
       "    <tr>\n",
       "      <th>4</th>\n",
       "      <td>invoke-direct</td>\n",
       "      <td>22062</td>\n",
       "    </tr>\n",
       "    <tr>\n",
       "      <th>...</th>\n",
       "      <td>...</td>\n",
       "      <td>...</td>\n",
       "    </tr>\n",
       "    <tr>\n",
       "      <th>103884</th>\n",
       "      <td>invoke-virtual</td>\n",
       "      <td>24772</td>\n",
       "    </tr>\n",
       "    <tr>\n",
       "      <th>103885</th>\n",
       "      <td>invoke-virtual</td>\n",
       "      <td>1619</td>\n",
       "    </tr>\n",
       "    <tr>\n",
       "      <th>103886</th>\n",
       "      <td>invoke-interface</td>\n",
       "      <td>495</td>\n",
       "    </tr>\n",
       "    <tr>\n",
       "      <th>103887</th>\n",
       "      <td>invoke-super</td>\n",
       "      <td>1616</td>\n",
       "    </tr>\n",
       "    <tr>\n",
       "      <th>103888</th>\n",
       "      <td>invoke-super</td>\n",
       "      <td>1617</td>\n",
       "    </tr>\n",
       "  </tbody>\n",
       "</table>\n",
       "<p>103889 rows × 2 columns</p>\n",
       "</div>"
      ],
      "text/plain": [
       "              invocation  api_id\n",
       "0          invoke-direct   22062\n",
       "1          invoke-direct   22062\n",
       "2          invoke-direct   22062\n",
       "3          invoke-direct   22062\n",
       "4          invoke-direct   22062\n",
       "...                  ...     ...\n",
       "103884    invoke-virtual   24772\n",
       "103885    invoke-virtual    1619\n",
       "103886  invoke-interface     495\n",
       "103887      invoke-super    1616\n",
       "103888      invoke-super    1617\n",
       "\n",
       "[103889 rows x 2 columns]"
      ]
     },
     "execution_count": 33,
     "metadata": {},
     "output_type": "execute_result"
    }
   ],
   "source": [
    "df[['invocation', 'api_id']]"
   ]
  },
  {
   "cell_type": "code",
   "execution_count": 12,
   "metadata": {},
   "outputs": [],
   "source": [
    "# nx.drawing.draw(B)"
   ]
  },
  {
   "cell_type": "code",
   "execution_count": null,
   "metadata": {},
   "outputs": [],
   "source": []
  },
  {
   "cell_type": "code",
   "execution_count": 13,
   "metadata": {},
   "outputs": [
    {
     "data": {
      "text/plain": [
       "1888812409.5"
      ]
     },
     "execution_count": 13,
     "metadata": {},
     "output_type": "execute_result"
    }
   ],
   "source": [
    "df.groupby('invocation').apply(lambda df:len(df)**2/2).sum()"
   ]
  },
  {
   "cell_type": "code",
   "execution_count": 14,
   "metadata": {},
   "outputs": [
    {
     "data": {
      "text/plain": [
       "1088624460.5"
      ]
     },
     "execution_count": 14,
     "metadata": {},
     "output_type": "execute_result"
    }
   ],
   "source": [
    "df.call.nunique()**2/2"
   ]
  },
  {
   "cell_type": "code",
   "execution_count": 15,
   "metadata": {
    "scrolled": true
   },
   "outputs": [
    {
     "name": "stdout",
     "output_type": "stream",
     "text": [
      "CPU times: user 83.2 ms, sys: 8.52 ms, total: 91.7 ms\n",
      "Wall time: 89.6 ms\n"
     ]
    }
   ],
   "source": [
    "%%time\n",
    "I = nx.Graph()\n",
    "I.add_nodes_from(df.call.unique())\n",
    "\n",
    "# I_pairs = df.groupby('invocation').progress_apply(method_pairs, graph=I)"
   ]
  },
  {
   "cell_type": "code",
   "execution_count": 16,
   "metadata": {},
   "outputs": [
    {
     "data": {
      "text/plain": [
       "invoke-virtual      53840\n",
       "invoke-static       20273\n",
       "invoke-direct       19725\n",
       "invoke-interface     8787\n",
       "invoke-super         1264\n",
       "Name: invocation, dtype: int64"
      ]
     },
     "execution_count": 16,
     "metadata": {},
     "output_type": "execute_result"
    }
   ],
   "source": [
    "df.invocation.value_counts()"
   ]
  },
  {
   "cell_type": "code",
   "execution_count": 17,
   "metadata": {},
   "outputs": [],
   "source": [
    "# df_group = df.loc[df.groupby('invocation').groups['invoke-virtual'], :]\n",
    "# # print(df_group.shape)\n",
    "# calls = df_group.api_id.unique()\n",
    "# pairs = combinations(calls, 2)\n",
    "# for pair in tqdm(pairs, total=len(calls)*(len(calls)-1)/2):\n",
    "#     I.add_edge(pair[0], pair[1])\n",
    "\n",
    "#     del pair\n",
    "#     break"
   ]
  },
  {
   "cell_type": "code",
   "execution_count": 18,
   "metadata": {},
   "outputs": [
    {
     "data": {
      "text/html": [
       "<div>\n",
       "<style scoped>\n",
       "    .dataframe tbody tr th:only-of-type {\n",
       "        vertical-align: middle;\n",
       "    }\n",
       "\n",
       "    .dataframe tbody tr th {\n",
       "        vertical-align: top;\n",
       "    }\n",
       "\n",
       "    .dataframe thead th {\n",
       "        text-align: right;\n",
       "    }\n",
       "</style>\n",
       "<table border=\"1\" class=\"dataframe\">\n",
       "  <thead>\n",
       "    <tr style=\"text-align: right;\">\n",
       "      <th></th>\n",
       "      <th>call</th>\n",
       "      <th>filename</th>\n",
       "      <th>code_block_id</th>\n",
       "      <th>invocation</th>\n",
       "      <th>package</th>\n",
       "      <th>method_name</th>\n",
       "      <th>api_id</th>\n",
       "    </tr>\n",
       "  </thead>\n",
       "  <tbody>\n",
       "    <tr>\n",
       "      <th>4234</th>\n",
       "      <td>invoke-virtual {p0}, Landroid/accessibilityser...</td>\n",
       "      <td>./../data/apps/com.paro.xmastreehdwallpaper/xm...</td>\n",
       "      <td>1407</td>\n",
       "      <td>invoke-virtual</td>\n",
       "      <td>Landroid/accessibilityservice/AccessibilitySer...</td>\n",
       "      <td>getCanRetrieveWindowContent</td>\n",
       "      <td>0</td>\n",
       "    </tr>\n",
       "    <tr>\n",
       "      <th>4240</th>\n",
       "      <td>invoke-virtual {p0}, Landroid/accessibilityser...</td>\n",
       "      <td>./../data/apps/com.paro.xmastreehdwallpaper/xm...</td>\n",
       "      <td>1413</td>\n",
       "      <td>invoke-virtual</td>\n",
       "      <td>Landroid/accessibilityservice/AccessibilitySer...</td>\n",
       "      <td>getCapabilities</td>\n",
       "      <td>1</td>\n",
       "    </tr>\n",
       "    <tr>\n",
       "      <th>4235</th>\n",
       "      <td>invoke-virtual {p0}, Landroid/accessibilityser...</td>\n",
       "      <td>./../data/apps/com.paro.xmastreehdwallpaper/xm...</td>\n",
       "      <td>1408</td>\n",
       "      <td>invoke-virtual</td>\n",
       "      <td>Landroid/accessibilityservice/AccessibilitySer...</td>\n",
       "      <td>getDescription</td>\n",
       "      <td>2</td>\n",
       "    </tr>\n",
       "    <tr>\n",
       "      <th>4236</th>\n",
       "      <td>invoke-virtual {p0}, Landroid/accessibilityser...</td>\n",
       "      <td>./../data/apps/com.paro.xmastreehdwallpaper/xm...</td>\n",
       "      <td>1409</td>\n",
       "      <td>invoke-virtual</td>\n",
       "      <td>Landroid/accessibilityservice/AccessibilitySer...</td>\n",
       "      <td>getId</td>\n",
       "      <td>3</td>\n",
       "    </tr>\n",
       "    <tr>\n",
       "      <th>4237</th>\n",
       "      <td>invoke-virtual {p0}, Landroid/accessibilityser...</td>\n",
       "      <td>./../data/apps/com.paro.xmastreehdwallpaper/xm...</td>\n",
       "      <td>1410</td>\n",
       "      <td>invoke-virtual</td>\n",
       "      <td>Landroid/accessibilityservice/AccessibilitySer...</td>\n",
       "      <td>getResolveInfo</td>\n",
       "      <td>4</td>\n",
       "    </tr>\n",
       "  </tbody>\n",
       "</table>\n",
       "</div>"
      ],
      "text/plain": [
       "                                                   call  \\\n",
       "4234  invoke-virtual {p0}, Landroid/accessibilityser...   \n",
       "4240  invoke-virtual {p0}, Landroid/accessibilityser...   \n",
       "4235  invoke-virtual {p0}, Landroid/accessibilityser...   \n",
       "4236  invoke-virtual {p0}, Landroid/accessibilityser...   \n",
       "4237  invoke-virtual {p0}, Landroid/accessibilityser...   \n",
       "\n",
       "                                               filename  code_block_id  \\\n",
       "4234  ./../data/apps/com.paro.xmastreehdwallpaper/xm...           1407   \n",
       "4240  ./../data/apps/com.paro.xmastreehdwallpaper/xm...           1413   \n",
       "4235  ./../data/apps/com.paro.xmastreehdwallpaper/xm...           1408   \n",
       "4236  ./../data/apps/com.paro.xmastreehdwallpaper/xm...           1409   \n",
       "4237  ./../data/apps/com.paro.xmastreehdwallpaper/xm...           1410   \n",
       "\n",
       "          invocation                                            package  \\\n",
       "4234  invoke-virtual  Landroid/accessibilityservice/AccessibilitySer...   \n",
       "4240  invoke-virtual  Landroid/accessibilityservice/AccessibilitySer...   \n",
       "4235  invoke-virtual  Landroid/accessibilityservice/AccessibilitySer...   \n",
       "4236  invoke-virtual  Landroid/accessibilityservice/AccessibilitySer...   \n",
       "4237  invoke-virtual  Landroid/accessibilityservice/AccessibilitySer...   \n",
       "\n",
       "                      method_name  api_id  \n",
       "4234  getCanRetrieveWindowContent       0  \n",
       "4240              getCapabilities       1  \n",
       "4235               getDescription       2  \n",
       "4236                        getId       3  \n",
       "4237               getResolveInfo       4  "
      ]
     },
     "execution_count": 18,
     "metadata": {},
     "output_type": "execute_result"
    }
   ],
   "source": [
    "df.sort_values('api_id').head()"
   ]
  },
  {
   "cell_type": "code",
   "execution_count": null,
   "metadata": {},
   "outputs": [],
   "source": []
  },
  {
   "cell_type": "code",
   "execution_count": null,
   "metadata": {},
   "outputs": [],
   "source": []
  },
  {
   "cell_type": "code",
   "execution_count": 19,
   "metadata": {},
   "outputs": [],
   "source": [
    "n = df.api_id.nunique()\n",
    "A = np.zeros((n,n))\n",
    "\n",
    "from scipy.sparse import csr_matrix\n",
    "# A = csr_matrix((n, n))"
   ]
  },
  {
   "cell_type": "code",
   "execution_count": null,
   "metadata": {},
   "outputs": [],
   "source": []
  },
  {
   "cell_type": "code",
   "execution_count": 20,
   "metadata": {},
   "outputs": [
    {
     "name": "stderr",
     "output_type": "stream",
     "text": [
      "100%|██████████| 79802661/79802661.0 [01:09<00:00, 1150828.63it/s]\n"
     ]
    }
   ],
   "source": [
    "df_group = df.loc[df.groupby('invocation').groups['invoke-virtual'], :]\n",
    "# print(df_group.shape)\n",
    "calls = df_group.api_id.unique()\n",
    "pairs = combinations(calls, 2)\n",
    "for pair in tqdm(pairs, total=len(calls)*(len(calls)-1)/2):\n",
    "    A[pair[0], pair[1]] = 1\n",
    "    A[pair[1], pair[0]] = 1"
   ]
  },
  {
   "cell_type": "code",
   "execution_count": 30,
   "metadata": {},
   "outputs": [
    {
     "data": {
      "text/plain": [
       "array([[0., 1., 1., ..., 1., 1., 1.],\n",
       "       [1., 0., 1., ..., 1., 1., 1.],\n",
       "       [1., 1., 0., ..., 1., 1., 1.],\n",
       "       ...,\n",
       "       [1., 1., 1., ..., 0., 1., 1.],\n",
       "       [1., 1., 1., ..., 1., 0., 1.],\n",
       "       [1., 1., 1., ..., 1., 1., 0.]])"
      ]
     },
     "execution_count": 30,
     "metadata": {},
     "output_type": "execute_result"
    }
   ],
   "source": []
  },
  {
   "cell_type": "code",
   "execution_count": 25,
   "metadata": {},
   "outputs": [],
   "source": [
    "from scipy.sparse import csr_matrix"
   ]
  },
  {
   "cell_type": "code",
   "execution_count": 26,
   "metadata": {},
   "outputs": [],
   "source": [
    "a = csr_matrix(A)"
   ]
  },
  {
   "cell_type": "code",
   "execution_count": 29,
   "metadata": {},
   "outputs": [
    {
     "data": {
      "text/plain": [
       "48"
      ]
     },
     "execution_count": 29,
     "metadata": {},
     "output_type": "execute_result"
    }
   ],
   "source": [
    "sys.getsizeof(a)"
   ]
  },
  {
   "cell_type": "code",
   "execution_count": null,
   "metadata": {},
   "outputs": [],
   "source": []
  },
  {
   "cell_type": "code",
   "execution_count": 24,
   "metadata": {},
   "outputs": [
    {
     "data": {
      "text/plain": [
       "4.933025904"
      ]
     },
     "execution_count": 24,
     "metadata": {},
     "output_type": "execute_result"
    }
   ],
   "source": [
    "import sys\n",
    "sys.getsizeof(A)/1e9"
   ]
  }
 ],
 "metadata": {
  "kernelspec": {
   "display_name": "Python 3",
   "language": "python",
   "name": "python3"
  },
  "language_info": {
   "codemirror_mode": {
    "name": "ipython",
    "version": 3
   },
   "file_extension": ".py",
   "mimetype": "text/x-python",
   "name": "python",
   "nbconvert_exporter": "python",
   "pygments_lexer": "ipython3",
   "version": "3.7.3"
  }
 },
 "nbformat": 4,
 "nbformat_minor": 2
}
