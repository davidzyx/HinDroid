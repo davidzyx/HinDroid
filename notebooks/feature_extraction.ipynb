{
 "cells": [
  {
   "cell_type": "code",
   "execution_count": 1,
   "metadata": {},
   "outputs": [],
   "source": [
    "import re\n",
    "import pandas as pd\n",
    "import numpy as np\n",
    "from glob import glob\n",
    "import networkx as nx\n",
    "\n",
    "import matplotlib.pyplot as plt\n",
    "# from functools import reduce\n",
    "import os\n",
    "from itertools import combinations\n",
    "\n",
    "# !conda install -c conda-forge tqdm -y\n",
    "from tqdm import tqdm\n",
    "# !pip install multiprocess\n",
    "from multiprocess import Pool"
   ]
  },
  {
   "cell_type": "code",
   "execution_count": 2,
   "metadata": {},
   "outputs": [],
   "source": [
    "%load_ext line_profiler\n",
    "%load_ext autoreload\n",
    "%autoreload 2"
   ]
  },
  {
   "cell_type": "code",
   "execution_count": 3,
   "metadata": {},
   "outputs": [],
   "source": [
    "from src.features.build_features import SmaliApp"
   ]
  },
  {
   "cell_type": "code",
   "execution_count": null,
   "metadata": {},
   "outputs": [],
   "source": []
  },
  {
   "cell_type": "code",
   "execution_count": 4,
   "metadata": {},
   "outputs": [],
   "source": [
    "class SmaliHIN():\n",
    "    \n",
    "    def __init__(self, apps_dir, nproc=4, n=8):\n",
    "        self.app_dirs = glob(os.path.join(apps_dir, '*/'))[-8:]\n",
    "        with Pool(nproc) as p:\n",
    "            smali_apps = list(tqdm(p.imap_unordered(SmaliApp, self.app_dirs), total=len(self.app_dirs)))\n",
    "        self.apps = {app.package: app for app in smali_apps}\n",
    "        self.packages = list(self.apps.keys())\n",
    "        \n",
    "    def construct_graph_A(self):\n",
    "        unique_APIs_app = [set(app.info.package + '->' + app.info.method_name) for app in self.apps.values()]\n",
    "        unique_APIs_all = set.union(*unique_APIs_app)\n",
    "        \n",
    "        A_cols = []\n",
    "        for unique in unique_APIs_all:\n",
    "            bag_of_API = [1 if unique in app_set else 0 for app_set in unique_APIs_app]\n",
    "            A_cols.append(bag_of_API)\n",
    "            \n",
    "        A_mat = np.array(A_cols).T\n",
    "        # shape: (# of apps, # of unique APIs)\n",
    "        self.A_mat = A_mat\n",
    "        return self.A_mat\n",
    "    \n",
    "#     def construct_graph_B(self):\n",
    "        "
   ]
  },
  {
   "cell_type": "code",
   "execution_count": 5,
   "metadata": {},
   "outputs": [],
   "source": [
    "APPS_DIR = './../data/apps'\n",
    "APPS_DIR = '/Volumes/exf/HinDroid/data/apps'"
   ]
  },
  {
   "cell_type": "code",
   "execution_count": null,
   "metadata": {},
   "outputs": [],
   "source": []
  },
  {
   "cell_type": "markdown",
   "metadata": {},
   "source": [
    "## EDA"
   ]
  },
  {
   "cell_type": "code",
   "execution_count": 6,
   "metadata": {},
   "outputs": [
    {
     "name": "stderr",
     "output_type": "stream",
     "text": [
      "100%|██████████| 8/8 [01:53<00:00, 14.25s/it]\n"
     ]
    }
   ],
   "source": [
    "hin = SmaliHIN(APPS_DIR)"
   ]
  },
  {
   "cell_type": "code",
   "execution_count": 7,
   "metadata": {},
   "outputs": [],
   "source": [
    "apps = [a for a in hin.apps.values()]"
   ]
  },
  {
   "cell_type": "code",
   "execution_count": 8,
   "metadata": {},
   "outputs": [],
   "source": [
    "for a in apps:\n",
    "    a.info['package'] = a.package"
   ]
  },
  {
   "cell_type": "code",
   "execution_count": 9,
   "metadata": {},
   "outputs": [],
   "source": [
    "df = pd.concat([a.info for a in apps], ignore_index=True)"
   ]
  },
  {
   "cell_type": "code",
   "execution_count": 10,
   "metadata": {},
   "outputs": [
    {
     "name": "stdout",
     "output_type": "stream",
     "text": [
      "<class 'pandas.core.frame.DataFrame'>\n",
      "RangeIndex: 1176529 entries, 0 to 1176528\n",
      "Data columns (total 7 columns):\n",
      "call             1176529 non-null object\n",
      "relpath          1176529 non-null object\n",
      "code_block_id    1176529 non-null int64\n",
      "invocation       1176529 non-null object\n",
      "library          1176529 non-null object\n",
      "method_name      1176529 non-null object\n",
      "package          1176529 non-null object\n",
      "dtypes: int64(1), object(6)\n",
      "memory usage: 62.8+ MB\n"
     ]
    }
   ],
   "source": [
    "df.info()"
   ]
  },
  {
   "cell_type": "code",
   "execution_count": 11,
   "metadata": {},
   "outputs": [
    {
     "data": {
      "text/html": [
       "<div>\n",
       "<style scoped>\n",
       "    .dataframe tbody tr th:only-of-type {\n",
       "        vertical-align: middle;\n",
       "    }\n",
       "\n",
       "    .dataframe tbody tr th {\n",
       "        vertical-align: top;\n",
       "    }\n",
       "\n",
       "    .dataframe thead th {\n",
       "        text-align: right;\n",
       "    }\n",
       "</style>\n",
       "<table border=\"1\" class=\"dataframe\">\n",
       "  <thead>\n",
       "    <tr style=\"text-align: right;\">\n",
       "      <th></th>\n",
       "      <th>call</th>\n",
       "      <th>relpath</th>\n",
       "      <th>code_block_id</th>\n",
       "      <th>invocation</th>\n",
       "      <th>library</th>\n",
       "      <th>method_name</th>\n",
       "      <th>package</th>\n",
       "    </tr>\n",
       "  </thead>\n",
       "  <tbody>\n",
       "    <tr>\n",
       "      <th>0</th>\n",
       "      <td>invoke-direct {p0}, Ljava/lang/Object;-&gt;&lt;init&gt;()V</td>\n",
       "      <td>smali/a/a/a/a/a$1.smali</td>\n",
       "      <td>1</td>\n",
       "      <td>invoke-direct</td>\n",
       "      <td>Ljava/lang/Object;</td>\n",
       "      <td>&lt;init&gt;</td>\n",
       "      <td>my.name.kiss.name</td>\n",
       "    </tr>\n",
       "    <tr>\n",
       "      <th>1</th>\n",
       "      <td>invoke-virtual {v0}, La/a/a/a/e;-&gt;m()Landroid/...</td>\n",
       "      <td>smali/a/a/a/a/a$1.smali</td>\n",
       "      <td>2</td>\n",
       "      <td>invoke-virtual</td>\n",
       "      <td>La/a/a/a/e;</td>\n",
       "      <td>m</td>\n",
       "      <td>my.name.kiss.name</td>\n",
       "    </tr>\n",
       "    <tr>\n",
       "      <th>2</th>\n",
       "      <td>invoke-direct {p0}, Ljava/lang/Object;-&gt;&lt;init&gt;()V</td>\n",
       "      <td>smali/a/a/a/a/a$2.smali</td>\n",
       "      <td>3</td>\n",
       "      <td>invoke-direct</td>\n",
       "      <td>Ljava/lang/Object;</td>\n",
       "      <td>&lt;init&gt;</td>\n",
       "      <td>my.name.kiss.name</td>\n",
       "    </tr>\n",
       "    <tr>\n",
       "      <th>3</th>\n",
       "      <td>invoke-virtual {v0}, Landroid/view/View;-&gt;getV...</td>\n",
       "      <td>smali/a/a/a/a/a$2.smali</td>\n",
       "      <td>4</td>\n",
       "      <td>invoke-virtual</td>\n",
       "      <td>Landroid/view/View;</td>\n",
       "      <td>getViewTreeObserver</td>\n",
       "      <td>my.name.kiss.name</td>\n",
       "    </tr>\n",
       "    <tr>\n",
       "      <th>4</th>\n",
       "      <td>invoke-virtual {v0, p0}, Landroid/view/ViewTre...</td>\n",
       "      <td>smali/a/a/a/a/a$2.smali</td>\n",
       "      <td>4</td>\n",
       "      <td>invoke-virtual</td>\n",
       "      <td>Landroid/view/ViewTreeObserver;</td>\n",
       "      <td>removeOnPreDrawListener</td>\n",
       "      <td>my.name.kiss.name</td>\n",
       "    </tr>\n",
       "  </tbody>\n",
       "</table>\n",
       "</div>"
      ],
      "text/plain": [
       "                                                call                  relpath  \\\n",
       "0  invoke-direct {p0}, Ljava/lang/Object;-><init>()V  smali/a/a/a/a/a$1.smali   \n",
       "1  invoke-virtual {v0}, La/a/a/a/e;->m()Landroid/...  smali/a/a/a/a/a$1.smali   \n",
       "2  invoke-direct {p0}, Ljava/lang/Object;-><init>()V  smali/a/a/a/a/a$2.smali   \n",
       "3  invoke-virtual {v0}, Landroid/view/View;->getV...  smali/a/a/a/a/a$2.smali   \n",
       "4  invoke-virtual {v0, p0}, Landroid/view/ViewTre...  smali/a/a/a/a/a$2.smali   \n",
       "\n",
       "   code_block_id      invocation                          library  \\\n",
       "0              1   invoke-direct               Ljava/lang/Object;   \n",
       "1              2  invoke-virtual                      La/a/a/a/e;   \n",
       "2              3   invoke-direct               Ljava/lang/Object;   \n",
       "3              4  invoke-virtual              Landroid/view/View;   \n",
       "4              4  invoke-virtual  Landroid/view/ViewTreeObserver;   \n",
       "\n",
       "               method_name            package  \n",
       "0                   <init>  my.name.kiss.name  \n",
       "1                        m  my.name.kiss.name  \n",
       "2                   <init>  my.name.kiss.name  \n",
       "3      getViewTreeObserver  my.name.kiss.name  \n",
       "4  removeOnPreDrawListener  my.name.kiss.name  "
      ]
     },
     "execution_count": 11,
     "metadata": {},
     "output_type": "execute_result"
    }
   ],
   "source": [
    "df.head(5)"
   ]
  },
  {
   "cell_type": "code",
   "execution_count": 12,
   "metadata": {},
   "outputs": [
    {
     "data": {
      "text/html": [
       "<div>\n",
       "<style scoped>\n",
       "    .dataframe tbody tr th:only-of-type {\n",
       "        vertical-align: middle;\n",
       "    }\n",
       "\n",
       "    .dataframe tbody tr th {\n",
       "        vertical-align: top;\n",
       "    }\n",
       "\n",
       "    .dataframe thead th {\n",
       "        text-align: right;\n",
       "    }\n",
       "</style>\n",
       "<table border=\"1\" class=\"dataframe\">\n",
       "  <thead>\n",
       "    <tr style=\"text-align: right;\">\n",
       "      <th>invocation</th>\n",
       "      <th>invoke-direct</th>\n",
       "      <th>invoke-interface</th>\n",
       "      <th>invoke-static</th>\n",
       "      <th>invoke-super</th>\n",
       "      <th>invoke-virtual</th>\n",
       "    </tr>\n",
       "    <tr>\n",
       "      <th>package</th>\n",
       "      <th></th>\n",
       "      <th></th>\n",
       "      <th></th>\n",
       "      <th></th>\n",
       "      <th></th>\n",
       "    </tr>\n",
       "  </thead>\n",
       "  <tbody>\n",
       "    <tr>\n",
       "      <th>com.app.brboldiesradio</th>\n",
       "      <td>62471</td>\n",
       "      <td>33502</td>\n",
       "      <td>62349</td>\n",
       "      <td>2786</td>\n",
       "      <td>153361</td>\n",
       "    </tr>\n",
       "    <tr>\n",
       "      <th>com.ct.goatsimulator3d</th>\n",
       "      <td>17237</td>\n",
       "      <td>10416</td>\n",
       "      <td>21270</td>\n",
       "      <td>705</td>\n",
       "      <td>49977</td>\n",
       "    </tr>\n",
       "    <tr>\n",
       "      <th>com.gallusgolf.c625.android.hawkseyegolf</th>\n",
       "      <td>12420</td>\n",
       "      <td>6126</td>\n",
       "      <td>13347</td>\n",
       "      <td>472</td>\n",
       "      <td>33894</td>\n",
       "    </tr>\n",
       "    <tr>\n",
       "      <th>com.mobiledoorman.themercer</th>\n",
       "      <td>24904</td>\n",
       "      <td>11159</td>\n",
       "      <td>22083</td>\n",
       "      <td>1570</td>\n",
       "      <td>63660</td>\n",
       "    </tr>\n",
       "    <tr>\n",
       "      <th>com.vistekmedia.ForestSmashFrenzy</th>\n",
       "      <td>11391</td>\n",
       "      <td>5438</td>\n",
       "      <td>13684</td>\n",
       "      <td>524</td>\n",
       "      <td>28393</td>\n",
       "    </tr>\n",
       "    <tr>\n",
       "      <th>grossacapdany.ovilsolutions.com.lagrossadecapdany</th>\n",
       "      <td>40012</td>\n",
       "      <td>22582</td>\n",
       "      <td>49392</td>\n",
       "      <td>2240</td>\n",
       "      <td>116042</td>\n",
       "    </tr>\n",
       "    <tr>\n",
       "      <th>my.name.kiss.name</th>\n",
       "      <td>5409</td>\n",
       "      <td>1746</td>\n",
       "      <td>4711</td>\n",
       "      <td>231</td>\n",
       "      <td>13432</td>\n",
       "    </tr>\n",
       "    <tr>\n",
       "      <th>uk.co.prioritysms.bgcracing</th>\n",
       "      <td>50648</td>\n",
       "      <td>28786</td>\n",
       "      <td>41677</td>\n",
       "      <td>2734</td>\n",
       "      <td>133748</td>\n",
       "    </tr>\n",
       "  </tbody>\n",
       "</table>\n",
       "</div>"
      ],
      "text/plain": [
       "invocation                                         invoke-direct  \\\n",
       "package                                                            \n",
       "com.app.brboldiesradio                                     62471   \n",
       "com.ct.goatsimulator3d                                     17237   \n",
       "com.gallusgolf.c625.android.hawkseyegolf                   12420   \n",
       "com.mobiledoorman.themercer                                24904   \n",
       "com.vistekmedia.ForestSmashFrenzy                          11391   \n",
       "grossacapdany.ovilsolutions.com.lagrossadecapdany          40012   \n",
       "my.name.kiss.name                                           5409   \n",
       "uk.co.prioritysms.bgcracing                                50648   \n",
       "\n",
       "invocation                                         invoke-interface  \\\n",
       "package                                                               \n",
       "com.app.brboldiesradio                                        33502   \n",
       "com.ct.goatsimulator3d                                        10416   \n",
       "com.gallusgolf.c625.android.hawkseyegolf                       6126   \n",
       "com.mobiledoorman.themercer                                   11159   \n",
       "com.vistekmedia.ForestSmashFrenzy                              5438   \n",
       "grossacapdany.ovilsolutions.com.lagrossadecapdany             22582   \n",
       "my.name.kiss.name                                              1746   \n",
       "uk.co.prioritysms.bgcracing                                   28786   \n",
       "\n",
       "invocation                                         invoke-static  \\\n",
       "package                                                            \n",
       "com.app.brboldiesradio                                     62349   \n",
       "com.ct.goatsimulator3d                                     21270   \n",
       "com.gallusgolf.c625.android.hawkseyegolf                   13347   \n",
       "com.mobiledoorman.themercer                                22083   \n",
       "com.vistekmedia.ForestSmashFrenzy                          13684   \n",
       "grossacapdany.ovilsolutions.com.lagrossadecapdany          49392   \n",
       "my.name.kiss.name                                           4711   \n",
       "uk.co.prioritysms.bgcracing                                41677   \n",
       "\n",
       "invocation                                         invoke-super  \\\n",
       "package                                                           \n",
       "com.app.brboldiesradio                                     2786   \n",
       "com.ct.goatsimulator3d                                      705   \n",
       "com.gallusgolf.c625.android.hawkseyegolf                    472   \n",
       "com.mobiledoorman.themercer                                1570   \n",
       "com.vistekmedia.ForestSmashFrenzy                           524   \n",
       "grossacapdany.ovilsolutions.com.lagrossadecapdany          2240   \n",
       "my.name.kiss.name                                           231   \n",
       "uk.co.prioritysms.bgcracing                                2734   \n",
       "\n",
       "invocation                                         invoke-virtual  \n",
       "package                                                            \n",
       "com.app.brboldiesradio                                     153361  \n",
       "com.ct.goatsimulator3d                                      49977  \n",
       "com.gallusgolf.c625.android.hawkseyegolf                    33894  \n",
       "com.mobiledoorman.themercer                                 63660  \n",
       "com.vistekmedia.ForestSmashFrenzy                           28393  \n",
       "grossacapdany.ovilsolutions.com.lagrossadecapdany          116042  \n",
       "my.name.kiss.name                                           13432  \n",
       "uk.co.prioritysms.bgcracing                                133748  "
      ]
     },
     "execution_count": 12,
     "metadata": {},
     "output_type": "execute_result"
    }
   ],
   "source": [
    "df.groupby('package')['invocation'].value_counts().unstack(fill_value=0)"
   ]
  },
  {
   "cell_type": "code",
   "execution_count": null,
   "metadata": {},
   "outputs": [],
   "source": []
  },
  {
   "cell_type": "code",
   "execution_count": 33,
   "metadata": {},
   "outputs": [
    {
     "data": {
      "text/html": [
       "<div>\n",
       "<style scoped>\n",
       "    .dataframe tbody tr th:only-of-type {\n",
       "        vertical-align: middle;\n",
       "    }\n",
       "\n",
       "    .dataframe tbody tr th {\n",
       "        vertical-align: top;\n",
       "    }\n",
       "\n",
       "    .dataframe thead tr th {\n",
       "        text-align: left;\n",
       "    }\n",
       "\n",
       "    .dataframe thead tr:last-of-type th {\n",
       "        text-align: right;\n",
       "    }\n",
       "</style>\n",
       "<table border=\"1\" class=\"dataframe\">\n",
       "  <thead>\n",
       "    <tr>\n",
       "      <th></th>\n",
       "      <th>call</th>\n",
       "      <th colspan=\"5\" halign=\"left\">code_block_id</th>\n",
       "      <th>library</th>\n",
       "    </tr>\n",
       "    <tr>\n",
       "      <th></th>\n",
       "      <th>size</th>\n",
       "      <th>mean</th>\n",
       "      <th>std</th>\n",
       "      <th>median</th>\n",
       "      <th>max</th>\n",
       "      <th>nunique</th>\n",
       "      <th>nunique</th>\n",
       "    </tr>\n",
       "    <tr>\n",
       "      <th>package</th>\n",
       "      <th></th>\n",
       "      <th></th>\n",
       "      <th></th>\n",
       "      <th></th>\n",
       "      <th></th>\n",
       "      <th></th>\n",
       "      <th></th>\n",
       "    </tr>\n",
       "  </thead>\n",
       "  <tbody>\n",
       "    <tr>\n",
       "      <th>com.app.brboldiesradio</th>\n",
       "      <td>314469</td>\n",
       "      <td>44924.059815</td>\n",
       "      <td>26047.871290</td>\n",
       "      <td>43838</td>\n",
       "      <td>89872</td>\n",
       "      <td>67457</td>\n",
       "      <td>13184</td>\n",
       "    </tr>\n",
       "    <tr>\n",
       "      <th>com.ct.goatsimulator3d</th>\n",
       "      <td>99605</td>\n",
       "      <td>15819.729873</td>\n",
       "      <td>8635.689824</td>\n",
       "      <td>16084</td>\n",
       "      <td>30656</td>\n",
       "      <td>21115</td>\n",
       "      <td>4684</td>\n",
       "    </tr>\n",
       "    <tr>\n",
       "      <th>com.gallusgolf.c625.android.hawkseyegolf</th>\n",
       "      <td>66259</td>\n",
       "      <td>12261.962239</td>\n",
       "      <td>6181.687412</td>\n",
       "      <td>12927</td>\n",
       "      <td>21532</td>\n",
       "      <td>15922</td>\n",
       "      <td>3539</td>\n",
       "    </tr>\n",
       "    <tr>\n",
       "      <th>com.mobiledoorman.themercer</th>\n",
       "      <td>123376</td>\n",
       "      <td>18288.249481</td>\n",
       "      <td>10398.392019</td>\n",
       "      <td>18923</td>\n",
       "      <td>35745</td>\n",
       "      <td>27661</td>\n",
       "      <td>6490</td>\n",
       "    </tr>\n",
       "    <tr>\n",
       "      <th>com.vistekmedia.ForestSmashFrenzy</th>\n",
       "      <td>59430</td>\n",
       "      <td>11349.214471</td>\n",
       "      <td>5888.003081</td>\n",
       "      <td>12248</td>\n",
       "      <td>20166</td>\n",
       "      <td>14964</td>\n",
       "      <td>3721</td>\n",
       "    </tr>\n",
       "    <tr>\n",
       "      <th>grossacapdany.ovilsolutions.com.lagrossadecapdany</th>\n",
       "      <td>230268</td>\n",
       "      <td>36520.605651</td>\n",
       "      <td>18864.652112</td>\n",
       "      <td>38391</td>\n",
       "      <td>68122</td>\n",
       "      <td>50638</td>\n",
       "      <td>10622</td>\n",
       "    </tr>\n",
       "    <tr>\n",
       "      <th>my.name.kiss.name</th>\n",
       "      <td>25529</td>\n",
       "      <td>3000.147754</td>\n",
       "      <td>1885.667432</td>\n",
       "      <td>2858</td>\n",
       "      <td>6590</td>\n",
       "      <td>4852</td>\n",
       "      <td>1613</td>\n",
       "    </tr>\n",
       "    <tr>\n",
       "      <th>uk.co.prioritysms.bgcracing</th>\n",
       "      <td>257593</td>\n",
       "      <td>40520.654633</td>\n",
       "      <td>23689.291276</td>\n",
       "      <td>39385</td>\n",
       "      <td>79603</td>\n",
       "      <td>59276</td>\n",
       "      <td>10875</td>\n",
       "    </tr>\n",
       "  </tbody>\n",
       "</table>\n",
       "</div>"
      ],
      "text/plain": [
       "                                                     call code_block_id  \\\n",
       "                                                     size          mean   \n",
       "package                                                                   \n",
       "com.app.brboldiesradio                             314469  44924.059815   \n",
       "com.ct.goatsimulator3d                              99605  15819.729873   \n",
       "com.gallusgolf.c625.android.hawkseyegolf            66259  12261.962239   \n",
       "com.mobiledoorman.themercer                        123376  18288.249481   \n",
       "com.vistekmedia.ForestSmashFrenzy                   59430  11349.214471   \n",
       "grossacapdany.ovilsolutions.com.lagrossadecapdany  230268  36520.605651   \n",
       "my.name.kiss.name                                   25529   3000.147754   \n",
       "uk.co.prioritysms.bgcracing                        257593  40520.654633   \n",
       "\n",
       "                                                                               \\\n",
       "                                                            std median    max   \n",
       "package                                                                         \n",
       "com.app.brboldiesradio                             26047.871290  43838  89872   \n",
       "com.ct.goatsimulator3d                              8635.689824  16084  30656   \n",
       "com.gallusgolf.c625.android.hawkseyegolf            6181.687412  12927  21532   \n",
       "com.mobiledoorman.themercer                        10398.392019  18923  35745   \n",
       "com.vistekmedia.ForestSmashFrenzy                   5888.003081  12248  20166   \n",
       "grossacapdany.ovilsolutions.com.lagrossadecapdany  18864.652112  38391  68122   \n",
       "my.name.kiss.name                                   1885.667432   2858   6590   \n",
       "uk.co.prioritysms.bgcracing                        23689.291276  39385  79603   \n",
       "\n",
       "                                                          library  \n",
       "                                                  nunique nunique  \n",
       "package                                                            \n",
       "com.app.brboldiesradio                              67457   13184  \n",
       "com.ct.goatsimulator3d                              21115    4684  \n",
       "com.gallusgolf.c625.android.hawkseyegolf            15922    3539  \n",
       "com.mobiledoorman.themercer                         27661    6490  \n",
       "com.vistekmedia.ForestSmashFrenzy                   14964    3721  \n",
       "grossacapdany.ovilsolutions.com.lagrossadecapdany   50638   10622  \n",
       "my.name.kiss.name                                    4852    1613  \n",
       "uk.co.prioritysms.bgcracing                         59276   10875  "
      ]
     },
     "execution_count": 33,
     "metadata": {},
     "output_type": "execute_result"
    }
   ],
   "source": [
    "df.groupby('package').agg({\n",
    "    'call': 'size',\n",
    "    'library': 'nunique',\n",
    "    'code_block_id': ['mean', 'std', 'median', 'max', 'nunique'],\n",
    "})"
   ]
  },
  {
   "cell_type": "markdown",
   "metadata": {},
   "source": [
    "## graphs "
   ]
  },
  {
   "cell_type": "code",
   "execution_count": 10,
   "metadata": {},
   "outputs": [],
   "source": [
    "A_mat = hin.construct_graph_A()"
   ]
  },
  {
   "cell_type": "code",
   "execution_count": 11,
   "metadata": {},
   "outputs": [
    {
     "data": {
      "text/plain": [
       "(4, 58646)"
      ]
     },
     "execution_count": 11,
     "metadata": {},
     "output_type": "execute_result"
    }
   ],
   "source": [
    "A_mat.shape"
   ]
  },
  {
   "cell_type": "code",
   "execution_count": 27,
   "metadata": {},
   "outputs": [
    {
     "data": {
      "text/plain": [
       "1    123087\n",
       "2     27408\n",
       "3      6173\n",
       "4      6505\n",
       "5      3079\n",
       "6      1243\n",
       "7      2942\n",
       "8      2410\n",
       "dtype: int64"
      ]
     },
     "execution_count": 27,
     "metadata": {},
     "output_type": "execute_result"
    }
   ],
   "source": [
    "pd.Series(A_mat.sum(axis=0)).value_counts().sort_index()"
   ]
  },
  {
   "cell_type": "code",
   "execution_count": 18,
   "metadata": {},
   "outputs": [
    {
     "data": {
      "text/plain": [
       "(8, 172847)"
      ]
     },
     "execution_count": 18,
     "metadata": {},
     "output_type": "execute_result"
    }
   ],
   "source": [
    "A_mat.shape"
   ]
  },
  {
   "cell_type": "code",
   "execution_count": null,
   "metadata": {},
   "outputs": [],
   "source": []
  },
  {
   "cell_type": "code",
   "execution_count": null,
   "metadata": {},
   "outputs": [],
   "source": []
  },
  {
   "cell_type": "code",
   "execution_count": 9,
   "metadata": {},
   "outputs": [],
   "source": [
    "def method_pairs(df_group, graph):\n",
    "    calls = df_group.api_id.unique()\n",
    "    pairs = combinations(calls, 2)\n",
    "    for pair in pairs:\n",
    "        graph.add_edge(*pair)"
   ]
  },
  {
   "cell_type": "code",
   "execution_count": 10,
   "metadata": {},
   "outputs": [
    {
     "name": "stderr",
     "output_type": "stream",
     "text": [
      "100%|██████████| 25112/25112 [00:04<00:00, 5340.10it/s]"
     ]
    },
    {
     "name": "stdout",
     "output_type": "stream",
     "text": [
      "CPU times: user 4.67 s, sys: 108 ms, total: 4.78 s\n",
      "Wall time: 4.73 s\n"
     ]
    },
    {
     "name": "stderr",
     "output_type": "stream",
     "text": [
      "\n"
     ]
    }
   ],
   "source": [
    "%%time\n",
    "B = nx.Graph()\n",
    "B.add_nodes_from(df.api_id.unique())\n",
    "\n",
    "B_pairs = df.groupby('code_block_id').progress_apply(method_pairs, graph=B)"
   ]
  },
  {
   "cell_type": "code",
   "execution_count": null,
   "metadata": {},
   "outputs": [],
   "source": []
  },
  {
   "cell_type": "code",
   "execution_count": 11,
   "metadata": {},
   "outputs": [
    {
     "name": "stderr",
     "output_type": "stream",
     "text": [
      "100%|██████████| 5250/5250 [00:01<00:00, 3793.50it/s]"
     ]
    },
    {
     "name": "stdout",
     "output_type": "stream",
     "text": [
      "CPU times: user 1.39 s, sys: 52 ms, total: 1.44 s\n",
      "Wall time: 1.43 s\n"
     ]
    },
    {
     "name": "stderr",
     "output_type": "stream",
     "text": [
      "\n"
     ]
    }
   ],
   "source": [
    "%%time\n",
    "P = nx.Graph()\n",
    "P.add_nodes_from(df.api_id.unique())\n",
    "\n",
    "P_pairs = df.groupby('package').progress_apply(method_pairs, graph=P)"
   ]
  },
  {
   "cell_type": "code",
   "execution_count": 33,
   "metadata": {},
   "outputs": [
    {
     "data": {
      "text/html": [
       "<div>\n",
       "<style scoped>\n",
       "    .dataframe tbody tr th:only-of-type {\n",
       "        vertical-align: middle;\n",
       "    }\n",
       "\n",
       "    .dataframe tbody tr th {\n",
       "        vertical-align: top;\n",
       "    }\n",
       "\n",
       "    .dataframe thead th {\n",
       "        text-align: right;\n",
       "    }\n",
       "</style>\n",
       "<table border=\"1\" class=\"dataframe\">\n",
       "  <thead>\n",
       "    <tr style=\"text-align: right;\">\n",
       "      <th></th>\n",
       "      <th>invocation</th>\n",
       "      <th>api_id</th>\n",
       "    </tr>\n",
       "  </thead>\n",
       "  <tbody>\n",
       "    <tr>\n",
       "      <th>0</th>\n",
       "      <td>invoke-direct</td>\n",
       "      <td>22062</td>\n",
       "    </tr>\n",
       "    <tr>\n",
       "      <th>1</th>\n",
       "      <td>invoke-direct</td>\n",
       "      <td>22062</td>\n",
       "    </tr>\n",
       "    <tr>\n",
       "      <th>2</th>\n",
       "      <td>invoke-direct</td>\n",
       "      <td>22062</td>\n",
       "    </tr>\n",
       "    <tr>\n",
       "      <th>3</th>\n",
       "      <td>invoke-direct</td>\n",
       "      <td>22062</td>\n",
       "    </tr>\n",
       "    <tr>\n",
       "      <th>4</th>\n",
       "      <td>invoke-direct</td>\n",
       "      <td>22062</td>\n",
       "    </tr>\n",
       "    <tr>\n",
       "      <th>...</th>\n",
       "      <td>...</td>\n",
       "      <td>...</td>\n",
       "    </tr>\n",
       "    <tr>\n",
       "      <th>103884</th>\n",
       "      <td>invoke-virtual</td>\n",
       "      <td>24772</td>\n",
       "    </tr>\n",
       "    <tr>\n",
       "      <th>103885</th>\n",
       "      <td>invoke-virtual</td>\n",
       "      <td>1619</td>\n",
       "    </tr>\n",
       "    <tr>\n",
       "      <th>103886</th>\n",
       "      <td>invoke-interface</td>\n",
       "      <td>495</td>\n",
       "    </tr>\n",
       "    <tr>\n",
       "      <th>103887</th>\n",
       "      <td>invoke-super</td>\n",
       "      <td>1616</td>\n",
       "    </tr>\n",
       "    <tr>\n",
       "      <th>103888</th>\n",
       "      <td>invoke-super</td>\n",
       "      <td>1617</td>\n",
       "    </tr>\n",
       "  </tbody>\n",
       "</table>\n",
       "<p>103889 rows × 2 columns</p>\n",
       "</div>"
      ],
      "text/plain": [
       "              invocation  api_id\n",
       "0          invoke-direct   22062\n",
       "1          invoke-direct   22062\n",
       "2          invoke-direct   22062\n",
       "3          invoke-direct   22062\n",
       "4          invoke-direct   22062\n",
       "...                  ...     ...\n",
       "103884    invoke-virtual   24772\n",
       "103885    invoke-virtual    1619\n",
       "103886  invoke-interface     495\n",
       "103887      invoke-super    1616\n",
       "103888      invoke-super    1617\n",
       "\n",
       "[103889 rows x 2 columns]"
      ]
     },
     "execution_count": 33,
     "metadata": {},
     "output_type": "execute_result"
    }
   ],
   "source": [
    "df[['invocation', 'api_id']]"
   ]
  },
  {
   "cell_type": "code",
   "execution_count": 12,
   "metadata": {},
   "outputs": [],
   "source": [
    "# nx.drawing.draw(B)"
   ]
  },
  {
   "cell_type": "code",
   "execution_count": null,
   "metadata": {},
   "outputs": [],
   "source": []
  },
  {
   "cell_type": "code",
   "execution_count": 13,
   "metadata": {},
   "outputs": [
    {
     "data": {
      "text/plain": [
       "1888812409.5"
      ]
     },
     "execution_count": 13,
     "metadata": {},
     "output_type": "execute_result"
    }
   ],
   "source": [
    "df.groupby('invocation').apply(lambda df:len(df)**2/2).sum()"
   ]
  },
  {
   "cell_type": "code",
   "execution_count": 14,
   "metadata": {},
   "outputs": [
    {
     "data": {
      "text/plain": [
       "1088624460.5"
      ]
     },
     "execution_count": 14,
     "metadata": {},
     "output_type": "execute_result"
    }
   ],
   "source": [
    "df.call.nunique()**2/2"
   ]
  },
  {
   "cell_type": "code",
   "execution_count": 15,
   "metadata": {
    "scrolled": true
   },
   "outputs": [
    {
     "name": "stdout",
     "output_type": "stream",
     "text": [
      "CPU times: user 83.2 ms, sys: 8.52 ms, total: 91.7 ms\n",
      "Wall time: 89.6 ms\n"
     ]
    }
   ],
   "source": [
    "%%time\n",
    "I = nx.Graph()\n",
    "I.add_nodes_from(df.call.unique())\n",
    "\n",
    "# I_pairs = df.groupby('invocation').progress_apply(method_pairs, graph=I)"
   ]
  },
  {
   "cell_type": "code",
   "execution_count": 16,
   "metadata": {},
   "outputs": [
    {
     "data": {
      "text/plain": [
       "invoke-virtual      53840\n",
       "invoke-static       20273\n",
       "invoke-direct       19725\n",
       "invoke-interface     8787\n",
       "invoke-super         1264\n",
       "Name: invocation, dtype: int64"
      ]
     },
     "execution_count": 16,
     "metadata": {},
     "output_type": "execute_result"
    }
   ],
   "source": [
    "df.invocation.value_counts()"
   ]
  },
  {
   "cell_type": "code",
   "execution_count": 17,
   "metadata": {},
   "outputs": [],
   "source": [
    "# df_group = df.loc[df.groupby('invocation').groups['invoke-virtual'], :]\n",
    "# # print(df_group.shape)\n",
    "# calls = df_group.api_id.unique()\n",
    "# pairs = combinations(calls, 2)\n",
    "# for pair in tqdm(pairs, total=len(calls)*(len(calls)-1)/2):\n",
    "#     I.add_edge(pair[0], pair[1])\n",
    "\n",
    "#     del pair\n",
    "#     break"
   ]
  },
  {
   "cell_type": "code",
   "execution_count": 18,
   "metadata": {},
   "outputs": [
    {
     "data": {
      "text/html": [
       "<div>\n",
       "<style scoped>\n",
       "    .dataframe tbody tr th:only-of-type {\n",
       "        vertical-align: middle;\n",
       "    }\n",
       "\n",
       "    .dataframe tbody tr th {\n",
       "        vertical-align: top;\n",
       "    }\n",
       "\n",
       "    .dataframe thead th {\n",
       "        text-align: right;\n",
       "    }\n",
       "</style>\n",
       "<table border=\"1\" class=\"dataframe\">\n",
       "  <thead>\n",
       "    <tr style=\"text-align: right;\">\n",
       "      <th></th>\n",
       "      <th>call</th>\n",
       "      <th>filename</th>\n",
       "      <th>code_block_id</th>\n",
       "      <th>invocation</th>\n",
       "      <th>package</th>\n",
       "      <th>method_name</th>\n",
       "      <th>api_id</th>\n",
       "    </tr>\n",
       "  </thead>\n",
       "  <tbody>\n",
       "    <tr>\n",
       "      <th>4234</th>\n",
       "      <td>invoke-virtual {p0}, Landroid/accessibilityser...</td>\n",
       "      <td>./../data/apps/com.paro.xmastreehdwallpaper/xm...</td>\n",
       "      <td>1407</td>\n",
       "      <td>invoke-virtual</td>\n",
       "      <td>Landroid/accessibilityservice/AccessibilitySer...</td>\n",
       "      <td>getCanRetrieveWindowContent</td>\n",
       "      <td>0</td>\n",
       "    </tr>\n",
       "    <tr>\n",
       "      <th>4240</th>\n",
       "      <td>invoke-virtual {p0}, Landroid/accessibilityser...</td>\n",
       "      <td>./../data/apps/com.paro.xmastreehdwallpaper/xm...</td>\n",
       "      <td>1413</td>\n",
       "      <td>invoke-virtual</td>\n",
       "      <td>Landroid/accessibilityservice/AccessibilitySer...</td>\n",
       "      <td>getCapabilities</td>\n",
       "      <td>1</td>\n",
       "    </tr>\n",
       "    <tr>\n",
       "      <th>4235</th>\n",
       "      <td>invoke-virtual {p0}, Landroid/accessibilityser...</td>\n",
       "      <td>./../data/apps/com.paro.xmastreehdwallpaper/xm...</td>\n",
       "      <td>1408</td>\n",
       "      <td>invoke-virtual</td>\n",
       "      <td>Landroid/accessibilityservice/AccessibilitySer...</td>\n",
       "      <td>getDescription</td>\n",
       "      <td>2</td>\n",
       "    </tr>\n",
       "    <tr>\n",
       "      <th>4236</th>\n",
       "      <td>invoke-virtual {p0}, Landroid/accessibilityser...</td>\n",
       "      <td>./../data/apps/com.paro.xmastreehdwallpaper/xm...</td>\n",
       "      <td>1409</td>\n",
       "      <td>invoke-virtual</td>\n",
       "      <td>Landroid/accessibilityservice/AccessibilitySer...</td>\n",
       "      <td>getId</td>\n",
       "      <td>3</td>\n",
       "    </tr>\n",
       "    <tr>\n",
       "      <th>4237</th>\n",
       "      <td>invoke-virtual {p0}, Landroid/accessibilityser...</td>\n",
       "      <td>./../data/apps/com.paro.xmastreehdwallpaper/xm...</td>\n",
       "      <td>1410</td>\n",
       "      <td>invoke-virtual</td>\n",
       "      <td>Landroid/accessibilityservice/AccessibilitySer...</td>\n",
       "      <td>getResolveInfo</td>\n",
       "      <td>4</td>\n",
       "    </tr>\n",
       "  </tbody>\n",
       "</table>\n",
       "</div>"
      ],
      "text/plain": [
       "                                                   call  \\\n",
       "4234  invoke-virtual {p0}, Landroid/accessibilityser...   \n",
       "4240  invoke-virtual {p0}, Landroid/accessibilityser...   \n",
       "4235  invoke-virtual {p0}, Landroid/accessibilityser...   \n",
       "4236  invoke-virtual {p0}, Landroid/accessibilityser...   \n",
       "4237  invoke-virtual {p0}, Landroid/accessibilityser...   \n",
       "\n",
       "                                               filename  code_block_id  \\\n",
       "4234  ./../data/apps/com.paro.xmastreehdwallpaper/xm...           1407   \n",
       "4240  ./../data/apps/com.paro.xmastreehdwallpaper/xm...           1413   \n",
       "4235  ./../data/apps/com.paro.xmastreehdwallpaper/xm...           1408   \n",
       "4236  ./../data/apps/com.paro.xmastreehdwallpaper/xm...           1409   \n",
       "4237  ./../data/apps/com.paro.xmastreehdwallpaper/xm...           1410   \n",
       "\n",
       "          invocation                                            package  \\\n",
       "4234  invoke-virtual  Landroid/accessibilityservice/AccessibilitySer...   \n",
       "4240  invoke-virtual  Landroid/accessibilityservice/AccessibilitySer...   \n",
       "4235  invoke-virtual  Landroid/accessibilityservice/AccessibilitySer...   \n",
       "4236  invoke-virtual  Landroid/accessibilityservice/AccessibilitySer...   \n",
       "4237  invoke-virtual  Landroid/accessibilityservice/AccessibilitySer...   \n",
       "\n",
       "                      method_name  api_id  \n",
       "4234  getCanRetrieveWindowContent       0  \n",
       "4240              getCapabilities       1  \n",
       "4235               getDescription       2  \n",
       "4236                        getId       3  \n",
       "4237               getResolveInfo       4  "
      ]
     },
     "execution_count": 18,
     "metadata": {},
     "output_type": "execute_result"
    }
   ],
   "source": [
    "df.sort_values('api_id').head()"
   ]
  },
  {
   "cell_type": "code",
   "execution_count": null,
   "metadata": {},
   "outputs": [],
   "source": []
  },
  {
   "cell_type": "code",
   "execution_count": null,
   "metadata": {},
   "outputs": [],
   "source": []
  },
  {
   "cell_type": "code",
   "execution_count": 19,
   "metadata": {},
   "outputs": [],
   "source": [
    "n = df.api_id.nunique()\n",
    "A = np.zeros((n,n))\n",
    "\n",
    "from scipy.sparse import csr_matrix\n",
    "# A = csr_matrix((n, n))"
   ]
  },
  {
   "cell_type": "code",
   "execution_count": null,
   "metadata": {},
   "outputs": [],
   "source": []
  },
  {
   "cell_type": "code",
   "execution_count": 20,
   "metadata": {},
   "outputs": [
    {
     "name": "stderr",
     "output_type": "stream",
     "text": [
      "100%|██████████| 79802661/79802661.0 [01:09<00:00, 1150828.63it/s]\n"
     ]
    }
   ],
   "source": [
    "df_group = df.loc[df.groupby('invocation').groups['invoke-virtual'], :]\n",
    "# print(df_group.shape)\n",
    "calls = df_group.api_id.unique()\n",
    "pairs = combinations(calls, 2)\n",
    "for pair in tqdm(pairs, total=len(calls)*(len(calls)-1)/2):\n",
    "    A[pair[0], pair[1]] = 1\n",
    "    A[pair[1], pair[0]] = 1"
   ]
  },
  {
   "cell_type": "code",
   "execution_count": 30,
   "metadata": {},
   "outputs": [
    {
     "data": {
      "text/plain": [
       "array([[0., 1., 1., ..., 1., 1., 1.],\n",
       "       [1., 0., 1., ..., 1., 1., 1.],\n",
       "       [1., 1., 0., ..., 1., 1., 1.],\n",
       "       ...,\n",
       "       [1., 1., 1., ..., 0., 1., 1.],\n",
       "       [1., 1., 1., ..., 1., 0., 1.],\n",
       "       [1., 1., 1., ..., 1., 1., 0.]])"
      ]
     },
     "execution_count": 30,
     "metadata": {},
     "output_type": "execute_result"
    }
   ],
   "source": []
  },
  {
   "cell_type": "code",
   "execution_count": 25,
   "metadata": {},
   "outputs": [],
   "source": [
    "from scipy.sparse import csr_matrix"
   ]
  },
  {
   "cell_type": "code",
   "execution_count": 26,
   "metadata": {},
   "outputs": [],
   "source": [
    "a = csr_matrix(A)"
   ]
  },
  {
   "cell_type": "code",
   "execution_count": 29,
   "metadata": {},
   "outputs": [
    {
     "data": {
      "text/plain": [
       "48"
      ]
     },
     "execution_count": 29,
     "metadata": {},
     "output_type": "execute_result"
    }
   ],
   "source": [
    "sys.getsizeof(a)"
   ]
  },
  {
   "cell_type": "code",
   "execution_count": null,
   "metadata": {},
   "outputs": [],
   "source": []
  },
  {
   "cell_type": "code",
   "execution_count": 24,
   "metadata": {},
   "outputs": [
    {
     "data": {
      "text/plain": [
       "4.933025904"
      ]
     },
     "execution_count": 24,
     "metadata": {},
     "output_type": "execute_result"
    }
   ],
   "source": [
    "import sys\n",
    "sys.getsizeof(A)/1e9"
   ]
  }
 ],
 "metadata": {
  "kernelspec": {
   "display_name": "Python [conda env:dsc180]",
   "language": "python",
   "name": "conda-env-dsc180-py"
  },
  "language_info": {
   "codemirror_mode": {
    "name": "ipython",
    "version": 3
   },
   "file_extension": ".py",
   "mimetype": "text/x-python",
   "name": "python",
   "nbconvert_exporter": "python",
   "pygments_lexer": "ipython3",
   "version": "3.8.1"
  }
 },
 "nbformat": 4,
 "nbformat_minor": 2
}
