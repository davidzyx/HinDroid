{
 "cells": [
  {
   "cell_type": "code",
   "execution_count": 1,
   "metadata": {},
   "outputs": [],
   "source": [
    "import pandas as pd"
   ]
  },
  {
   "cell_type": "code",
   "execution_count": 31,
   "metadata": {},
   "outputs": [],
   "source": [
    "df = pd.read_csv('../data/metadata.csv')"
   ]
  },
  {
   "cell_type": "code",
   "execution_count": 32,
   "metadata": {},
   "outputs": [
    {
     "data": {
      "text/plain": [
       "loc             object\n",
       "lastmod         object\n",
       "changefreq      object\n",
       "priority       float64\n",
       "image_loc       object\n",
       "name            object\n",
       "sitemap_url     object\n",
       "category        object\n",
       "dtype: object"
      ]
     },
     "execution_count": 32,
     "metadata": {},
     "output_type": "execute_result"
    }
   ],
   "source": [
    "df.dtypes"
   ]
  },
  {
   "cell_type": "code",
   "execution_count": 11,
   "metadata": {},
   "outputs": [
    {
     "data": {
      "text/plain": [
       "(7744702, 8)"
      ]
     },
     "execution_count": 11,
     "metadata": {},
     "output_type": "execute_result"
    }
   ],
   "source": [
    "df.shape"
   ]
  },
  {
   "cell_type": "code",
   "execution_count": 14,
   "metadata": {
    "scrolled": true
   },
   "outputs": [
    {
     "data": {
      "text/plain": [
       "https://apkpure.com/vendetta-miami-police-simulator-2019/com.fortunestudios.vendettamiamipolicesimulator2    2\n",
       "https://apkpure.com/navratri-photo-editor-new/dynamic.technosys.navratriphotoeditornew                       1\n",
       "https://apkpure.com/got7-lullaby-mp3-music/com.andromo.dev675887.app857189                                   1\n",
       "https://apkpure.com/s-timing/appinventor.ai_peteruhlig.S_TIMING                                              1\n",
       "https://apkpure.com/le-raj-nuneaton/com.brandapps1108230                                                     1\n",
       "                                                                                                            ..\n",
       "https://apkpure.com/giddomains-domain-registration/ru.lksn.regdomains                                        1\n",
       "https://apkpure.com/player-chillout-dreams-radio/com.greencabbage.chilloutradio                              1\n",
       "https://apkpure.com/sustainable-research/com.ideasgate.research_app                                          1\n",
       "https://apkpure.com/acu%C3%A9rdate-de-este-canalla/com.albumapp.grito                                        1\n",
       "https://apkpure.com/my-name-ringtone-maker/animation.mynameringtonemaker                                     1\n",
       "Name: loc, Length: 7744701, dtype: int64"
      ]
     },
     "execution_count": 14,
     "metadata": {},
     "output_type": "execute_result"
    }
   ],
   "source": [
    "df['loc'].value_counts()"
   ]
  },
  {
   "cell_type": "code",
   "execution_count": 33,
   "metadata": {},
   "outputs": [
    {
     "data": {
      "text/html": [
       "<div>\n",
       "<style scoped>\n",
       "    .dataframe tbody tr th:only-of-type {\n",
       "        vertical-align: middle;\n",
       "    }\n",
       "\n",
       "    .dataframe tbody tr th {\n",
       "        vertical-align: top;\n",
       "    }\n",
       "\n",
       "    .dataframe thead th {\n",
       "        text-align: right;\n",
       "    }\n",
       "</style>\n",
       "<table border=\"1\" class=\"dataframe\">\n",
       "  <thead>\n",
       "    <tr style=\"text-align: right;\">\n",
       "      <th></th>\n",
       "      <th>loc</th>\n",
       "      <th>lastmod</th>\n",
       "      <th>changefreq</th>\n",
       "      <th>priority</th>\n",
       "      <th>image_loc</th>\n",
       "      <th>name</th>\n",
       "      <th>sitemap_url</th>\n",
       "      <th>category</th>\n",
       "    </tr>\n",
       "  </thead>\n",
       "  <tbody>\n",
       "    <tr>\n",
       "      <th>1119304</th>\n",
       "      <td>https://apkpure.com/vendetta-miami-police-simu...</td>\n",
       "      <td>2019-05-17 11:24:48+00:00</td>\n",
       "      <td>weekly</td>\n",
       "      <td>0.6</td>\n",
       "      <td>https://image.winudf.com/v2/image1/Y29tLmZvcnR...</td>\n",
       "      <td>Vendetta Miami Police Simulator 2019</td>\n",
       "      <td>https://apkpure.com/sitemaps/comics-15.xml.gz</td>\n",
       "      <td>comics</td>\n",
       "    </tr>\n",
       "    <tr>\n",
       "      <th>6554267</th>\n",
       "      <td>https://apkpure.com/vendetta-miami-police-simu...</td>\n",
       "      <td>2019-05-17 11:24:48+00:00</td>\n",
       "      <td>weekly</td>\n",
       "      <td>0.6</td>\n",
       "      <td>https://image.winudf.com/v2/image1/Y29tLmZvcnR...</td>\n",
       "      <td>Vendetta Miami Police Simulator 2019</td>\n",
       "      <td>https://apkpure.com/sitemaps/game_action-97.xm...</td>\n",
       "      <td>game_action</td>\n",
       "    </tr>\n",
       "  </tbody>\n",
       "</table>\n",
       "</div>"
      ],
      "text/plain": [
       "                                                       loc  \\\n",
       "1119304  https://apkpure.com/vendetta-miami-police-simu...   \n",
       "6554267  https://apkpure.com/vendetta-miami-police-simu...   \n",
       "\n",
       "                           lastmod changefreq  priority  \\\n",
       "1119304  2019-05-17 11:24:48+00:00     weekly       0.6   \n",
       "6554267  2019-05-17 11:24:48+00:00     weekly       0.6   \n",
       "\n",
       "                                                 image_loc  \\\n",
       "1119304  https://image.winudf.com/v2/image1/Y29tLmZvcnR...   \n",
       "6554267  https://image.winudf.com/v2/image1/Y29tLmZvcnR...   \n",
       "\n",
       "                                         name  \\\n",
       "1119304  Vendetta Miami Police Simulator 2019   \n",
       "6554267  Vendetta Miami Police Simulator 2019   \n",
       "\n",
       "                                               sitemap_url     category  \n",
       "1119304      https://apkpure.com/sitemaps/comics-15.xml.gz       comics  \n",
       "6554267  https://apkpure.com/sitemaps/game_action-97.xm...  game_action  "
      ]
     },
     "execution_count": 33,
     "metadata": {},
     "output_type": "execute_result"
    }
   ],
   "source": [
    "df[(df['name'] == 'Vendetta Miami Police Simulator 2019')]"
   ]
  },
  {
   "cell_type": "markdown",
   "metadata": {},
   "source": [
    "### Cleaning"
   ]
  },
  {
   "cell_type": "code",
   "execution_count": 37,
   "metadata": {},
   "outputs": [],
   "source": [
    "df = df[~((df['name'] == 'Vendetta Miami Police Simulator 2019') & (df['category'] == 'comics'))]"
   ]
  },
  {
   "cell_type": "code",
   "execution_count": 55,
   "metadata": {
    "scrolled": false
   },
   "outputs": [],
   "source": [
    "df.to_csv('../data/metadata.csv')"
   ]
  },
  {
   "cell_type": "code",
   "execution_count": null,
   "metadata": {},
   "outputs": [],
   "source": []
  }
 ],
 "metadata": {
  "kernelspec": {
   "display_name": "Python 3",
   "language": "python",
   "name": "python3"
  },
  "language_info": {
   "codemirror_mode": {
    "name": "ipython",
    "version": 3
   },
   "file_extension": ".py",
   "mimetype": "text/x-python",
   "name": "python",
   "nbconvert_exporter": "python",
   "pygments_lexer": "ipython3",
   "version": "3.7.3"
  }
 },
 "nbformat": 4,
 "nbformat_minor": 2
}
