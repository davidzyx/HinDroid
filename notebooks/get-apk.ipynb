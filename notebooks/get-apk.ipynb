{
 "cells": [
  {
   "cell_type": "code",
   "execution_count": 36,
   "metadata": {},
   "outputs": [],
   "source": [
    "import urllib\n",
    "import requests\n",
    "import os\n",
    "import subprocess\n",
    "import shutil\n",
    "\n",
    "# !pip install beautifulsoup4\n",
    "from bs4 import BeautifulSoup"
   ]
  },
  {
   "cell_type": "code",
   "execution_count": 37,
   "metadata": {},
   "outputs": [],
   "source": [
    "def get_app(app_url):\n",
    "    app_url += '/download?from=details'\n",
    "    download_page = requests.get(app_url)\n",
    "    soup = BeautifulSoup(download_page.content)\n",
    "    apk_url = soup.select('#iframe_download')[0].attrs['src']\n",
    "    return requests.get(apk_url).content"
   ]
  },
  {
   "cell_type": "code",
   "execution_count": 38,
   "metadata": {},
   "outputs": [],
   "source": [
    "# k = get_app('https://apkpure.com/wallpaper-for-iphone-x-8-8/com.wallpapersforiphoneX.themeapplock88plus')"
   ]
  },
  {
   "cell_type": "code",
   "execution_count": 39,
   "metadata": {},
   "outputs": [],
   "source": [
    "def get_data(**config):\n",
    "    data_dir = config['data_dir']\n",
    "    if not os.path.exists(data_dir):\n",
    "        os.mkdir(data_dir)\n",
    "        \n",
    "    apps_dir = os.path.join(data_dir, 'apps')\n",
    "    if not os.path.exists(apps_dir):\n",
    "        os.mkdir(apps_dir)\n",
    "    \n",
    "    for url in config['urls']:\n",
    "        app_slug, app_dev = url.split('/')[-2:]\n",
    "        app_slug = urllib.parse.unquote(app_slug)  # include or not\n",
    "        dev_dir = os.path.join(apps_dir, app_dev)\n",
    "        if not os.path.exists(dev_dir):\n",
    "            os.mkdir(dev_dir)\n",
    "        \n",
    "        apk = get_app(url)\n",
    "        \n",
    "        apk_fn = os.path.join(dev_dir, app_slug + '.apk')\n",
    "        apk_fp = open(apk_fn, 'wb')\n",
    "        apk_fp.write(apk)\n",
    "        print(apk_fn)\n",
    "        \n",
    "        code_dir = os.path.join(dev_dir, app_slug)\n",
    "        if os.path.exists(code_dir):\n",
    "            shutil.rmtree(code_dir)\n",
    "            \n",
    "        command = subprocess.run([\n",
    "            'apktool', 'd',  # decode\n",
    "            '-r',            # no resources\n",
    "            apk_fn,          # apk filename\n",
    "            '-o', code_dir   # decompiled out path\n",
    "        ], capture_output=True)\n",
    "        print(command.stdout.decode())"
   ]
  },
  {
   "cell_type": "code",
   "execution_count": 40,
   "metadata": {},
   "outputs": [
    {
     "name": "stdout",
     "output_type": "stream",
     "text": [
      "../data/apps/com.wallpapersforiphoneX.themeapplock88plus/wallpaper-for-iphone-x-8-8.apk\n",
      "I: Using Apktool 2.4.1 on wallpaper-for-iphone-x-8-8.apk\n",
      "I: Copying raw resources...\n",
      "I: Baksmaling classes.dex...\n",
      "I: Copying assets and libs...\n",
      "I: Copying unknown files...\n",
      "I: Copying original files...\n",
      "\n",
      "../data/apps/com.instagram.android/instagram.apk\n",
      "I: Using Apktool 2.4.1 on instagram.apk\n",
      "I: Copying raw resources...\n",
      "I: Baksmaling classes.dex...\n",
      "I: Baksmaling classes2.dex...\n",
      "I: Baksmaling classes3.dex...\n",
      "I: Baksmaling classes4.dex...\n",
      "I: Copying assets and libs...\n",
      "I: Copying unknown files...\n",
      "I: Copying original files...\n",
      "\n"
     ]
    }
   ],
   "source": [
    "get_data(**cfg)"
   ]
  },
  {
   "cell_type": "code",
   "execution_count": null,
   "metadata": {},
   "outputs": [],
   "source": []
  },
  {
   "cell_type": "code",
   "execution_count": null,
   "metadata": {},
   "outputs": [],
   "source": []
  },
  {
   "cell_type": "code",
   "execution_count": 17,
   "metadata": {},
   "outputs": [],
   "source": [
    "cfg = {\n",
    "    'data_dir': '../data',\n",
    "    'urls': [\n",
    "        'https://apkpure.com/wallpaper-for-iphone-x-8-8/com.wallpapersforiphoneX.themeapplock88plus',\n",
    "        'https://apkpure.com/instagram/com.instagram.android'\n",
    "    ]\n",
    "}"
   ]
  },
  {
   "cell_type": "code",
   "execution_count": null,
   "metadata": {},
   "outputs": [],
   "source": []
  }
 ],
 "metadata": {
  "kernelspec": {
   "display_name": "Python [conda env:dsc180]",
   "language": "python",
   "name": "conda-env-dsc180-py"
  },
  "language_info": {
   "codemirror_mode": {
    "name": "ipython",
    "version": 3
   },
   "file_extension": ".py",
   "mimetype": "text/x-python",
   "name": "python",
   "nbconvert_exporter": "python",
   "pygments_lexer": "ipython3",
   "version": "3.8.1"
  }
 },
 "nbformat": 4,
 "nbformat_minor": 2
}
