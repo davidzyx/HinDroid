{
 "cells": [
  {
   "cell_type": "code",
   "execution_count": 1,
   "metadata": {},
   "outputs": [],
   "source": [
    "import re\n",
    "import pandas as pd\n",
    "import numpy as np\n",
    "from glob import glob\n",
    "import networkx as nx\n",
    "import matplotlib.pyplot as plt\n",
    "from functools import reduce\n",
    "\n",
    "# !conda install -c conda-forge tqdm -y\n",
    "from tqdm import tqdm\n",
    "# !pip install multiprocess\n",
    "from multiprocess import Pool\n"
   ]
  },
  {
   "cell_type": "code",
   "execution_count": 2,
   "metadata": {},
   "outputs": [],
   "source": [
    "code_dir = './ToDo List Free To Do Task Lists_v1.3_apkpure.com/'\n",
    "# code_dir = './Instagram_v123.0.0.21.114_apkpure.com.apk'"
   ]
  },
  {
   "cell_type": "code",
   "execution_count": 3,
   "metadata": {
    "scrolled": true
   },
   "outputs": [],
   "source": [
    "smali_fns = glob(code_dir + 'smali/**/*.smali', recursive=True)"
   ]
  },
  {
   "cell_type": "code",
   "execution_count": 4,
   "metadata": {},
   "outputs": [],
   "source": [
    "def extract_invokes(fn):\n",
    "    with open(fn) as f:\n",
    "        pattern = (\n",
    "            '(invoke-.*)'  # invoke method\n",
    "        )\n",
    "        data = re.findall(pattern, f.read())\n",
    "        if len(data) == 0: return pd.DataFrame()\n",
    "        df = pd.DataFrame(np.array(data), columns=[\n",
    "            'invoke'\n",
    "        ])\n",
    "        df['filename'] = fn\n",
    "    return df\n",
    "\n",
    "with Pool(8) as p:\n",
    "    r = list(p.map(extract_invokes, smali_fns))\n",
    "    \n",
    "invokes = pd.concat(r, ignore_index=True)"
   ]
  },
  {
   "cell_type": "code",
   "execution_count": 5,
   "metadata": {},
   "outputs": [
    {
     "data": {
      "text/plain": [
       "170329"
      ]
     },
     "execution_count": 5,
     "metadata": {},
     "output_type": "execute_result"
    }
   ],
   "source": [
    "len(invokes)"
   ]
  },
  {
   "cell_type": "code",
   "execution_count": 6,
   "metadata": {},
   "outputs": [],
   "source": [
    "def extract_calls(fn):\n",
    "    with open(fn) as f:\n",
    "        pattern = (\n",
    "            '((invoke-\\w+)(?:\\/range)? '  # invoke method\n",
    "            + '(?:{(?:\\w\\d+(?:, \\w\\d+)*)*}|{\\w\\d+ .. \\w\\d+}), '  # argument registers\n",
    "            + '(\\[?[ZBSCFIJD]|\\[?L[\\w\\/$]+;)'  # library\n",
    "            + '->([\\w$]+|<init>)'  # function name\n",
    "            + '\\((\\[*[VZBSCFIJD]|\\[*L[\\w\\/$]+;)*\\)'  # argument types\n",
    "            + '(\\[?[VZBSCFIJD]|\\[?L[\\w\\/$]+;))'  # return value\n",
    "        )\n",
    "        data = re.findall(pattern, f.read())\n",
    "        if len(data) == 0: return pd.DataFrame()\n",
    "        df = pd.DataFrame(np.array(data), columns=[\n",
    "            'call', 'invoke_method', 'class', 'function', 'argument_types', 'return_type',\n",
    "        ])\n",
    "        df['filename'] = fn\n",
    "    return df"
   ]
  },
  {
   "cell_type": "code",
   "execution_count": 7,
   "metadata": {},
   "outputs": [],
   "source": [
    "with Pool(8) as p:\n",
    "    r = list(p.map(extract_calls, smali_fns))\n",
    "    \n",
    "calls = pd.concat(r, ignore_index=True)"
   ]
  },
  {
   "cell_type": "code",
   "execution_count": 8,
   "metadata": {},
   "outputs": [
    {
     "data": {
      "text/plain": [
       "170329"
      ]
     },
     "execution_count": 8,
     "metadata": {},
     "output_type": "execute_result"
    }
   ],
   "source": [
    "len(calls)"
   ]
  },
  {
   "cell_type": "code",
   "execution_count": 9,
   "metadata": {},
   "outputs": [
    {
     "data": {
      "text/plain": [
       "invoke-virtual      81871\n",
       "invoke-static       36878\n",
       "invoke-direct       32990\n",
       "invoke-interface    16589\n",
       "invoke-super         2001\n",
       "Name: invoke_method, dtype: int64"
      ]
     },
     "execution_count": 9,
     "metadata": {},
     "output_type": "execute_result"
    }
   ],
   "source": [
    "calls.invoke_method.value_counts()"
   ]
  },
  {
   "cell_type": "code",
   "execution_count": 154,
   "metadata": {},
   "outputs": [
    {
     "data": {
      "text/plain": [
       "[]"
      ]
     },
     "execution_count": 154,
     "metadata": {},
     "output_type": "execute_result"
    }
   ],
   "source": [
    "list(set(invokes.invoke) - set(calls.call))"
   ]
  },
  {
   "cell_type": "code",
   "execution_count": 10,
   "metadata": {},
   "outputs": [
    {
     "data": {
      "text/html": [
       "<div>\n",
       "<style scoped>\n",
       "    .dataframe tbody tr th:only-of-type {\n",
       "        vertical-align: middle;\n",
       "    }\n",
       "\n",
       "    .dataframe tbody tr th {\n",
       "        vertical-align: top;\n",
       "    }\n",
       "\n",
       "    .dataframe thead th {\n",
       "        text-align: right;\n",
       "    }\n",
       "</style>\n",
       "<table border=\"1\" class=\"dataframe\">\n",
       "  <thead>\n",
       "    <tr style=\"text-align: right;\">\n",
       "      <th></th>\n",
       "      <th>call</th>\n",
       "      <th>invoke_method</th>\n",
       "      <th>class</th>\n",
       "      <th>function</th>\n",
       "      <th>argument_types</th>\n",
       "      <th>return_type</th>\n",
       "      <th>filename</th>\n",
       "    </tr>\n",
       "  </thead>\n",
       "  <tbody>\n",
       "    <tr>\n",
       "      <th>0</th>\n",
       "      <td>invoke-direct {p0}, Landroidx/transition/PathM...</td>\n",
       "      <td>invoke-direct</td>\n",
       "      <td>Landroidx/transition/PathMotion;</td>\n",
       "      <td>&lt;init&gt;</td>\n",
       "      <td></td>\n",
       "      <td>V</td>\n",
       "      <td>./ToDo List Free To Do Task Lists_v1.3_apkpure...</td>\n",
       "    </tr>\n",
       "    <tr>\n",
       "      <th>1</th>\n",
       "      <td>invoke-direct {v0}, Landroid/graphics/Path;-&gt;&lt;...</td>\n",
       "      <td>invoke-direct</td>\n",
       "      <td>Landroid/graphics/Path;</td>\n",
       "      <td>&lt;init&gt;</td>\n",
       "      <td></td>\n",
       "      <td>V</td>\n",
       "      <td>./ToDo List Free To Do Task Lists_v1.3_apkpure...</td>\n",
       "    </tr>\n",
       "    <tr>\n",
       "      <th>2</th>\n",
       "      <td>invoke-direct {v0}, Landroid/graphics/Matrix;-...</td>\n",
       "      <td>invoke-direct</td>\n",
       "      <td>Landroid/graphics/Matrix;</td>\n",
       "      <td>&lt;init&gt;</td>\n",
       "      <td></td>\n",
       "      <td>V</td>\n",
       "      <td>./ToDo List Free To Do Task Lists_v1.3_apkpure...</td>\n",
       "    </tr>\n",
       "    <tr>\n",
       "      <th>3</th>\n",
       "      <td>invoke-virtual {v0, v1, v2}, Landroid/graphics...</td>\n",
       "      <td>invoke-virtual</td>\n",
       "      <td>Landroid/graphics/Path;</td>\n",
       "      <td>lineTo</td>\n",
       "      <td>F</td>\n",
       "      <td>V</td>\n",
       "      <td>./ToDo List Free To Do Task Lists_v1.3_apkpure...</td>\n",
       "    </tr>\n",
       "    <tr>\n",
       "      <th>4</th>\n",
       "      <td>invoke-direct {p0}, Landroidx/transition/PathM...</td>\n",
       "      <td>invoke-direct</td>\n",
       "      <td>Landroidx/transition/PathMotion;</td>\n",
       "      <td>&lt;init&gt;</td>\n",
       "      <td></td>\n",
       "      <td>V</td>\n",
       "      <td>./ToDo List Free To Do Task Lists_v1.3_apkpure...</td>\n",
       "    </tr>\n",
       "  </tbody>\n",
       "</table>\n",
       "</div>"
      ],
      "text/plain": [
       "                                                call   invoke_method  \\\n",
       "0  invoke-direct {p0}, Landroidx/transition/PathM...   invoke-direct   \n",
       "1  invoke-direct {v0}, Landroid/graphics/Path;-><...   invoke-direct   \n",
       "2  invoke-direct {v0}, Landroid/graphics/Matrix;-...   invoke-direct   \n",
       "3  invoke-virtual {v0, v1, v2}, Landroid/graphics...  invoke-virtual   \n",
       "4  invoke-direct {p0}, Landroidx/transition/PathM...   invoke-direct   \n",
       "\n",
       "                              class function argument_types return_type  \\\n",
       "0  Landroidx/transition/PathMotion;   <init>                          V   \n",
       "1           Landroid/graphics/Path;   <init>                          V   \n",
       "2         Landroid/graphics/Matrix;   <init>                          V   \n",
       "3           Landroid/graphics/Path;   lineTo              F           V   \n",
       "4  Landroidx/transition/PathMotion;   <init>                          V   \n",
       "\n",
       "                                            filename  \n",
       "0  ./ToDo List Free To Do Task Lists_v1.3_apkpure...  \n",
       "1  ./ToDo List Free To Do Task Lists_v1.3_apkpure...  \n",
       "2  ./ToDo List Free To Do Task Lists_v1.3_apkpure...  \n",
       "3  ./ToDo List Free To Do Task Lists_v1.3_apkpure...  \n",
       "4  ./ToDo List Free To Do Task Lists_v1.3_apkpure...  "
      ]
     },
     "execution_count": 10,
     "metadata": {},
     "output_type": "execute_result"
    }
   ],
   "source": [
    "calls.head()"
   ]
  },
  {
   "cell_type": "code",
   "execution_count": 102,
   "metadata": {},
   "outputs": [
    {
     "data": {
      "text/html": [
       "<div>\n",
       "<style scoped>\n",
       "    .dataframe tbody tr th:only-of-type {\n",
       "        vertical-align: middle;\n",
       "    }\n",
       "\n",
       "    .dataframe tbody tr th {\n",
       "        vertical-align: top;\n",
       "    }\n",
       "\n",
       "    .dataframe thead th {\n",
       "        text-align: right;\n",
       "    }\n",
       "</style>\n",
       "<table border=\"1\" class=\"dataframe\">\n",
       "  <thead>\n",
       "    <tr style=\"text-align: right;\">\n",
       "      <th></th>\n",
       "      <th>call</th>\n",
       "      <th>invoke_method</th>\n",
       "      <th>class</th>\n",
       "      <th>function</th>\n",
       "      <th>argument</th>\n",
       "      <th>return</th>\n",
       "      <th>filename</th>\n",
       "    </tr>\n",
       "  </thead>\n",
       "  <tbody>\n",
       "    <tr>\n",
       "      <th>140217</th>\n",
       "      <td>invoke-virtual {p0}, Lcom/google/android/gms/i...</td>\n",
       "      <td>invoke-virtual</td>\n",
       "      <td>Lcom/google/android/gms/internal/gtm/zzcm;</td>\n",
       "      <td>zzfv</td>\n",
       "      <td></td>\n",
       "      <td>J</td>\n",
       "      <td>./ToDo List Free To Do Task Lists_v1.3_apkpure...</td>\n",
       "    </tr>\n",
       "    <tr>\n",
       "      <th>77725</th>\n",
       "      <td>invoke-interface {p1}, Ljava/util/List;-&gt;isEmp...</td>\n",
       "      <td>invoke-interface</td>\n",
       "      <td>Ljava/util/List;</td>\n",
       "      <td>isEmpty</td>\n",
       "      <td></td>\n",
       "      <td>Z</td>\n",
       "      <td>./ToDo List Free To Do Task Lists_v1.3_apkpure...</td>\n",
       "    </tr>\n",
       "    <tr>\n",
       "      <th>24610</th>\n",
       "      <td>invoke-virtual {p0, p1}, Landroidx/recyclervie...</td>\n",
       "      <td>invoke-virtual</td>\n",
       "      <td>Landroidx/recyclerview/widget/RecyclerView$Lay...</td>\n",
       "      <td>removeView</td>\n",
       "      <td>Landroid/view/View;</td>\n",
       "      <td>V</td>\n",
       "      <td>./ToDo List Free To Do Task Lists_v1.3_apkpure...</td>\n",
       "    </tr>\n",
       "    <tr>\n",
       "      <th>95244</th>\n",
       "      <td>invoke-direct {p0}, Lcom/google/android/gms/in...</td>\n",
       "      <td>invoke-direct</td>\n",
       "      <td>Lcom/google/android/gms/internal/ads/zzawi;</td>\n",
       "      <td>&lt;init&gt;</td>\n",
       "      <td></td>\n",
       "      <td>V</td>\n",
       "      <td>./ToDo List Free To Do Task Lists_v1.3_apkpure...</td>\n",
       "    </tr>\n",
       "    <tr>\n",
       "      <th>93234</th>\n",
       "      <td>invoke-virtual {v1, p2, v8}, Lcom/google/andro...</td>\n",
       "      <td>invoke-virtual</td>\n",
       "      <td>Lcom/google/android/gms/internal/ads/zzdri;</td>\n",
       "      <td>zza</td>\n",
       "      <td>Ljava/util/Map$Entry;</td>\n",
       "      <td>V</td>\n",
       "      <td>./ToDo List Free To Do Task Lists_v1.3_apkpure...</td>\n",
       "    </tr>\n",
       "    <tr>\n",
       "      <th>31863</th>\n",
       "      <td>invoke-virtual {p0, p2}, Landroidx/appcompat/w...</td>\n",
       "      <td>invoke-virtual</td>\n",
       "      <td>Landroidx/appcompat/widget/ToolbarWidgetWrapper;</td>\n",
       "      <td>setTitle</td>\n",
       "      <td>Ljava/lang/CharSequence;</td>\n",
       "      <td>V</td>\n",
       "      <td>./ToDo List Free To Do Task Lists_v1.3_apkpure...</td>\n",
       "    </tr>\n",
       "    <tr>\n",
       "      <th>61280</th>\n",
       "      <td>invoke-interface {v9, v0}, Landroid/database/C...</td>\n",
       "      <td>invoke-interface</td>\n",
       "      <td>Landroid/database/Cursor;</td>\n",
       "      <td>getLong</td>\n",
       "      <td>I</td>\n",
       "      <td>J</td>\n",
       "      <td>./ToDo List Free To Do Task Lists_v1.3_apkpure...</td>\n",
       "    </tr>\n",
       "    <tr>\n",
       "      <th>100565</th>\n",
       "      <td>invoke-static {v0, p2}, Lcom/google/android/gm...</td>\n",
       "      <td>invoke-static</td>\n",
       "      <td>Lcom/google/android/gms/internal/ads/zzbsu;</td>\n",
       "      <td>zzb</td>\n",
       "      <td>Ljava/util/concurrent/Executor;</td>\n",
       "      <td>Lcom/google/android/gms/internal/ads/zzbsu;</td>\n",
       "      <td>./ToDo List Free To Do Task Lists_v1.3_apkpure...</td>\n",
       "    </tr>\n",
       "    <tr>\n",
       "      <th>20691</th>\n",
       "      <td>invoke-virtual {p2, p1}, Ljava/io/PrintWriter;...</td>\n",
       "      <td>invoke-virtual</td>\n",
       "      <td>Ljava/io/PrintWriter;</td>\n",
       "      <td>print</td>\n",
       "      <td>Ljava/lang/String;</td>\n",
       "      <td>V</td>\n",
       "      <td>./ToDo List Free To Do Task Lists_v1.3_apkpure...</td>\n",
       "    </tr>\n",
       "    <tr>\n",
       "      <th>106820</th>\n",
       "      <td>invoke-interface {p1, v2, v3, v0}, Ljava/util/...</td>\n",
       "      <td>invoke-interface</td>\n",
       "      <td>Ljava/util/concurrent/Future;</td>\n",
       "      <td>get</td>\n",
       "      <td>Ljava/util/concurrent/TimeUnit;</td>\n",
       "      <td>Ljava/lang/Object;</td>\n",
       "      <td>./ToDo List Free To Do Task Lists_v1.3_apkpure...</td>\n",
       "    </tr>\n",
       "    <tr>\n",
       "      <th>21727</th>\n",
       "      <td>invoke-direct {p0, p1}, Landroidx/recyclerview...</td>\n",
       "      <td>invoke-direct</td>\n",
       "      <td>Landroidx/recyclerview/widget/LinearLayoutMana...</td>\n",
       "      <td>computeScrollExtent</td>\n",
       "      <td>Landroidx/recyclerview/widget/RecyclerView$State;</td>\n",
       "      <td>I</td>\n",
       "      <td>./ToDo List Free To Do Task Lists_v1.3_apkpure...</td>\n",
       "    </tr>\n",
       "    <tr>\n",
       "      <th>133738</th>\n",
       "      <td>invoke-virtual {p1}, Lcom/google/android/gms/i...</td>\n",
       "      <td>invoke-virtual</td>\n",
       "      <td>Lcom/google/android/gms/internal/measurement/z...</td>\n",
       "      <td>zzc</td>\n",
       "      <td></td>\n",
       "      <td>V</td>\n",
       "      <td>./ToDo List Free To Do Task Lists_v1.3_apkpure...</td>\n",
       "    </tr>\n",
       "    <tr>\n",
       "      <th>95782</th>\n",
       "      <td>invoke-static {p1}, Ljava/lang/Integer;-&gt;value...</td>\n",
       "      <td>invoke-static</td>\n",
       "      <td>Ljava/lang/Integer;</td>\n",
       "      <td>valueOf</td>\n",
       "      <td>I</td>\n",
       "      <td>Ljava/lang/Integer;</td>\n",
       "      <td>./ToDo List Free To Do Task Lists_v1.3_apkpure...</td>\n",
       "    </tr>\n",
       "    <tr>\n",
       "      <th>132034</th>\n",
       "      <td>invoke-interface {p2, v3}, Lcom/google/android...</td>\n",
       "      <td>invoke-interface</td>\n",
       "      <td>Lcom/google/android/gms/internal/measurement/z...</td>\n",
       "      <td>zzm</td>\n",
       "      <td>Ljava/util/List;</td>\n",
       "      <td>V</td>\n",
       "      <td>./ToDo List Free To Do Task Lists_v1.3_apkpure...</td>\n",
       "    </tr>\n",
       "    <tr>\n",
       "      <th>75973</th>\n",
       "      <td>invoke-direct {p0}, Ljava/lang/Object;-&gt;&lt;init&gt;()V</td>\n",
       "      <td>invoke-direct</td>\n",
       "      <td>Ljava/lang/Object;</td>\n",
       "      <td>&lt;init&gt;</td>\n",
       "      <td></td>\n",
       "      <td>V</td>\n",
       "      <td>./ToDo List Free To Do Task Lists_v1.3_apkpure...</td>\n",
       "    </tr>\n",
       "    <tr>\n",
       "      <th>44972</th>\n",
       "      <td>invoke-virtual {p3, p1}, Landroid/os/Parcel;-&gt;...</td>\n",
       "      <td>invoke-virtual</td>\n",
       "      <td>Landroid/os/Parcel;</td>\n",
       "      <td>writeInt</td>\n",
       "      <td>I</td>\n",
       "      <td>V</td>\n",
       "      <td>./ToDo List Free To Do Task Lists_v1.3_apkpure...</td>\n",
       "    </tr>\n",
       "    <tr>\n",
       "      <th>57748</th>\n",
       "      <td>invoke-virtual {v3, v4}, Lcom/google/android/g...</td>\n",
       "      <td>invoke-virtual</td>\n",
       "      <td>Lcom/google/android/gms/internal/measurement/z...</td>\n",
       "      <td>zzb</td>\n",
       "      <td>I</td>\n",
       "      <td>Lcom/google/android/gms/internal/measurement/z...</td>\n",
       "      <td>./ToDo List Free To Do Task Lists_v1.3_apkpure...</td>\n",
       "    </tr>\n",
       "    <tr>\n",
       "      <th>32073</th>\n",
       "      <td>invoke-virtual {v1}, Landroid/widget/FrameLayo...</td>\n",
       "      <td>invoke-virtual</td>\n",
       "      <td>Landroid/widget/FrameLayout;</td>\n",
       "      <td>getVisibility</td>\n",
       "      <td></td>\n",
       "      <td>I</td>\n",
       "      <td>./ToDo List Free To Do Task Lists_v1.3_apkpure...</td>\n",
       "    </tr>\n",
       "    <tr>\n",
       "      <th>127340</th>\n",
       "      <td>invoke-virtual {v2, p0}, Ljava/lang/StringBuil...</td>\n",
       "      <td>invoke-virtual</td>\n",
       "      <td>Ljava/lang/StringBuilder;</td>\n",
       "      <td>append</td>\n",
       "      <td>I</td>\n",
       "      <td>Ljava/lang/StringBuilder;</td>\n",
       "      <td>./ToDo List Free To Do Task Lists_v1.3_apkpure...</td>\n",
       "    </tr>\n",
       "    <tr>\n",
       "      <th>51586</th>\n",
       "      <td>invoke-virtual {v0, v1}, Ljava/lang/StringBuil...</td>\n",
       "      <td>invoke-virtual</td>\n",
       "      <td>Ljava/lang/StringBuilder;</td>\n",
       "      <td>append</td>\n",
       "      <td>Ljava/lang/String;</td>\n",
       "      <td>Ljava/lang/StringBuilder;</td>\n",
       "      <td>./ToDo List Free To Do Task Lists_v1.3_apkpure...</td>\n",
       "    </tr>\n",
       "  </tbody>\n",
       "</table>\n",
       "</div>"
      ],
      "text/plain": [
       "                                                     call     invoke_method  \\\n",
       "140217  invoke-virtual {p0}, Lcom/google/android/gms/i...    invoke-virtual   \n",
       "77725   invoke-interface {p1}, Ljava/util/List;->isEmp...  invoke-interface   \n",
       "24610   invoke-virtual {p0, p1}, Landroidx/recyclervie...    invoke-virtual   \n",
       "95244   invoke-direct {p0}, Lcom/google/android/gms/in...     invoke-direct   \n",
       "93234   invoke-virtual {v1, p2, v8}, Lcom/google/andro...    invoke-virtual   \n",
       "31863   invoke-virtual {p0, p2}, Landroidx/appcompat/w...    invoke-virtual   \n",
       "61280   invoke-interface {v9, v0}, Landroid/database/C...  invoke-interface   \n",
       "100565  invoke-static {v0, p2}, Lcom/google/android/gm...     invoke-static   \n",
       "20691   invoke-virtual {p2, p1}, Ljava/io/PrintWriter;...    invoke-virtual   \n",
       "106820  invoke-interface {p1, v2, v3, v0}, Ljava/util/...  invoke-interface   \n",
       "21727   invoke-direct {p0, p1}, Landroidx/recyclerview...     invoke-direct   \n",
       "133738  invoke-virtual {p1}, Lcom/google/android/gms/i...    invoke-virtual   \n",
       "95782   invoke-static {p1}, Ljava/lang/Integer;->value...     invoke-static   \n",
       "132034  invoke-interface {p2, v3}, Lcom/google/android...  invoke-interface   \n",
       "75973   invoke-direct {p0}, Ljava/lang/Object;-><init>()V     invoke-direct   \n",
       "44972   invoke-virtual {p3, p1}, Landroid/os/Parcel;->...    invoke-virtual   \n",
       "57748   invoke-virtual {v3, v4}, Lcom/google/android/g...    invoke-virtual   \n",
       "32073   invoke-virtual {v1}, Landroid/widget/FrameLayo...    invoke-virtual   \n",
       "127340  invoke-virtual {v2, p0}, Ljava/lang/StringBuil...    invoke-virtual   \n",
       "51586   invoke-virtual {v0, v1}, Ljava/lang/StringBuil...    invoke-virtual   \n",
       "\n",
       "                                                    class  \\\n",
       "140217         Lcom/google/android/gms/internal/gtm/zzcm;   \n",
       "77725                                    Ljava/util/List;   \n",
       "24610   Landroidx/recyclerview/widget/RecyclerView$Lay...   \n",
       "95244         Lcom/google/android/gms/internal/ads/zzawi;   \n",
       "93234         Lcom/google/android/gms/internal/ads/zzdri;   \n",
       "31863    Landroidx/appcompat/widget/ToolbarWidgetWrapper;   \n",
       "61280                           Landroid/database/Cursor;   \n",
       "100565        Lcom/google/android/gms/internal/ads/zzbsu;   \n",
       "20691                               Ljava/io/PrintWriter;   \n",
       "106820                      Ljava/util/concurrent/Future;   \n",
       "21727   Landroidx/recyclerview/widget/LinearLayoutMana...   \n",
       "133738  Lcom/google/android/gms/internal/measurement/z...   \n",
       "95782                                 Ljava/lang/Integer;   \n",
       "132034  Lcom/google/android/gms/internal/measurement/z...   \n",
       "75973                                  Ljava/lang/Object;   \n",
       "44972                                 Landroid/os/Parcel;   \n",
       "57748   Lcom/google/android/gms/internal/measurement/z...   \n",
       "32073                        Landroid/widget/FrameLayout;   \n",
       "127340                          Ljava/lang/StringBuilder;   \n",
       "51586                           Ljava/lang/StringBuilder;   \n",
       "\n",
       "                   function  \\\n",
       "140217                 zzfv   \n",
       "77725               isEmpty   \n",
       "24610            removeView   \n",
       "95244                <init>   \n",
       "93234                   zza   \n",
       "31863              setTitle   \n",
       "61280               getLong   \n",
       "100565                  zzb   \n",
       "20691                 print   \n",
       "106820                  get   \n",
       "21727   computeScrollExtent   \n",
       "133738                  zzc   \n",
       "95782               valueOf   \n",
       "132034                  zzm   \n",
       "75973                <init>   \n",
       "44972              writeInt   \n",
       "57748                   zzb   \n",
       "32073         getVisibility   \n",
       "127340               append   \n",
       "51586                append   \n",
       "\n",
       "                                                 argument  \\\n",
       "140217                                                      \n",
       "77725                                                       \n",
       "24610                                 Landroid/view/View;   \n",
       "95244                                                       \n",
       "93234                               Ljava/util/Map$Entry;   \n",
       "31863                            Ljava/lang/CharSequence;   \n",
       "61280                                                   I   \n",
       "100565                    Ljava/util/concurrent/Executor;   \n",
       "20691                                  Ljava/lang/String;   \n",
       "106820                    Ljava/util/concurrent/TimeUnit;   \n",
       "21727   Landroidx/recyclerview/widget/RecyclerView$State;   \n",
       "133738                                                      \n",
       "95782                                                   I   \n",
       "132034                                   Ljava/util/List;   \n",
       "75973                                                       \n",
       "44972                                                   I   \n",
       "57748                                                   I   \n",
       "32073                                                       \n",
       "127340                                                  I   \n",
       "51586                                  Ljava/lang/String;   \n",
       "\n",
       "                                                   return  \\\n",
       "140217                                                  J   \n",
       "77725                                                   Z   \n",
       "24610                                                   V   \n",
       "95244                                                   V   \n",
       "93234                                                   V   \n",
       "31863                                                   V   \n",
       "61280                                                   J   \n",
       "100565        Lcom/google/android/gms/internal/ads/zzbsu;   \n",
       "20691                                                   V   \n",
       "106820                                 Ljava/lang/Object;   \n",
       "21727                                                   I   \n",
       "133738                                                  V   \n",
       "95782                                 Ljava/lang/Integer;   \n",
       "132034                                                  V   \n",
       "75973                                                   V   \n",
       "44972                                                   V   \n",
       "57748   Lcom/google/android/gms/internal/measurement/z...   \n",
       "32073                                                   I   \n",
       "127340                          Ljava/lang/StringBuilder;   \n",
       "51586                           Ljava/lang/StringBuilder;   \n",
       "\n",
       "                                                 filename  \n",
       "140217  ./ToDo List Free To Do Task Lists_v1.3_apkpure...  \n",
       "77725   ./ToDo List Free To Do Task Lists_v1.3_apkpure...  \n",
       "24610   ./ToDo List Free To Do Task Lists_v1.3_apkpure...  \n",
       "95244   ./ToDo List Free To Do Task Lists_v1.3_apkpure...  \n",
       "93234   ./ToDo List Free To Do Task Lists_v1.3_apkpure...  \n",
       "31863   ./ToDo List Free To Do Task Lists_v1.3_apkpure...  \n",
       "61280   ./ToDo List Free To Do Task Lists_v1.3_apkpure...  \n",
       "100565  ./ToDo List Free To Do Task Lists_v1.3_apkpure...  \n",
       "20691   ./ToDo List Free To Do Task Lists_v1.3_apkpure...  \n",
       "106820  ./ToDo List Free To Do Task Lists_v1.3_apkpure...  \n",
       "21727   ./ToDo List Free To Do Task Lists_v1.3_apkpure...  \n",
       "133738  ./ToDo List Free To Do Task Lists_v1.3_apkpure...  \n",
       "95782   ./ToDo List Free To Do Task Lists_v1.3_apkpure...  \n",
       "132034  ./ToDo List Free To Do Task Lists_v1.3_apkpure...  \n",
       "75973   ./ToDo List Free To Do Task Lists_v1.3_apkpure...  \n",
       "44972   ./ToDo List Free To Do Task Lists_v1.3_apkpure...  \n",
       "57748   ./ToDo List Free To Do Task Lists_v1.3_apkpure...  \n",
       "32073   ./ToDo List Free To Do Task Lists_v1.3_apkpure...  \n",
       "127340  ./ToDo List Free To Do Task Lists_v1.3_apkpure...  \n",
       "51586   ./ToDo List Free To Do Task Lists_v1.3_apkpure...  "
      ]
     },
     "execution_count": 102,
     "metadata": {},
     "output_type": "execute_result"
    }
   ],
   "source": [
    "calls.sample(20)"
   ]
  },
  {
   "cell_type": "code",
   "execution_count": 64,
   "metadata": {},
   "outputs": [],
   "source": [
    "a = calls[0].values"
   ]
  },
  {
   "cell_type": "code",
   "execution_count": 79,
   "metadata": {},
   "outputs": [
    {
     "data": {
      "text/plain": [
       "set()"
      ]
     },
     "execution_count": 79,
     "metadata": {},
     "output_type": "execute_result"
    }
   ],
   "source": [
    "set(a) - set([i for i in a if re.search(\n",
    "    '(invoke-\\w+) '  # invoke method\n",
    "    + '{(?:\\w\\d+(?:, \\w\\d+)*)*}, '  # argument registers\n",
    "    + '(\\[?[ZBSCFIJD]|\\[?L[\\w\\/$]+;)'  # library\n",
    "    + '->([\\w$]+|<init>)'  # function name\n",
    "    + '\\((?:\\[*[VZBSCFIJD]|\\[*L[\\w\\/$]+;)*\\)'  # argument types\n",
    "    + '(\\[?[VZBSCFIJD]|\\[?L[\\w\\/$]+;)'  # return value\n",
    "    ,\n",
    "    i\n",
    ")])"
   ]
  },
  {
   "cell_type": "code",
   "execution_count": 288,
   "metadata": {},
   "outputs": [
    {
     "data": {
      "text/plain": [
       "array(['invoke-direct {p0}, Landroidx/transition/PathMotion;-><init>()V',\n",
       "       'invoke-direct',\n",
       "       './ToDo List Free To Do Task Lists_v1.3_apkpure.com/smali/androidx/transition/PatternPathMotion.smali'],\n",
       "      dtype=object)"
      ]
     },
     "execution_count": 288,
     "metadata": {},
     "output_type": "execute_result"
    }
   ],
   "source": [
    "calls_1.iloc[0].values"
   ]
  },
  {
   "cell_type": "code",
   "execution_count": 285,
   "metadata": {},
   "outputs": [
    {
     "data": {
      "text/html": [
       "<div>\n",
       "<style scoped>\n",
       "    .dataframe tbody tr th:only-of-type {\n",
       "        vertical-align: middle;\n",
       "    }\n",
       "\n",
       "    .dataframe tbody tr th {\n",
       "        vertical-align: top;\n",
       "    }\n",
       "\n",
       "    .dataframe thead th {\n",
       "        text-align: right;\n",
       "    }\n",
       "</style>\n",
       "<table border=\"1\" class=\"dataframe\">\n",
       "  <thead>\n",
       "    <tr style=\"text-align: right;\">\n",
       "      <th></th>\n",
       "      <th>0</th>\n",
       "      <th>1</th>\n",
       "      <th>filename</th>\n",
       "    </tr>\n",
       "  </thead>\n",
       "  <tbody>\n",
       "    <tr>\n",
       "      <th>0</th>\n",
       "      <td>invoke-direct {p0}, Landroidx/transition/PathM...</td>\n",
       "      <td>invoke-direct</td>\n",
       "      <td>./ToDo List Free To Do Task Lists_v1.3_apkpure...</td>\n",
       "    </tr>\n",
       "    <tr>\n",
       "      <th>1</th>\n",
       "      <td>invoke-direct {v0}, Landroid/graphics/Path;-&gt;&lt;...</td>\n",
       "      <td>invoke-direct</td>\n",
       "      <td>./ToDo List Free To Do Task Lists_v1.3_apkpure...</td>\n",
       "    </tr>\n",
       "    <tr>\n",
       "      <th>2</th>\n",
       "      <td>invoke-direct {v0}, Landroid/graphics/Matrix;-...</td>\n",
       "      <td>invoke-direct</td>\n",
       "      <td>./ToDo List Free To Do Task Lists_v1.3_apkpure...</td>\n",
       "    </tr>\n",
       "    <tr>\n",
       "      <th>3</th>\n",
       "      <td>invoke-virtual {v0, v1, v2}, Landroid/graphics...</td>\n",
       "      <td>invoke-virtual</td>\n",
       "      <td>./ToDo List Free To Do Task Lists_v1.3_apkpure...</td>\n",
       "    </tr>\n",
       "    <tr>\n",
       "      <th>4</th>\n",
       "      <td>invoke-direct {p0}, Landroidx/transition/PathM...</td>\n",
       "      <td>invoke-direct</td>\n",
       "      <td>./ToDo List Free To Do Task Lists_v1.3_apkpure...</td>\n",
       "    </tr>\n",
       "    <tr>\n",
       "      <th>...</th>\n",
       "      <td>...</td>\n",
       "      <td>...</td>\n",
       "      <td>...</td>\n",
       "    </tr>\n",
       "    <tr>\n",
       "      <th>155373</th>\n",
       "      <td>invoke-direct {p0, p1, v0, v1, v2}, Landroid/d...</td>\n",
       "      <td>invoke-direct</td>\n",
       "      <td>./ToDo List Free To Do Task Lists_v1.3_apkpure...</td>\n",
       "    </tr>\n",
       "    <tr>\n",
       "      <th>155374</th>\n",
       "      <td>invoke-direct {v1, p0}, Lcom/komorebi/multitod...</td>\n",
       "      <td>invoke-direct</td>\n",
       "      <td>./ToDo List Free To Do Task Lists_v1.3_apkpure...</td>\n",
       "    </tr>\n",
       "    <tr>\n",
       "      <th>155375</th>\n",
       "      <td>invoke-virtual {p1, v0}, Landroid/database/sql...</td>\n",
       "      <td>invoke-virtual</td>\n",
       "      <td>./ToDo List Free To Do Task Lists_v1.3_apkpure...</td>\n",
       "    </tr>\n",
       "    <tr>\n",
       "      <th>155376</th>\n",
       "      <td>invoke-virtual {p1, p2}, Landroid/database/sql...</td>\n",
       "      <td>invoke-virtual</td>\n",
       "      <td>./ToDo List Free To Do Task Lists_v1.3_apkpure...</td>\n",
       "    </tr>\n",
       "    <tr>\n",
       "      <th>155377</th>\n",
       "      <td>invoke-virtual {p1, p2}, Landroid/database/sql...</td>\n",
       "      <td>invoke-virtual</td>\n",
       "      <td>./ToDo List Free To Do Task Lists_v1.3_apkpure...</td>\n",
       "    </tr>\n",
       "  </tbody>\n",
       "</table>\n",
       "<p>155378 rows × 3 columns</p>\n",
       "</div>"
      ],
      "text/plain": [
       "                                                        0               1  \\\n",
       "0       invoke-direct {p0}, Landroidx/transition/PathM...   invoke-direct   \n",
       "1       invoke-direct {v0}, Landroid/graphics/Path;-><...   invoke-direct   \n",
       "2       invoke-direct {v0}, Landroid/graphics/Matrix;-...   invoke-direct   \n",
       "3       invoke-virtual {v0, v1, v2}, Landroid/graphics...  invoke-virtual   \n",
       "4       invoke-direct {p0}, Landroidx/transition/PathM...   invoke-direct   \n",
       "...                                                   ...             ...   \n",
       "155373  invoke-direct {p0, p1, v0, v1, v2}, Landroid/d...   invoke-direct   \n",
       "155374  invoke-direct {v1, p0}, Lcom/komorebi/multitod...   invoke-direct   \n",
       "155375  invoke-virtual {p1, v0}, Landroid/database/sql...  invoke-virtual   \n",
       "155376  invoke-virtual {p1, p2}, Landroid/database/sql...  invoke-virtual   \n",
       "155377  invoke-virtual {p1, p2}, Landroid/database/sql...  invoke-virtual   \n",
       "\n",
       "                                                 filename  \n",
       "0       ./ToDo List Free To Do Task Lists_v1.3_apkpure...  \n",
       "1       ./ToDo List Free To Do Task Lists_v1.3_apkpure...  \n",
       "2       ./ToDo List Free To Do Task Lists_v1.3_apkpure...  \n",
       "3       ./ToDo List Free To Do Task Lists_v1.3_apkpure...  \n",
       "4       ./ToDo List Free To Do Task Lists_v1.3_apkpure...  \n",
       "...                                                   ...  \n",
       "155373  ./ToDo List Free To Do Task Lists_v1.3_apkpure...  \n",
       "155374  ./ToDo List Free To Do Task Lists_v1.3_apkpure...  \n",
       "155375  ./ToDo List Free To Do Task Lists_v1.3_apkpure...  \n",
       "155376  ./ToDo List Free To Do Task Lists_v1.3_apkpure...  \n",
       "155377  ./ToDo List Free To Do Task Lists_v1.3_apkpure...  \n",
       "\n",
       "[155378 rows x 3 columns]"
      ]
     },
     "execution_count": 285,
     "metadata": {},
     "output_type": "execute_result"
    }
   ],
   "source": [
    "calls_1"
   ]
  },
  {
   "cell_type": "code",
   "execution_count": 292,
   "metadata": {},
   "outputs": [
    {
     "data": {
      "text/html": [
       "<div>\n",
       "<style scoped>\n",
       "    .dataframe tbody tr th:only-of-type {\n",
       "        vertical-align: middle;\n",
       "    }\n",
       "\n",
       "    .dataframe tbody tr th {\n",
       "        vertical-align: top;\n",
       "    }\n",
       "\n",
       "    .dataframe thead th {\n",
       "        text-align: right;\n",
       "    }\n",
       "</style>\n",
       "<table border=\"1\" class=\"dataframe\">\n",
       "  <thead>\n",
       "    <tr style=\"text-align: right;\">\n",
       "      <th></th>\n",
       "      <th>0</th>\n",
       "      <th>1</th>\n",
       "      <th>filename</th>\n",
       "    </tr>\n",
       "  </thead>\n",
       "  <tbody>\n",
       "    <tr>\n",
       "      <th>0</th>\n",
       "      <td>invoke-direct {p0}, Landroidx/transition/PathM...</td>\n",
       "      <td>invoke-direct</td>\n",
       "      <td>./ToDo List Free To Do Task Lists_v1.3_apkpure...</td>\n",
       "    </tr>\n",
       "    <tr>\n",
       "      <th>1</th>\n",
       "      <td>invoke-direct {v0}, Landroid/graphics/Path;-&gt;&lt;...</td>\n",
       "      <td>invoke-direct</td>\n",
       "      <td>./ToDo List Free To Do Task Lists_v1.3_apkpure...</td>\n",
       "    </tr>\n",
       "    <tr>\n",
       "      <th>2</th>\n",
       "      <td>invoke-direct {v0}, Landroid/graphics/Matrix;-...</td>\n",
       "      <td>invoke-direct</td>\n",
       "      <td>./ToDo List Free To Do Task Lists_v1.3_apkpure...</td>\n",
       "    </tr>\n",
       "    <tr>\n",
       "      <th>3</th>\n",
       "      <td>invoke-virtual {v0, v1, v2}, Landroid/graphics...</td>\n",
       "      <td>invoke-virtual</td>\n",
       "      <td>./ToDo List Free To Do Task Lists_v1.3_apkpure...</td>\n",
       "    </tr>\n",
       "    <tr>\n",
       "      <th>7</th>\n",
       "      <td>invoke-virtual {p1, p2, v0}, Landroid/content/...</td>\n",
       "      <td>invoke-virtual</td>\n",
       "      <td>./ToDo List Free To Do Task Lists_v1.3_apkpure...</td>\n",
       "    </tr>\n",
       "    <tr>\n",
       "      <th>...</th>\n",
       "      <td>...</td>\n",
       "      <td>...</td>\n",
       "      <td>...</td>\n",
       "    </tr>\n",
       "    <tr>\n",
       "      <th>166288</th>\n",
       "      <td>invoke-virtual {p2, p1, v0, v1, v2}, Landroid/...</td>\n",
       "      <td>invoke-virtual</td>\n",
       "      <td>./ToDo List Free To Do Task Lists_v1.3_apkpure...</td>\n",
       "    </tr>\n",
       "    <tr>\n",
       "      <th>166292</th>\n",
       "      <td>invoke-direct {p0, p1, v0, v1, v2}, Landroid/d...</td>\n",
       "      <td>invoke-direct</td>\n",
       "      <td>./ToDo List Free To Do Task Lists_v1.3_apkpure...</td>\n",
       "    </tr>\n",
       "    <tr>\n",
       "      <th>166293</th>\n",
       "      <td>invoke-direct {v1, p0}, Lcom/komorebi/multitod...</td>\n",
       "      <td>invoke-direct</td>\n",
       "      <td>./ToDo List Free To Do Task Lists_v1.3_apkpure...</td>\n",
       "    </tr>\n",
       "    <tr>\n",
       "      <th>166294</th>\n",
       "      <td>invoke-virtual {p1, v0}, Landroid/database/sql...</td>\n",
       "      <td>invoke-virtual</td>\n",
       "      <td>./ToDo List Free To Do Task Lists_v1.3_apkpure...</td>\n",
       "    </tr>\n",
       "    <tr>\n",
       "      <th>166295</th>\n",
       "      <td>invoke-virtual {p1, p2}, Landroid/database/sql...</td>\n",
       "      <td>invoke-virtual</td>\n",
       "      <td>./ToDo List Free To Do Task Lists_v1.3_apkpure...</td>\n",
       "    </tr>\n",
       "  </tbody>\n",
       "</table>\n",
       "<p>115947 rows × 3 columns</p>\n",
       "</div>"
      ],
      "text/plain": [
       "                                                        0               1  \\\n",
       "0       invoke-direct {p0}, Landroidx/transition/PathM...   invoke-direct   \n",
       "1       invoke-direct {v0}, Landroid/graphics/Path;-><...   invoke-direct   \n",
       "2       invoke-direct {v0}, Landroid/graphics/Matrix;-...   invoke-direct   \n",
       "3       invoke-virtual {v0, v1, v2}, Landroid/graphics...  invoke-virtual   \n",
       "7       invoke-virtual {p1, p2, v0}, Landroid/content/...  invoke-virtual   \n",
       "...                                                   ...             ...   \n",
       "166288  invoke-virtual {p2, p1, v0, v1, v2}, Landroid/...  invoke-virtual   \n",
       "166292  invoke-direct {p0, p1, v0, v1, v2}, Landroid/d...   invoke-direct   \n",
       "166293  invoke-direct {v1, p0}, Lcom/komorebi/multitod...   invoke-direct   \n",
       "166294  invoke-virtual {p1, v0}, Landroid/database/sql...  invoke-virtual   \n",
       "166295  invoke-virtual {p1, p2}, Landroid/database/sql...  invoke-virtual   \n",
       "\n",
       "                                                 filename  \n",
       "0       ./ToDo List Free To Do Task Lists_v1.3_apkpure...  \n",
       "1       ./ToDo List Free To Do Task Lists_v1.3_apkpure...  \n",
       "2       ./ToDo List Free To Do Task Lists_v1.3_apkpure...  \n",
       "3       ./ToDo List Free To Do Task Lists_v1.3_apkpure...  \n",
       "7       ./ToDo List Free To Do Task Lists_v1.3_apkpure...  \n",
       "...                                                   ...  \n",
       "166288  ./ToDo List Free To Do Task Lists_v1.3_apkpure...  \n",
       "166292  ./ToDo List Free To Do Task Lists_v1.3_apkpure...  \n",
       "166293  ./ToDo List Free To Do Task Lists_v1.3_apkpure...  \n",
       "166294  ./ToDo List Free To Do Task Lists_v1.3_apkpure...  \n",
       "166295  ./ToDo List Free To Do Task Lists_v1.3_apkpure...  \n",
       "\n",
       "[115947 rows x 3 columns]"
      ]
     },
     "execution_count": 292,
     "metadata": {},
     "output_type": "execute_result"
    }
   ],
   "source": [
    "pd.concat([calls, calls_1], ignore_index=True).drop_duplicates()"
   ]
  },
  {
   "cell_type": "code",
   "execution_count": 247,
   "metadata": {},
   "outputs": [
    {
     "data": {
      "text/html": [
       "<div>\n",
       "<style scoped>\n",
       "    .dataframe tbody tr th:only-of-type {\n",
       "        vertical-align: middle;\n",
       "    }\n",
       "\n",
       "    .dataframe tbody tr th {\n",
       "        vertical-align: top;\n",
       "    }\n",
       "\n",
       "    .dataframe thead th {\n",
       "        text-align: right;\n",
       "    }\n",
       "</style>\n",
       "<table border=\"1\" class=\"dataframe\">\n",
       "  <thead>\n",
       "    <tr style=\"text-align: right;\">\n",
       "      <th></th>\n",
       "      <th>0</th>\n",
       "      <th>1</th>\n",
       "      <th>2</th>\n",
       "      <th>3</th>\n",
       "      <th>4</th>\n",
       "      <th>filename</th>\n",
       "    </tr>\n",
       "  </thead>\n",
       "  <tbody>\n",
       "    <tr>\n",
       "      <th>0</th>\n",
       "      <td>invoke-direct</td>\n",
       "      <td>Landroidx/transition/PathMotion;</td>\n",
       "      <td>&lt;init&gt;</td>\n",
       "      <td></td>\n",
       "      <td>V</td>\n",
       "      <td>./ToDo List Free To Do Task Lists_v1.3_apkpure...</td>\n",
       "    </tr>\n",
       "    <tr>\n",
       "      <th>1</th>\n",
       "      <td>invoke-direct</td>\n",
       "      <td>Landroid/graphics/Path;</td>\n",
       "      <td>&lt;init&gt;</td>\n",
       "      <td></td>\n",
       "      <td>V</td>\n",
       "      <td>./ToDo List Free To Do Task Lists_v1.3_apkpure...</td>\n",
       "    </tr>\n",
       "    <tr>\n",
       "      <th>2</th>\n",
       "      <td>invoke-direct</td>\n",
       "      <td>Landroid/graphics/Matrix;</td>\n",
       "      <td>&lt;init&gt;</td>\n",
       "      <td></td>\n",
       "      <td>V</td>\n",
       "      <td>./ToDo List Free To Do Task Lists_v1.3_apkpure...</td>\n",
       "    </tr>\n",
       "    <tr>\n",
       "      <th>3</th>\n",
       "      <td>invoke-virtual</td>\n",
       "      <td>Landroid/graphics/Path;</td>\n",
       "      <td>lineTo</td>\n",
       "      <td>FF</td>\n",
       "      <td>V</td>\n",
       "      <td>./ToDo List Free To Do Task Lists_v1.3_apkpure...</td>\n",
       "    </tr>\n",
       "    <tr>\n",
       "      <th>4</th>\n",
       "      <td>invoke-direct</td>\n",
       "      <td>Landroidx/transition/PathMotion;</td>\n",
       "      <td>&lt;init&gt;</td>\n",
       "      <td></td>\n",
       "      <td>V</td>\n",
       "      <td>./ToDo List Free To Do Task Lists_v1.3_apkpure...</td>\n",
       "    </tr>\n",
       "  </tbody>\n",
       "</table>\n",
       "</div>"
      ],
      "text/plain": [
       "                0                                 1       2   3  4  \\\n",
       "0   invoke-direct  Landroidx/transition/PathMotion;  <init>      V   \n",
       "1   invoke-direct           Landroid/graphics/Path;  <init>      V   \n",
       "2   invoke-direct         Landroid/graphics/Matrix;  <init>      V   \n",
       "3  invoke-virtual           Landroid/graphics/Path;  lineTo  FF  V   \n",
       "4   invoke-direct  Landroidx/transition/PathMotion;  <init>      V   \n",
       "\n",
       "                                            filename  \n",
       "0  ./ToDo List Free To Do Task Lists_v1.3_apkpure...  \n",
       "1  ./ToDo List Free To Do Task Lists_v1.3_apkpure...  \n",
       "2  ./ToDo List Free To Do Task Lists_v1.3_apkpure...  \n",
       "3  ./ToDo List Free To Do Task Lists_v1.3_apkpure...  \n",
       "4  ./ToDo List Free To Do Task Lists_v1.3_apkpure...  "
      ]
     },
     "execution_count": 247,
     "metadata": {},
     "output_type": "execute_result"
    }
   ],
   "source": [
    "calls.head()"
   ]
  },
  {
   "cell_type": "code",
   "execution_count": 146,
   "metadata": {
    "scrolled": true
   },
   "outputs": [
    {
     "data": {
      "text/plain": [
       "Ljava/lang/StringBuilder;->append                                           3349\n",
       "Ljava/lang/String;->valueOf                                                 1420\n",
       "Ljava/lang/String;->length                                                  1128\n",
       "Lcom/google/android/gms/internal/ads/zzdxp;->get                            1042\n",
       "Ljava/lang/StringBuilder;->toString                                          850\n",
       "Ljava/lang/Integer;->valueOf                                                 785\n",
       "Ljava/lang/String;->equals                                                   764\n",
       "Ljava/util/Iterator;->next                                                   677\n",
       "Ljava/util/Iterator;->hasNext                                                663\n",
       "Lcom/google/android/gms/measurement/internal/zzey;->zza                      656\n",
       "Ljava/util/Map;->get                                                         524\n",
       "Ljava/util/Map;->put                                                         514\n",
       "Lcom/google/android/gms/internal/ads/zzdxd;->zzan                            512\n",
       "Ljava/lang/Boolean;->valueOf                                                 507\n",
       "Lcom/google/android/gms/internal/ads/zzgc;->obtainAndWriteInterfaceToken     503\n",
       "Name: class->function, dtype: int64"
      ]
     },
     "execution_count": 146,
     "metadata": {},
     "output_type": "execute_result"
    }
   ],
   "source": [
    "calls['class->function'].value_counts()[:15]"
   ]
  },
  {
   "cell_type": "code",
   "execution_count": 239,
   "metadata": {},
   "outputs": [],
   "source": [
    "def extract_methods(fn):\n",
    "    with open(fn) as f:\n",
    "        pattern = '\\.method[\\s\\S]+?(?=\\.end method)'\n",
    "        data = re.findall(pattern, f.read())\n",
    "        if len(data) == 0: return None\n",
    "    return [(fn, d) for d in data]"
   ]
  },
  {
   "cell_type": "code",
   "execution_count": 240,
   "metadata": {},
   "outputs": [],
   "source": [
    "with Pool(8) as p:\n",
    "    r = list(p.map(extract_methods, smali_fns))\n",
    "r = [i for i in r if i is not None]\n",
    "\n",
    "methods = reduce(lambda x, y: x+y, r)"
   ]
  },
  {
   "cell_type": "code",
   "execution_count": 241,
   "metadata": {},
   "outputs": [
    {
     "data": {
      "text/plain": [
       "50742"
      ]
     },
     "execution_count": 241,
     "metadata": {},
     "output_type": "execute_result"
    }
   ],
   "source": [
    "len(methods)"
   ]
  },
  {
   "cell_type": "code",
   "execution_count": 242,
   "metadata": {},
   "outputs": [
    {
     "data": {
      "text/plain": [
       "'.method public constructor <init>()V\\n    .locals 3\\n\\n    .line 53\\n    invoke-direct {p0}, Landroidx/transition/PathMotion;-><init>()V\\n\\n    .line 46\\n    new-instance v0, Landroid/graphics/Path;\\n\\n    invoke-direct {v0}, Landroid/graphics/Path;-><init>()V\\n\\n    iput-object v0, p0, Landroidx/transition/PatternPathMotion;->mPatternPath:Landroid/graphics/Path;\\n\\n    .line 48\\n    new-instance v0, Landroid/graphics/Matrix;\\n\\n    invoke-direct {v0}, Landroid/graphics/Matrix;-><init>()V\\n\\n    iput-object v0, p0, Landroidx/transition/PatternPathMotion;->mTempMatrix:Landroid/graphics/Matrix;\\n\\n    .line 54\\n    iget-object v0, p0, Landroidx/transition/PatternPathMotion;->mPatternPath:Landroid/graphics/Path;\\n\\n    const/high16 v1, 0x3f800000    # 1.0f\\n\\n    const/4 v2, 0x0\\n\\n    invoke-virtual {v0, v1, v2}, Landroid/graphics/Path;->lineTo(FF)V\\n\\n    .line 55\\n    iget-object v0, p0, Landroidx/transition/PatternPathMotion;->mPatternPath:Landroid/graphics/Path;\\n\\n    iput-object v0, p0, Landroidx/transition/PatternPathMotion;->mOriginalPatternPath:Landroid/graphics/Path;\\n\\n    return-void\\n'"
      ]
     },
     "execution_count": 242,
     "metadata": {},
     "output_type": "execute_result"
    }
   ],
   "source": [
    "methods[0][1]"
   ]
  },
  {
   "cell_type": "code",
   "execution_count": null,
   "metadata": {},
   "outputs": [],
   "source": []
  },
  {
   "cell_type": "code",
   "execution_count": null,
   "metadata": {},
   "outputs": [],
   "source": [
    "'\\.method (\\w+)( \\w+)? ([\\w\\d$]+|<init>|<clinit>)\\(((?:[VZBSCFIJD]|L[a-zA-Z$\\/]+;)*)\\)([VZBSCFIJD]|L[a-zA-Z$\\/]+;)[\\s\\S]+?(?=\\.end method)'"
   ]
  },
  {
   "cell_type": "code",
   "execution_count": null,
   "metadata": {},
   "outputs": [],
   "source": [
    "'(invoke-\\w+) \\{\\w\\d(?:, \\w\\d)*}, (L[a-zA-Z0-9$\\/$]+;)->(\\w+|<init>)\\(((?:[VZBSCFIJD]|L[a-zA-Z$\\/]+;)*)\\)([VZBSCFIJD]|L[a-zA-Z$\\/]+;)'"
   ]
  },
  {
   "cell_type": "code",
   "execution_count": null,
   "metadata": {},
   "outputs": [],
   "source": []
  },
  {
   "cell_type": "code",
   "execution_count": null,
   "metadata": {},
   "outputs": [],
   "source": []
  },
  {
   "cell_type": "code",
   "execution_count": 126,
   "metadata": {},
   "outputs": [],
   "source": [
    "def extract_class(fn):\n",
    "    with open(fn) as f:\n",
    "        pattern = '\\.class ([a-z]+) (L[a-zA-Z0-9$\\/$]+;)\\n\\.super (L[a-zA-Z0-9$\\/$]+;)'\n",
    "        data = re.findall(pattern, f.read())\n",
    "        if len(data) == 0: return pd.DataFrame()\n",
    "        df = pd.DataFrame(data, columns=['class_type', 'class_name', 'class_super'])\n",
    "        df['filename'] = fn\n",
    "    return df"
   ]
  },
  {
   "cell_type": "code",
   "execution_count": 127,
   "metadata": {},
   "outputs": [],
   "source": [
    "with Pool(8) as p:\n",
    "    r = list(p.map(extract_class, smali_fns))\n",
    "    \n",
    "classes = pd.concat(r, ignore_index=True)"
   ]
  },
  {
   "cell_type": "code",
   "execution_count": 128,
   "metadata": {},
   "outputs": [
    {
     "data": {
      "text/html": [
       "<div>\n",
       "<style scoped>\n",
       "    .dataframe tbody tr th:only-of-type {\n",
       "        vertical-align: middle;\n",
       "    }\n",
       "\n",
       "    .dataframe tbody tr th {\n",
       "        vertical-align: top;\n",
       "    }\n",
       "\n",
       "    .dataframe thead th {\n",
       "        text-align: right;\n",
       "    }\n",
       "</style>\n",
       "<table border=\"1\" class=\"dataframe\">\n",
       "  <thead>\n",
       "    <tr style=\"text-align: right;\">\n",
       "      <th></th>\n",
       "      <th>class_type</th>\n",
       "      <th>class_name</th>\n",
       "      <th>class_super</th>\n",
       "      <th>filename</th>\n",
       "    </tr>\n",
       "  </thead>\n",
       "  <tbody>\n",
       "    <tr>\n",
       "      <th>0</th>\n",
       "      <td>public</td>\n",
       "      <td>Landroidx/transition/PatternPathMotion;</td>\n",
       "      <td>Landroidx/transition/PathMotion;</td>\n",
       "      <td>./ToDo List Free To Do Task Lists_v1.3_apkpure...</td>\n",
       "    </tr>\n",
       "    <tr>\n",
       "      <th>1</th>\n",
       "      <td>abstract</td>\n",
       "      <td>Landroidx/transition/Slide$CalculateSlideHoriz...</td>\n",
       "      <td>Ljava/lang/Object;</td>\n",
       "      <td>./ToDo List Free To Do Task Lists_v1.3_apkpure...</td>\n",
       "    </tr>\n",
       "    <tr>\n",
       "      <th>2</th>\n",
       "      <td>public</td>\n",
       "      <td>Landroidx/transition/AutoTransition;</td>\n",
       "      <td>Landroidx/transition/TransitionSet;</td>\n",
       "      <td>./ToDo List Free To Do Task Lists_v1.3_apkpure...</td>\n",
       "    </tr>\n",
       "    <tr>\n",
       "      <th>3</th>\n",
       "      <td>final</td>\n",
       "      <td>Landroidx/transition/ImageViewUtils$1;</td>\n",
       "      <td>Landroid/animation/AnimatorListenerAdapter;</td>\n",
       "      <td>./ToDo List Free To Do Task Lists_v1.3_apkpure...</td>\n",
       "    </tr>\n",
       "    <tr>\n",
       "      <th>4</th>\n",
       "      <td>public</td>\n",
       "      <td>Landroidx/transition/TransitionInflater;</td>\n",
       "      <td>Ljava/lang/Object;</td>\n",
       "      <td>./ToDo List Free To Do Task Lists_v1.3_apkpure...</td>\n",
       "    </tr>\n",
       "  </tbody>\n",
       "</table>\n",
       "</div>"
      ],
      "text/plain": [
       "  class_type                                         class_name  \\\n",
       "0     public            Landroidx/transition/PatternPathMotion;   \n",
       "1   abstract  Landroidx/transition/Slide$CalculateSlideHoriz...   \n",
       "2     public               Landroidx/transition/AutoTransition;   \n",
       "3      final             Landroidx/transition/ImageViewUtils$1;   \n",
       "4     public           Landroidx/transition/TransitionInflater;   \n",
       "\n",
       "                                   class_super  \\\n",
       "0             Landroidx/transition/PathMotion;   \n",
       "1                           Ljava/lang/Object;   \n",
       "2          Landroidx/transition/TransitionSet;   \n",
       "3  Landroid/animation/AnimatorListenerAdapter;   \n",
       "4                           Ljava/lang/Object;   \n",
       "\n",
       "                                            filename  \n",
       "0  ./ToDo List Free To Do Task Lists_v1.3_apkpure...  \n",
       "1  ./ToDo List Free To Do Task Lists_v1.3_apkpure...  \n",
       "2  ./ToDo List Free To Do Task Lists_v1.3_apkpure...  \n",
       "3  ./ToDo List Free To Do Task Lists_v1.3_apkpure...  \n",
       "4  ./ToDo List Free To Do Task Lists_v1.3_apkpure...  "
      ]
     },
     "execution_count": 128,
     "metadata": {},
     "output_type": "execute_result"
    }
   ],
   "source": [
    "classes.head()"
   ]
  },
  {
   "cell_type": "code",
   "execution_count": 129,
   "metadata": {},
   "outputs": [
    {
     "data": {
      "text/plain": [
       "array(['public', 'abstract', 'final', 'synthetic'], dtype=object)"
      ]
     },
     "execution_count": 129,
     "metadata": {},
     "output_type": "execute_result"
    }
   ],
   "source": [
    "classes.class_type.unique()"
   ]
  },
  {
   "cell_type": "code",
   "execution_count": 42,
   "metadata": {},
   "outputs": [],
   "source": [
    "inheritance = nx.DiGraph()"
   ]
  },
  {
   "cell_type": "code",
   "execution_count": 43,
   "metadata": {},
   "outputs": [],
   "source": [
    "for i, row in classes.iterrows():\n",
    "    inheritance.add_edge(row['super_class'], row['class'])"
   ]
  },
  {
   "cell_type": "code",
   "execution_count": 63,
   "metadata": {},
   "outputs": [
    {
     "data": {
      "text/plain": [
       "1538"
      ]
     },
     "execution_count": 63,
     "metadata": {},
     "output_type": "execute_result"
    }
   ],
   "source": [
    "inheritance.out_degree('Ljava/lang/Object;')"
   ]
  },
  {
   "cell_type": "code",
   "execution_count": 96,
   "metadata": {},
   "outputs": [
    {
     "data": {
      "image/png": "[encoded data removed]",
      "text/plain": [
       "<Figure size 1080x864 with 1 Axes>"
      ]
     },
     "metadata": {},
     "output_type": "display_data"
    }
   ],
   "source": [
    "plt.subplots(figsize=(15, 12))\n",
    "nx.draw(nx.dfs_tree(inheritance, source='Landroidx/transition/PathMotion;', depth_limit=2), with_labels=True)"
   ]
  },
  {
   "cell_type": "code",
   "execution_count": 92,
   "metadata": {},
   "outputs": [
    {
     "data": {
      "text/plain": [
       "Ljava/lang/Object;                                       0.571110\n",
       "Lcom/google/android/gms/internal/measurement/zzx$zza;    0.013739\n",
       "Lcom/google/android/gms/tagmanager/zzbq;                 0.011883\n",
       "Landroid/util/Property;                                  0.006313\n",
       "Landroid/view/ViewGroup;                                 0.006313\n",
       "                                                           ...   \n",
       "Lcom/google/android/gms/internal/ads/zzyo;               0.000371\n",
       "Lcom/google/android/gms/internal/ads/zzck;               0.000371\n",
       "Lcom/google/android/gms/internal/ads/zzdfo;              0.000371\n",
       "Lcom/google/android/gms/internal/ads/zzdpy;              0.000371\n",
       "Lcom/google/android/gms/internal/ads/zzdig;              0.000371\n",
       "Length: 2694, dtype: float64"
      ]
     },
     "execution_count": 92,
     "metadata": {},
     "output_type": "execute_result"
    }
   ],
   "source": [
    "pd.Series(nx.algorithms.centrality.degree_centrality(inheritance)).sort_values(ascending=False)"
   ]
  }
 ],
 "metadata": {
  "kernelspec": {
   "display_name": "Python [conda env:dsc180]",
   "language": "python",
   "name": "conda-env-dsc180-py"
  },
  "language_info": {
   "codemirror_mode": {
    "name": "ipython",
    "version": 3
   },
   "file_extension": ".py",
   "mimetype": "text/x-python",
   "name": "python",
   "nbconvert_exporter": "python",
   "pygments_lexer": "ipython3",
   "version": "3.8.1"
  }
 },
 "nbformat": 4,
 "nbformat_minor": 2
}
